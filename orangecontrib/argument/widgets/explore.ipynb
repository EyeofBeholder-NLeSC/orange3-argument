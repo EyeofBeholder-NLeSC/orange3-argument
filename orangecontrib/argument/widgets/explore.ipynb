{
 "cells": [
  {
   "cell_type": "code",
   "execution_count": 1,
   "metadata": {},
   "outputs": [],
   "source": [
    "from orangecontrib.argument.miner.miner import ArgumentMiner\n",
    "\n",
    "url = 'https://raw.githubusercontent.com/EyeofBeholder-NLeSC/orange3-argument/main/example/data/data_processed_1prod_sample.json'"
   ]
  },
  {
   "cell_type": "code",
   "execution_count": 2,
   "metadata": {},
   "outputs": [],
   "source": [
    "miner = ArgumentMiner(url)\n",
    "miner.load_nlp_pipeline()\n",
    "miner.load_word_vector_model()\n",
    "miner.compute_ranks_and_readability()\n",
    "miner.compute_clusters_and_weights()"
   ]
  },
  {
   "cell_type": "code",
   "execution_count": 3,
   "metadata": {},
   "outputs": [],
   "source": [
    "miner.compute_edge_table(50)\n",
    "miner.compute_node_table()"
   ]
  },
  {
   "cell_type": "code",
   "execution_count": 15,
   "metadata": {},
   "outputs": [],
   "source": [
    "df_edge = miner.df_edge\n",
    "df_node = miner.df_node\n",
    "df_edge['weight'] = (df_edge['weight'] - df_edge['weight'].min()) \\\n",
    "            / (df_edge['weight'].max() - df_edge['weight'].min())"
   ]
  },
  {
   "cell_type": "code",
   "execution_count": 16,
   "metadata": {},
   "outputs": [],
   "source": [
    "import networkx as nx\n",
    "\n",
    "G = nx.from_pandas_edgelist(\n",
    "    df_edge, \n",
    "    source='source', target='target', edge_attr=['weight'], \n",
    "    create_using=nx.DiGraph())"
   ]
  },
  {
   "cell_type": "code",
   "execution_count": 17,
   "metadata": {},
   "outputs": [
    {
     "data": {
      "text/plain": [
       "NodeView((3, 5, 6, 7, 8, 9, 10, 11, 12, 13, 14, 15, 16, 17, 18, 19, 20, 21, 22))"
      ]
     },
     "execution_count": 17,
     "metadata": {},
     "output_type": "execute_result"
    }
   ],
   "source": [
    "G.nodes"
   ]
  },
  {
   "cell_type": "code",
   "execution_count": 18,
   "metadata": {},
   "outputs": [],
   "source": [
    "G.add_nodes_from(miner.df_node.iloc[~miner.df_node.index.isin(G.nodes)].index.tolist())"
   ]
  },
  {
   "cell_type": "code",
   "execution_count": 19,
   "metadata": {},
   "outputs": [
    {
     "data": {
      "text/plain": [
       "NodeView((3, 5, 6, 7, 8, 9, 10, 11, 12, 13, 14, 15, 16, 17, 18, 19, 20, 21, 22, 0, 1, 2, 4))"
      ]
     },
     "execution_count": 19,
     "metadata": {},
     "output_type": "execute_result"
    }
   ],
   "source": [
    "G.nodes"
   ]
  },
  {
   "cell_type": "code",
   "execution_count": 20,
   "metadata": {},
   "outputs": [
    {
     "data": {
      "text/plain": [
       "OutEdgeView([(3, 5), (3, 6), (3, 7), (3, 8), (3, 9), (3, 10), (3, 11), (3, 12), (3, 13), (3, 14), (3, 15), (3, 16), (3, 17), (3, 18), (3, 19), (3, 20), (3, 21), (3, 22)])"
      ]
     },
     "execution_count": 20,
     "metadata": {},
     "output_type": "execute_result"
    }
   ],
   "source": [
    "G.edges"
   ]
  },
  {
   "cell_type": "code",
   "execution_count": 21,
   "metadata": {},
   "outputs": [
    {
     "data": {
      "text/plain": [
       "{3: array([nan, nan]),\n",
       " 5: array([nan, nan]),\n",
       " 6: array([nan, nan]),\n",
       " 7: array([nan, nan]),\n",
       " 8: array([nan, nan]),\n",
       " 9: array([nan, nan]),\n",
       " 10: array([nan, nan]),\n",
       " 11: array([nan, nan]),\n",
       " 12: array([nan, nan]),\n",
       " 13: array([nan, nan]),\n",
       " 14: array([nan, nan]),\n",
       " 15: array([nan, nan]),\n",
       " 16: array([nan, nan]),\n",
       " 17: array([nan, nan]),\n",
       " 18: array([nan, nan]),\n",
       " 19: array([nan, nan]),\n",
       " 20: array([nan, nan]),\n",
       " 21: array([nan, nan]),\n",
       " 22: array([nan, nan]),\n",
       " 0: array([nan, nan]),\n",
       " 1: array([nan, nan]),\n",
       " 2: array([nan, nan]),\n",
       " 4: array([nan, nan])}"
      ]
     },
     "execution_count": 21,
     "metadata": {},
     "output_type": "execute_result"
    }
   ],
   "source": [
    "pos_dict = nx.spring_layout(G, k=1/11.0, seed=10)\n",
    "pos_dict"
   ]
  },
  {
   "cell_type": "code",
   "execution_count": 114,
   "metadata": {},
   "outputs": [
    {
     "name": "stdout",
     "output_type": "stream",
     "text": [
      "Package                  Version     Editable project location\n",
      "------------------------ ----------- -----------------------------------------\n",
      "anyio                    3.6.2\n",
      "AnyQt                    0.2.0\n",
      "argon2-cffi              21.3.0\n",
      "argon2-cffi-bindings     21.2.0\n",
      "arrow                    1.2.3\n",
      "asttokens                2.2.1\n",
      "attrs                    22.2.0\n",
      "backcall                 0.2.0\n",
      "baycomp                  1.0.2\n",
      "beautifulsoup4           4.11.1\n",
      "bleach                   5.0.1\n",
      "blis                     0.7.9\n",
      "Bottleneck               1.3.5\n",
      "CacheControl             0.12.11\n",
      "catalogue                2.0.8\n",
      "certifi                  2022.12.7\n",
      "cffi                     1.15.1\n",
      "chardet                  5.1.0\n",
      "charset-normalizer       3.0.1\n",
      "click                    8.1.3\n",
      "colorama                 0.4.6\n",
      "comm                     0.1.2\n",
      "commonmark               0.9.1\n",
      "confection               0.0.4\n",
      "contourpy                1.0.7\n",
      "cycler                   0.11.0\n",
      "cymem                    2.0.7\n",
      "Cython                   0.29.32\n",
      "debugpy                  1.6.5\n",
      "decorator                5.1.1\n",
      "defusedxml               0.7.1\n",
      "dictdiffer               0.9.0\n",
      "docutils                 0.19\n",
      "en-core-web-md           3.4.1\n",
      "entrypoints              0.4\n",
      "et-xmlfile               1.1.0\n",
      "executing                1.2.0\n",
      "fastjsonschema           2.16.2\n",
      "fonttools                4.38.0\n",
      "fqdn                     1.5.1\n",
      "fst-pso                  1.8.1\n",
      "FuzzyTM                  2.0.5\n",
      "gensim                   4.3.0\n",
      "graphviz                 0.20.1\n",
      "h11                      0.14.0\n",
      "httpcore                 0.16.3\n",
      "httpx                    0.23.3\n",
      "icecream                 2.1.3\n",
      "idna                     3.4\n",
      "importlib-metadata       6.0.0\n",
      "ipykernel                6.20.2\n",
      "ipython                  8.8.0\n",
      "ipython-genutils         0.2.0\n",
      "ipywidgets               8.0.4\n",
      "isoduration              20.11.0\n",
      "jaraco.classes           3.2.3\n",
      "jedi                     0.18.2\n",
      "Jinja2                   3.1.2\n",
      "joblib                   1.2.0\n",
      "jsonpointer              2.3\n",
      "jsonschema               4.17.3\n",
      "jupyter                  1.0.0\n",
      "jupyter_client           7.4.9\n",
      "jupyter-console          6.4.4\n",
      "jupyter_core             5.1.3\n",
      "jupyter-events           0.6.3\n",
      "jupyter_server           2.1.0\n",
      "jupyter_server_terminals 0.4.4\n",
      "jupyterlab-pygments      0.2.2\n",
      "jupyterlab-widgets       3.0.5\n",
      "keyring                  23.13.1\n",
      "keyrings.alt             4.2.0\n",
      "kiwisolver               1.4.4\n",
      "langcodes                3.3.0\n",
      "lockfile                 0.12.2\n",
      "MarkupSafe               2.1.1\n",
      "matplotlib               3.6.3\n",
      "matplotlib-inline        0.1.6\n",
      "miniful                  0.0.6\n",
      "mistune                  2.0.4\n",
      "more-itertools           9.0.0\n",
      "msgpack                  1.0.4\n",
      "murmurhash               1.0.9\n",
      "nbclassic                0.4.8\n",
      "nbclient                 0.7.2\n",
      "nbconvert                7.2.8\n",
      "nbformat                 5.7.3\n",
      "nest-asyncio             1.5.6\n",
      "networkx                 3.0\n",
      "notebook                 6.5.2\n",
      "notebook_shim            0.2.2\n",
      "numpy                    1.24.1\n",
      "openpyxl                 3.0.10\n",
      "openTSNE                 0.6.2\n",
      "orange-canvas-core       0.1.29\n",
      "orange-widget-base       4.19.0\n",
      "Orange3                  3.34.1\n",
      "Orange3-Argument         0.1.0       c:\\users\\qiji1\\workspace\\orange3-argument\n",
      "packaging                23.0\n",
      "pandas                   1.5.2\n",
      "pandocfilters            1.5.0\n",
      "parso                    0.8.3\n",
      "pathy                    0.10.1\n",
      "pickleshare              0.7.5\n",
      "Pillow                   9.4.0\n",
      "pip                      22.3.1\n",
      "plac                     1.1.3\n",
      "platformdirs             2.6.2\n",
      "POT                      0.8.2\n",
      "preshed                  3.0.8\n",
      "prometheus-client        0.15.0\n",
      "prompt-toolkit           3.0.36\n",
      "psutil                   5.9.4\n",
      "pure-eval                0.2.2\n",
      "pycparser                2.21\n",
      "pydantic                 1.10.4\n",
      "pydot                    1.4.2\n",
      "pyFUME                   0.2.25\n",
      "Pygments                 2.14.0\n",
      "pyparsing                3.0.9\n",
      "PyQt5                    5.15.7\n",
      "PyQt5-Qt5                5.15.2\n",
      "PyQt5-sip                12.11.0\n",
      "pyqtgraph                0.13.1\n",
      "pyrsistent               0.19.3\n",
      "pytextrank               3.2.4\n",
      "python-dateutil          2.8.2\n",
      "python-json-logger       2.0.4\n",
      "python-louvain           0.16\n",
      "pytz                     2022.7.1\n",
      "pywin32                  305\n",
      "pywin32-ctypes           0.2.0\n",
      "pywinpty                 2.0.10\n",
      "PyYAML                   6.0\n",
      "pyzmq                    25.0.0\n",
      "qasync                   0.23.0\n",
      "qtconsole                5.4.0\n",
      "QtPy                     2.3.0\n",
      "requests                 2.28.2\n",
      "rfc3339-validator        0.1.4\n",
      "rfc3986                  1.5.0\n",
      "rfc3986-validator        0.1.1\n",
      "scikit-learn             1.1.3\n",
      "scipy                    1.10.0\n",
      "Send2Trash               1.8.0\n",
      "serverfiles              0.3.1\n",
      "setuptools               65.5.0\n",
      "simpful                  2.9.0\n",
      "six                      1.16.0\n",
      "smart-open               6.3.0\n",
      "sniffio                  1.3.0\n",
      "soupsieve                2.3.2.post1\n",
      "spacy                    3.4.4\n",
      "spacy-legacy             3.0.11\n",
      "spacy-loggers            1.0.4\n",
      "spacy-readability        1.4.1\n",
      "srsly                    2.4.5\n",
      "stack-data               0.6.2\n",
      "syllapy                  0.7.2\n",
      "terminado                0.17.1\n",
      "thinc                    8.1.7\n",
      "threadpoolctl            3.1.0\n",
      "tinycss2                 1.2.1\n",
      "tornado                  6.2\n",
      "tqdm                     4.64.1\n",
      "traitlets                5.8.1\n",
      "typer                    0.7.0\n",
      "typing_extensions        4.4.0\n",
      "uri-template             1.2.0\n",
      "urllib3                  1.26.14\n",
      "wasabi                   0.10.1\n",
      "wcwidth                  0.2.6\n",
      "webcolors                1.12\n",
      "webencodings             0.5.1\n",
      "websocket-client         1.4.2\n",
      "wheel                    0.38.4\n",
      "widgetsnbextension       4.0.5\n",
      "xlrd                     2.0.1\n",
      "XlsxWriter               3.0.7\n",
      "zipp                     3.11.0\n",
      "Note: you may need to restart the kernel to use updated packages.\n"
     ]
    },
    {
     "name": "stderr",
     "output_type": "stream",
     "text": [
      "\n",
      "[notice] A new release of pip available: 22.3.1 -> 23.0\n",
      "[notice] To update, run: python.exe -m pip install --upgrade pip\n"
     ]
    }
   ],
   "source": [
    "pip list"
   ]
  }
 ],
 "metadata": {
  "kernelspec": {
   "display_name": "venv",
   "language": "python",
   "name": "python3"
  },
  "language_info": {
   "codemirror_mode": {
    "name": "ipython",
    "version": 3
   },
   "file_extension": ".py",
   "mimetype": "text/x-python",
   "name": "python",
   "nbconvert_exporter": "python",
   "pygments_lexer": "ipython3",
   "version": "3.10.9"
  },
  "orig_nbformat": 4,
  "vscode": {
   "interpreter": {
    "hash": "28787f0fd29210faac622e5688c193eefbe3a5b5aca767740247d6f228d3cf26"
   }
  }
 },
 "nbformat": 4,
 "nbformat_minor": 2
}
