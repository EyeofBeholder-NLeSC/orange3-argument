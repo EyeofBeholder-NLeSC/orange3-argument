{
 "cells": [
  {
   "cell_type": "code",
   "execution_count": 1,
   "metadata": {},
   "outputs": [],
   "source": [
    "from orangecontrib.argument.miner.miner import ArgumentMiner\n",
    "\n",
    "url = 'https://raw.githubusercontent.com/EyeofBeholder-NLeSC/orange3-argument/main/example/data/data_processed_1prod_sample.json'"
   ]
  },
  {
   "cell_type": "code",
   "execution_count": 2,
   "metadata": {},
   "outputs": [],
   "source": [
    "miner = ArgumentMiner(url)\n",
    "miner.load_nlp_pipeline()\n",
    "miner.load_word_vector_model()\n",
    "miner.compute_ranks_and_readability()\n",
    "miner.compute_clusters_and_weights()\n",
    "miner.compute_edge_table(50)\n",
    "miner.compute_node_table()"
   ]
  },
  {
   "cell_type": "code",
   "execution_count": 3,
   "metadata": {},
   "outputs": [],
   "source": [
    "import networkx as nx\n",
    "\n",
    "G = nx.from_pandas_edgelist(\n",
    "    miner.df_edge, \n",
    "    source='source', target='target', edge_attr=['weight'], \n",
    "    create_using=nx.DiGraph())"
   ]
  },
  {
   "cell_type": "code",
   "execution_count": 12,
   "metadata": {},
   "outputs": [],
   "source": [
    "G.add_nodes_from([0, 1, 2])"
   ]
  },
  {
   "cell_type": "code",
   "execution_count": 25,
   "metadata": {},
   "outputs": [
    {
     "data": {
      "text/plain": [
       "[3, 5, 6, 7, 8, 9, 10, 11, 12, 13, 14, 15, 16, 17, 18, 19, 20, 21, 22, 0, 1, 2]"
      ]
     },
     "execution_count": 25,
     "metadata": {},
     "output_type": "execute_result"
    }
   ],
   "source": [
    "list(G.nodes)"
   ]
  },
  {
   "cell_type": "code",
   "execution_count": 61,
   "metadata": {},
   "outputs": [
    {
     "data": {
      "text/plain": [
       "array([False, False, False, False, False, False, False, False, False,\n",
       "       False, False, False, False, False, False, False, False, False,\n",
       "       False, False, False, False, False])"
      ]
     },
     "execution_count": 61,
     "metadata": {},
     "output_type": "execute_result"
    }
   ],
   "source": [
    "miner.df_node.index.isin(G.nodes)"
   ]
  },
  {
   "cell_type": "code",
   "execution_count": 46,
   "metadata": {},
   "outputs": [
    {
     "data": {
      "text/plain": [
       "23"
      ]
     },
     "execution_count": 46,
     "metadata": {},
     "output_type": "execute_result"
    }
   ],
   "source": [
    "miner.df_node.shape[0]"
   ]
  },
  {
   "cell_type": "code",
   "execution_count": 45,
   "metadata": {},
   "outputs": [
    {
     "data": {
      "text/plain": [
       "23"
      ]
     },
     "execution_count": 45,
     "metadata": {},
     "output_type": "execute_result"
    }
   ],
   "source": [
    "len(G.nodes)"
   ]
  },
  {
   "cell_type": "code",
   "execution_count": 50,
   "metadata": {},
   "outputs": [],
   "source": [
    "pos_dict = nx.fruchterman_reingold_layout(G)"
   ]
  },
  {
   "cell_type": "code",
   "execution_count": 55,
   "metadata": {},
   "outputs": [
    {
     "data": {
      "text/plain": [
       "array([[ 0.05310061, -0.03726422],\n",
       "       [-0.78575285,  0.64646   ],\n",
       "       [-0.85149215,  0.1108212 ],\n",
       "       [ 0.86095644,  0.39398023],\n",
       "       [-0.01998917,  0.95648489],\n",
       "       [ 1.        ,  0.13582385],\n",
       "       [-0.26946755, -0.9106905 ],\n",
       "       [-0.94795548, -0.40400894],\n",
       "       [ 0.2693413 ,  0.95927838],\n",
       "       [ 0.29122147, -0.85039449],\n",
       "       [-0.86630133,  0.37467324],\n",
       "       [ 0.67813309,  0.598878  ],\n",
       "       [-0.54263523,  0.81421128],\n",
       "       [-0.54272818, -0.86360635],\n",
       "       [ 0.89743244, -0.13864638],\n",
       "       [ 0.009956  , -0.91417142],\n",
       "       [ 0.5956945 , -0.86736192],\n",
       "       [ 0.95218875, -0.42149707],\n",
       "       [ 0.72206536, -0.6196246 ],\n",
       "       [-0.95985964, -0.11650818],\n",
       "       [-0.75821323, -0.64703723],\n",
       "       [-0.30303887,  0.98589716],\n",
       "       [ 0.51734371,  0.81430307]])"
      ]
     },
     "execution_count": 55,
     "metadata": {},
     "output_type": "execute_result"
    }
   ],
   "source": [
    "import numpy as np\n",
    "positions = []\n",
    "for i in pos_dict:\n",
    "    positions.append(pos_dict[i])\n",
    "positions = np.array([*positions])\n",
    "positions"
   ]
  },
  {
   "cell_type": "code",
   "execution_count": 60,
   "metadata": {},
   "outputs": [
    {
     "data": {
      "text/plain": [
       "[0,\n",
       " 1,\n",
       " 2,\n",
       " 3,\n",
       " 4,\n",
       " 5,\n",
       " 6,\n",
       " 7,\n",
       " 8,\n",
       " 9,\n",
       " 10,\n",
       " 11,\n",
       " 12,\n",
       " 13,\n",
       " 14,\n",
       " 15,\n",
       " 16,\n",
       " 17,\n",
       " 18,\n",
       " 19,\n",
       " 20,\n",
       " 21,\n",
       " 22]"
      ]
     },
     "execution_count": 60,
     "metadata": {},
     "output_type": "execute_result"
    }
   ],
   "source": [
    "sorted(pos_dict.keys())"
   ]
  }
 ],
 "metadata": {
  "kernelspec": {
   "display_name": "venv",
   "language": "python",
   "name": "python3"
  },
  "language_info": {
   "codemirror_mode": {
    "name": "ipython",
    "version": 3
   },
   "file_extension": ".py",
   "mimetype": "text/x-python",
   "name": "python",
   "nbconvert_exporter": "python",
   "pygments_lexer": "ipython3",
   "version": "3.10.9"
  },
  "orig_nbformat": 4,
  "vscode": {
   "interpreter": {
    "hash": "28787f0fd29210faac622e5688c193eefbe3a5b5aca767740247d6f228d3cf26"
   }
  }
 },
 "nbformat": 4,
 "nbformat_minor": 2
}
