{
 "cells": [
  {
   "cell_type": "code",
   "execution_count": 1,
   "metadata": {},
   "outputs": [],
   "source": [
    "from orangecontrib.argument.miner.miner import ArgumentMiner\n",
    "\n",
    "url = 'https://raw.githubusercontent.com/EyeofBeholder-NLeSC/orange3-argument/main/example/data/data_processed_1prod_sample.json'"
   ]
  },
  {
   "cell_type": "code",
   "execution_count": 2,
   "metadata": {},
   "outputs": [],
   "source": [
    "miner = ArgumentMiner(url)\n",
    "miner.load_nlp_pipeline()\n",
    "miner.load_word_vector_model()\n",
    "miner.compute_ranks_and_readability()\n",
    "miner.compute_clusters_and_weights()\n",
    "miner.compute_edge_table(0)\n",
    "miner.compute_node_table()"
   ]
  },
  {
   "cell_type": "code",
   "execution_count": null,
   "metadata": {},
   "outputs": [],
   "source": [
    "import networkx as nx\n",
    "\n",
    "G = nx.from_pandas_edgelist(\n",
    "    miner.df_edge, \n",
    "    source='source', target='target', edge_attr=['weight'], \n",
    "    create_using=nx.DiGraph())"
   ]
  }
 ],
 "metadata": {
  "kernelspec": {
   "display_name": "venv",
   "language": "python",
   "name": "python3"
  },
  "language_info": {
   "codemirror_mode": {
    "name": "ipython",
    "version": 3
   },
   "file_extension": ".py",
   "mimetype": "text/x-python",
   "name": "python",
   "nbconvert_exporter": "python",
   "pygments_lexer": "ipython3",
   "version": "3.10.9"
  },
  "orig_nbformat": 4,
  "vscode": {
   "interpreter": {
    "hash": "28787f0fd29210faac622e5688c193eefbe3a5b5aca767740247d6f228d3cf26"
   }
  }
 },
 "nbformat": 4,
 "nbformat_minor": 2
}
