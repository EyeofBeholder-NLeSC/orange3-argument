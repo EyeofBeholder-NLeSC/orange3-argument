{
 "cells": [
  {
   "attachments": {},
   "cell_type": "markdown",
   "metadata": {},
   "source": [
    "# BERTopic exploration\n",
    "\n",
    "This notebook is for exploring the BERTopic package with different options of its sub-models."
   ]
  },
  {
   "cell_type": "code",
   "execution_count": 1,
   "metadata": {},
   "outputs": [
    {
     "data": {
      "text/plain": [
       "0      I always get a half size up in my tennis shoes...\n",
       "1      Put them on and walked 3 hours with no problem...\n",
       "2                                              excelente\n",
       "3      The shoes fit well in the arch area. They are ...\n",
       "4      Tried them on in a store before buying online ...\n",
       "5                                      I recommend that!\n",
       "6      My son likes these, and this is the 2nd pair h...\n",
       "7                                            Comfortable\n",
       "8                Fit fine...did not like color in person\n",
       "9      The shoe is too large. When you do lunges it h...\n",
       "10     Really great for walking I'm very glad I got t...\n",
       "11     Love these shoes. My feet feel so much better....\n",
       "12                                        ok but too big\n",
       "13           Love these shoes.. they are so comfortable.\n",
       "14     In really like these. I wear between a 9-9.5 w...\n",
       "15     Love these shoes!\\nSo stylish and comfortable....\n",
       "16     This shoe is JUST OK. Its not as comfortable a...\n",
       "17     Best tennis shoes I've had all my life. Very c...\n",
       "18     The color pattern and fit is what I liked the ...\n",
       "19     love these shoes. Workout in them 3-4 times a ...\n",
       "20     Great shoe. I've had Nike's before and have al...\n",
       "21     The material is real then hope they don't fall...\n",
       "22                                                  Nice\n",
       "23                                               Gracias\n",
       "24     Love these shoes!! They are true to size and v...\n",
       "25                                                  None\n",
       "26                   Great arch support and comfortable.\n",
       "27     It looks a bit nicer on the picture. Its very ...\n",
       "28     second pair. Comfortable and great for people ...\n",
       "29      My daughter loves these shoes. Fit true to size.\n",
       "30     Purchased for my daughter for gym class.  She ...\n",
       "31     Great look but zero support inside the shoe. H...\n",
       "32     Straight out of the box, these shoes are great...\n",
       "33     Great shoes. Fit perfectly. Comfortable right ...\n",
       "34     I love them! They fit perfect and are very com...\n",
       "35     Love these lightweight shoes! Absolute favorit...\n",
       "36     My knees were bothering me during HIIT workout...\n",
       "37                                       Love the color!\n",
       "38     Comfortable athletic shoe,  good for the gym (...\n",
       "39     The shoes fit perfectly and came within the ti...\n",
       "40                                They looked very cheap\n",
       "41                                The fit is as expected\n",
       "42     Very comfortable shoes. This is my second pair...\n",
       "43     Comfortable, consistent each time I order and ...\n",
       "44     I love the shoe and it fit as expected the pho...\n",
       "45     These are so cute and comfortable and very lig...\n",
       "46        I always order a 1/2 size up in workout shoes.\n",
       "47     I wore these shoe one time, from the airport i...\n",
       "48     They run big and are super uncomfortable and t...\n",
       "49         Exactly what I expected! Comfortable and chic\n",
       "50       They were a gift  to my daughter she loved them\n",
       "51        Love these comfy shoes. they fit like a glove.\n",
       "52                                     Very confortable.\n",
       "53                                   i love these shoes.\n",
       "54     Lightweight, decent arch support and comfortab...\n",
       "55                                   daughter loves them\n",
       "56     I ordered a 1/2 size smaller than my usual siz...\n",
       "57     Very good overall.\\nNow Ive been a huge Sketch...\n",
       "58                                      Wife loves them!\n",
       "59     These shoes are extremely comfortable, and fit...\n",
       "60                           Artculo equivocado en color\n",
       "61     Glad I read the reviews and ordered a half siz...\n",
       "62     On the left shoe, there were two stained yello...\n",
       "63     I love these, I had the previous iteration (or...\n",
       "64     Super light-weight, decent arch support (mine ...\n",
       "65     I Love it. It is very light and the color is g...\n",
       "66     My wife loves these shoes. We have both been w...\n",
       "67     Absolutly love these shoes!! Beautiful color, ...\n",
       "68     I **loved** these shoes when I got them. I've ...\n",
       "69                                        She loves them\n",
       "70     These are a bit longer than they should be. I ...\n",
       "71                                                 great\n",
       "72                                                     c\n",
       "73                                            Love them!\n",
       "74     Very nice shoe, just a bit to snug/small for m...\n",
       "75     Not sure why, but my mid section of my foot st...\n",
       "76                           My New Gym shoes! Love them\n",
       "77                                              Perfect!\n",
       "78     I usually wear a size 8 and they fit fine. The...\n",
       "79     Great shoe! Outside arch is kind of high, but ...\n",
       "80     I had to return the first pair and buy a 1/2 s...\n",
       "81                                       Fit comfortable\n",
       "82     My favorite running shoes!  The wall of the sh...\n",
       "83                                              Nice fit\n",
       "84     I bought these for gym training - weight class...\n",
       "85               They fit perfect, extremely comfortable\n",
       "86                No arch support but l love the colors!\n",
       "87                               Shoe was somewhat large\n",
       "88                                            love them!\n",
       "89     This is a great shoe for in gym workouts. I di...\n",
       "90                                 Comfortable and light\n",
       "91     Purchased these for my wife as she has a simil...\n",
       "92     I have pretty high arches and my calves always...\n",
       "93                                           Great shoes\n",
       "94                   These were exactly what I expected.\n",
       "95                                        Love love love\n",
       "96     I always wear a womans 9 in Nikes but these ar...\n",
       "97                             These shoes are awesome!!\n",
       "98     l always buy Nike shoes and been happy so far,...\n",
       "99     Bought these as my back up shoes but they have...\n",
       "100    Absolutely love these shoes and color!! They a...\n",
       "101                                         Super comfy!\n",
       "102    Ordered half a size larger than my usual shoe ...\n",
       "103                                            Fit well.\n",
       "104    The fit was perfect! I Highly recommend this s...\n",
       "105    Obsessed with these shoes! I was looking for g...\n",
       "106    Cute shoe, fit as expected, and very comfortable.\n",
       "107             On time, nice sneakers. Fit as expected.\n",
       "108                              Perfect fit, as always.\n",
       "109                         Great shoe, very comfortable\n",
       "110     Love these sneakers! Perfect fit and super light\n",
       "111    These shoes fit like a glove! Light but very s...\n",
       "112                                     Fit true to size\n",
       "113                                         Love the fit\n",
       "114    Nike always makes a good shoe ..abit rough bre...\n",
       "115    Oops! I returned these because I ordered wrong...\n",
       "116                       Extremely comfortable sneaker!\n",
       "117                                    Good looking shoe\n",
       "118    I have had this style before in a different co...\n",
       "119    I loved these shoes...that is until after abou...\n",
       "120    Great! Super comfy and cute! No issues and fit...\n",
       "121                                           Good shoes\n",
       "122    I returned them...found a Ryka pair I liked be...\n",
       "123                BEST sneakers I've ever purchased!!!!\n",
       "124                                     Excellent ...!!!\n",
       "125    the best sneakers by far! I had never owned a ...\n",
       "126    Love these shoes. I've been buying Nikes for y...\n",
       "127    Right one is slightly tight.. hope it will str...\n",
       "128    They're ugly: the toe is rounded and the mater...\n",
       "129                          So lightweight and awesome!\n",
       "130                                           Luv them!!\n",
       "131    Love the color and fit. I use them to work on ...\n",
       "132    Bought these shoes with HIIT in mind, but not ...\n",
       "133                   My daughter loves them. Great fit!\n",
       "134    This is a very attractive shoe. It is true to ...\n",
       "135                         Fits good, very lightweight.\n",
       "136    Comfortable shoe for both workout sessions and...\n",
       "137                                                 Nice\n",
       "138    These are the best shoes I have ever use for m...\n",
       "139    I love these shoes.  They fit as expected and ...\n",
       "140                       Love this product.  Great fit.\n",
       "141    Very low cut heel so if you training and pushi...\n",
       "142    Just what I needed for Group Fight class. Quic...\n",
       "143                               Love! Great price too.\n",
       "144    It's been a long time since I've worked a cros...\n",
       "145    Good indoor training shoes for running on trea...\n",
       "146                                                Perf.\n",
       "147                                   Best shoes ever!!!\n",
       "148                                             Fit good\n",
       "149    I use these for my Cardio Dance class and they...\n",
       "150    I love these shoes so much that  I reordered a...\n",
       "151    Love these sneakers. Light weight and comforta...\n",
       "152                                         Nice product\n",
       "153    I feel like this pair of shoes was made for my...\n",
       "154    Quick tranasaction!!!  Loved the shoes!!!  Wou...\n",
       "155    I got the impression it's cushiony and comfy b...\n",
       "156    So comfortable, I don't even feel like I have ...\n",
       "157    they are very comfortable feel like you have n...\n",
       "158                                My favorite nike shoe\n",
       "159    Super comfortable and extremely lightweight. G...\n",
       "160                          Beautiful I love them comfy\n",
       "161    I've not even had them a month and the bottom ...\n",
       "162    Love them! Fit exactly as expected in length a...\n",
       "163    My second pair, love the fit, light weight and...\n",
       "164    I have wide feet and these were too narrow but...\n",
       "165             Ugh... way to large - is this for a man?\n",
       "166        The shoe fit has expected. It is comfortable.\n",
       "167    They fit great, look great, are quite comforta...\n",
       "168    Super comfy, true Size , I use them for boot C...\n",
       "169    Love them absolutely comfortable. I'm very pic...\n",
       "170                                 Wife happy with fit.\n",
       "171             They run big. Order a full size smaller.\n",
       "172    Super light and very comfortable. I'm a runner...\n",
       "173    Just because they are white, they do need a wa...\n",
       "174    Arrived in time. Fit as exoected. They take so...\n",
       "175    I've been using these to exercise and they are...\n",
       "176           Comfortable from the start and very light.\n",
       "177                                         As expected.\n",
       "178    Lightweight, comfortable, supportive. Very hap...\n",
       "179    I love these and have them in a light blue too...\n",
       "180                                         good quality\n",
       "181    Very comfortable sneakers and I also like the ...\n",
       "182    Purchased to wear for weightlifting and Zumba....\n",
       "183                         Comfortable and lightweight.\n",
       "184    I love these shoes my second pair of 40 plus $...\n",
       "185    They fit as expected and perfect for training,...\n",
       "186              Extremely well fitting and light weight\n",
       "187                                              Perfect\n",
       "188                                            Love them\n",
       "189    I love these shoes and have worn them for a lo...\n",
       "190    Fast shipping and turned out as expected. Coul...\n",
       "191    I have been wearing for a solid week during my...\n",
       "192               Love these shoes for circuit training.\n",
       "193    Super comfortable. I joined Cross Fit and this...\n",
       "194                                        just do it :)\n",
       "195    Love these, comfortable, light weight, great fit.\n",
       "196                                    I love this show.\n",
       "197    The shoes are true to size. I am used to weari...\n",
       "198    Love them!  I ordered an 8.5 because I usually...\n",
       "199                                    Very comfortable.\n",
       "200                       Very nice shoes.  Comfortable.\n",
       "201               Very comfortable. I love wearing them.\n",
       "202              Great fit so comfortable love them!!!!!\n",
       "203    A nice lightweight shoe. Not a lot of cushion ...\n",
       "204    I really love these shoes.  They are attractiv...\n",
       "205    Comfortable shoe.  First time I've ever bought...\n",
       "206    Ordered 9(m) received 9 Wide for the second ti...\n",
       "207                                           Nice shoes\n",
       "208    This is my second pair of these shoes.  I love...\n",
       "209    There is about a 1/2 inch of extra space from ...\n",
       "210    Got them for my girlfriend. She loves them. Sa...\n",
       "211                              Serves intended purpose\n",
       "212             They are super comfortable. Loving them.\n",
       "213    I have gotten so many compliments on the blue ...\n",
       "214    Fit is fine, but not much cushioning in the fo...\n",
       "215    Perfect for the gym, could use a little more s...\n",
       "216    Meh, felt very comfortable but provided no sup...\n",
       "217             Love these! Super light and comfortable!\n",
       "218                    Loved the products and services!!\n",
       "219    It's hard to find a lightweight athletic shoe ...\n",
       "220    The shoes are amazing,very comfortable and fit...\n",
       "221                                        Super comfy!!\n",
       "222    I needed a wide size, that option was not avai...\n",
       "223                                           Look great\n",
       "224    I love these shoes. I am rather basic when it ...\n",
       "225    Cute and comfy. Sleek design. My only complain...\n",
       "226                                         I love them!\n",
       "227    normally Nike fits small so we go up a half si...\n",
       "228    love these shoes. use them to workout inside a...\n",
       "229    I was shocked at how small these shoes were, n...\n",
       "230    Great shoes - was looking for something to rep...\n",
       "231    They fit perfectly. These shoes are great for ...\n",
       "232    Good fit and comfy.  Not so cushiony so define...\n",
       "233                         Light weight and comfortable\n",
       "234    I was wearing running shoes for cardio dance c...\n",
       "235    Nikes usually run small and I'm a 7.5, so I or...\n",
       "236    Color was not at all what i expected.  It was ...\n",
       "237    Perfect fit! Brand new in new box completely p...\n",
       "238                                              Squeaky\n",
       "239    If you wear Nike on the regular, then you shou...\n",
       "240    Great arch support and cushion both for the he...\n",
       "241             Good quality, perfect fit.  It's a Nike!\n",
       "242    Size 8, but purchased 8.5 for a more comfortab...\n",
       "243    I've always gotten this size in Nike shoes wit...\n",
       "244    Very lightweight. Normal Nike quality. Pink is...\n",
       "245                                          Love them!!\n",
       "246    Arrived on time. I probably should have gone w...\n",
       "247    After less than a week the sole ripped off on ...\n",
       "248    The lines don't really show up unless there is...\n",
       "249    I love these!  I ordered an 8.5 which is my no...\n",
       "250                                 Cute and comfortable\n",
       "251                                    Very comfortable.\n",
       "252    Sizing was perfect as ordered. Quality appears...\n",
       "253    Size really depends on the brand.  I wear a 6....\n",
       "254    I was really excited when I opened the box to ...\n",
       "255    Returning these. the pictures on here make the...\n",
       "256    wow these are the most comfortable, light weig...\n",
       "257                     love the lightweight and the fit\n",
       "258                 fits perfect, my daughter loves them\n",
       "259    Finally, after trying about 10 pairs of Nike's...\n",
       "260                Came quick and my daughter LOVES them\n",
       "261        Great Gift - she loved it!  It's a nice shoe!\n",
       "262    Bought these for my daughter and she loves the...\n",
       "263                     Great product and fast shipping!\n",
       "264    Tried one in the store and bought it online bu...\n",
       "265    I had the older generation of this shoe that s...\n",
       "266    This pair fits perfect.....the first pair was ...\n",
       "267    I returned these as they were not true to size...\n",
       "268                                          wrong shoes\n",
       "269                                      There very nice\n",
       "270    I actually have 3 pairs of these trainers.  Th...\n",
       "271                 Just too big otherwise I liked them!\n",
       "272                 Comfortable shoe.  I would buy again\n",
       "273                        Light weight and comfortable.\n",
       "274          Fit my size perfectly and very comfortable!\n",
       "275    Love these shoes! Needed new running shoes and...\n",
       "276    Purchased these for our teenage daughter. She ...\n",
       "277    Love these shoes, I have worn them all day and...\n",
       "278    Super light weight comfortable! Kick box in th...\n",
       "279    i bought a pair from DSW for 50$ and they are ...\n",
       "280    Not a lot of arch support but really lightweight.\n",
       "281                                            EXCELLENT\n",
       "282    Good for non-aerobic workout. Mesh was very co...\n",
       "283    Favorite Nikes ever. I already owned this styl...\n",
       "284                            Light-weight comfy shoes.\n",
       "285    Tried a lot of shoes for cross training and th...\n",
       "286    Wish they had a little more support/cushion, b...\n",
       "287    These are as far as comfort goes the most comf...\n",
       "288    After my purchased I found out they are overpr...\n",
       "289    I bought a pair of these in my size, but they ...\n",
       "290    Love them!  Very comfortable and great for wei...\n",
       "291    Took other reviewers advice and went up half s...\n",
       "292                    Really comfortable and very cute.\n",
       "293    These shoes are great.  This is the second pai...\n",
       "294                             Fit to size. Comfortable\n",
       "295                  Picky daughter actually loves them.\n",
       "296    Fit like a dream! Great for cross-training/HIT...\n",
       "297    Most comfortable training shoes I've worn in a...\n",
       "298    I bought these sneakers for boot camp class.  ...\n",
       "299    I got a hot spot on the bottom of my foot the ...\n",
       "300    Still breaking them in for use at the gym.  I ...\n",
       "301    Not a fan. Shoes looked great but too narrow f...\n",
       "302    I love these shoes. I exercise in them as well...\n",
       "303                                         fits perfect\n",
       "304    Very comfortable shoes. I have wide feet with ...\n",
       "305    Unfortunately, this Flex Supreme does NOT have...\n",
       "306    After using this shoes seven times for regular...\n",
       "307    Fit like gloves to my feet! Perfect for workouts.\n",
       "308    I've worn these to work out for 5 days in a ro...\n",
       "309    I liked these shoes a lot. Very light weight. ...\n",
       "310                                        Love them !!!\n",
       "311    I love these shoes! Great arch support and per...\n",
       "312    I workout at the local crossfit and find that ...\n",
       "313    These shoes look really great. However, slight...\n",
       "314    These are my favorite walk around shoes! I can...\n",
       "315    Favorite training and walking-around sneakers....\n",
       "316    Love these! I have 3 pairs...they're so comfor...\n",
       "317             Great shoes. Lightweight and comfortable\n",
       "318    BEST. SHOES. EVER.  I bought two pairs in diff...\n",
       "319    These sneakers give me the motivation to worko...\n",
       "320    I LOVE the look and comfort of these shoes for...\n",
       "321                Size 5. Very comfortable shoes. Love!\n",
       "322    I bought a wide size of these at a local store...\n",
       "323    I always buy the same size this ones came to l...\n",
       "324                                 Nice shoes, fit good\n",
       "325    I bought these for my wife. She saw them in th...\n",
       "326    Love these shoes. My feet have been weird sinc...\n",
       "327    Look better than the picture, very comfortable...\n",
       "328    Love my new Nike's.  It's been years since I'v...\n",
       "329    I am so happy with this purchase. I feel like ...\n",
       "330    Absolutely love them. Can even wear them witho...\n",
       "331    Super cute shoe however runs wide and big, I'm...\n",
       "332    Wore these for the first time hiking the bluff...\n",
       "333    A-MA-ZING!  I needed a good jogging shoe and t...\n",
       "334    Comfortable and lightweight. Need a good train...\n",
       "335                                            Excellent\n",
       "336    These shoes are awesome!  They are nearly weig...\n",
       "337                                          Super cute!\n",
       "338                                              perfect\n",
       "339    This is the most comfortable shoe I've ever ha...\n",
       "340    I wear them for Zumba and my heel slips on tur...\n",
       "341    These run large. I wear a 9.5 exactly in every...\n",
       "342    Perfect fit, very comfortable, and a great col...\n",
       "343                          Really comfy and nice color\n",
       "344    The picture makes the shoe look like it has a ...\n",
       "345    These are the most comfortable shoes I've used...\n",
       "346                    Very comfortable and looks great!\n",
       "347    Love this shoes so comfy and great very everyd...\n",
       "348                            Nice looking and fit nice\n",
       "349    I am a recess aide and on my feet all day long...\n",
       "350    Perfict fit for me. Great looking shoes at a g...\n",
       "351    The sneakers are very comfortable and fit to s...\n",
       "352    I've had these shoes for about a week now and ...\n",
       "353                                  I really like them!\n",
       "354    Good light weight shoe...had to add insole for...\n",
       "355                               I love my tennis shoes\n",
       "356    This is a shoe I will wear with black dress pa...\n",
       "357    Love it!! Super comfortable and nice!! Got mor...\n",
       "358                                            Excelente\n",
       "359    These shoes are poorly constructed and I don't...\n",
       "360    For the price I spent on the pair of shoes, I'...\n",
       "361            I love this shoes they are so comfortable\n",
       "362    I absolutely LOVE these shoes. These are my ab...\n",
       "363                                         Perfect fit!\n",
       "364                          My favorite cross trainers!\n",
       "365                                Love them fit perfect\n",
       "366    Favorite Nike shoe ever! The flex sole is exce...\n",
       "367         I wear these everyday to work, the gym, etc.\n",
       "368      Love these shoes! Great fit, very light weight.\n",
       "369    Super comfortable and fit my small feet perfec...\n",
       "370                                    Love these shoes!\n",
       "Name: reviewText, dtype: object"
      ]
     },
     "execution_count": 1,
     "metadata": {},
     "output_type": "execute_result"
    }
   ],
   "source": [
    "# read input data\n",
    "\n",
    "import pandas as pd\n",
    "\n",
    "pd.set_option('display.max_columns', None)\n",
    "pd.set_option('display.max_rows', None)\n",
    "\n",
    "fpath = '../example/data/data_processed_1prod_full.json'\n",
    "df = pd.read_json(fpath, lines=True)\n",
    "docs = df['reviewText'].astype(str)\n",
    "docs"
   ]
  },
  {
   "cell_type": "code",
   "execution_count": 4,
   "metadata": {},
   "outputs": [
    {
     "data": {
      "text/plain": [
       "['I always get a half size up in my tennis shoes.',\n",
       " 'For some reason these feel to big in the heel area and wide.',\n",
       " 'Put them on and walked 3 hours with no problem!',\n",
       " 'Love them!',\n",
       " 'So light feeling',\n",
       " 'excelente',\n",
       " 'The shoes fit well in the arch area.',\n",
       " 'They are a little wider in the toe area of the shoe, you feel like you have a lot of room.',\n",
       " 'This does not make the shoe uncomfortable, just had to get used to it.',\n",
       " 'Love the shoe.',\n",
       " \"Tried them on in a store before buying online so I knew they'd fit good.\",\n",
       " 'Overall I was looking for a durable cross training shoe that would hold up to my rigorous training and these have been great so far.',\n",
       " 'They are really light and comfortable.',\n",
       " \"Most importantly for me they have grips on the bottoms so my feet don't slide out from under me while doing planks, push-ups, etc.\",\n",
       " 'Highly satisfied with this purchase.',\n",
       " 'I recommend that!',\n",
       " \"My son likes these, and this is the 2nd pair he's worn.\",\n",
       " 'Comfortable',\n",
       " 'Fit fine...did not like color in person',\n",
       " 'The shoe is too large.',\n",
       " 'When you do lunges it hurts the heel.',\n",
       " 'The shoe size from a local store is the size I ordered from Amazon however the size or fitting seems to be large',\n",
       " \"Really great for walking I'm very glad I got these and the color is fun\",\n",
       " 'Love these shoes.',\n",
       " 'My feet feel so much better.',\n",
       " 'Lots of padding and light enough to run in.',\n",
       " 'ok but too big',\n",
       " 'Love these shoes..',\n",
       " 'they are so comfortable.',\n",
       " 'In really like these.',\n",
       " 'I wear between a 9-9.5 womens, I got the 9.5 and they fit perfectly.',\n",
       " 'They are light weight but have good support.',\n",
       " 'I will buy another pair.',\n",
       " 'Love these shoes!\\n',\n",
       " 'So stylish and comfortable.',\n",
       " 'Just got back from a trip to NYC, Black and white Nikes and yoga pants are in high fashion right now!',\n",
       " 'This shoe is JUST OK.',\n",
       " 'Its not as comfortable as I was expecting, compared to my last pair of NIKE shoes.',\n",
       " 'I hope they hold up.',\n",
       " \"Best tennis shoes I've had all my life.\",\n",
       " 'Very comfortable out the box.',\n",
       " 'I would buy 10 pairs of these shoes if had the money.',\n",
       " 'The color pattern and fit is what I liked the most what I liked the least is that they are not easy to clean and stains do not come out very easy or at all',\n",
       " 'love these shoes.',\n",
       " 'Workout in them 3-4 times a week at the gym.',\n",
       " 'I do treadmill, stairmaster, cardio classes and weight lifting.',\n",
       " 'lightweight and versatile shoe.',\n",
       " 'Great shoe.',\n",
       " \"I've had Nike's before and have always been pleased with the comfort, performance, and quality.\",\n",
       " 'Though I will say this was the first time I ordered a pair online without trying them on first, so I was nervous.',\n",
       " 'But this turned out to be a great choice.',\n",
       " 'Breathable, lightweight but sturdy, and comfortable during all my workouts.',\n",
       " \"The built-in arch support is great and I've had no discomfort after 2 weeks of use.\",\n",
       " \"As far as the sole thickness and cushioning goes, I would consider these a 'medium' build (not thin, not overly thick) so if you're into heavy running outdoors then take that into consideration.\",\n",
       " 'Everyone is different in their preference for cushioning, but I think for light runs on a treadmill they would be sufficient.',\n",
       " 'Love these, highly recommend!',\n",
       " \"The material is real then hope they don't fall apart .\",\n",
       " 'to expensive for what you get.',\n",
       " 'Nice',\n",
       " 'Gracias',\n",
       " 'Love these shoes!!',\n",
       " 'They are true to size and very comfortable!!',\n",
       " 'This is my second pair - I wore out the first pair!!',\n",
       " 'Good arch support - I have a high arch!!',\n",
       " 'None',\n",
       " 'Great arch support and comfortable.',\n",
       " 'It looks a bit nicer on the picture.',\n",
       " 'Its very light in such a way that when I held the box I wondered if there was just paper filling inside.',\n",
       " 'They are comfortable for the most.',\n",
       " 'Good looking training shoes overall.',\n",
       " 'second pair.',\n",
       " 'Comfortable and great for people with bunion issues or previous surgeries.  ',\n",
       " 'Sole wears great',\n",
       " 'My daughter loves these shoes.',\n",
       " 'Fit true to size.',\n",
       " 'Purchased for my daughter for gym class.  ',\n",
       " 'She loves them.  ',\n",
       " 'Very cute and very comfortable.',\n",
       " 'Great look but zero support inside the shoe.',\n",
       " 'Had to buy expensive inserts to be wearable.',\n",
       " 'Expected more from a nike shoe.',\n",
       " 'Straight out of the box, these shoes are great!',\n",
       " 'Very lightweight and fits comfortably on my feet like a glove!',\n",
       " 'I love most especially that the sole is not bulky like my previous running shoes  I hated those things',\n",
       " 'lol!',\n",
       " 'I would give them a shot and they are great for the price!',\n",
       " 'Great shoes.',\n",
       " 'Fit perfectly.',\n",
       " 'Comfortable right from the start.',\n",
       " 'Light weight and perfect for a 12 hour work shift.',\n",
       " 'Good price also.',\n",
       " 'I love them!',\n",
       " 'They fit perfect and are very comfortable!!',\n",
       " 'Love these lightweight shoes!',\n",
       " 'Absolute favorite.',\n",
       " 'Always order half a size bigger with nike shoes than with every other shoe in my closet.',\n",
       " 'My knees were bothering me during HIIT workouts so i  purchased these shoes after researching many styles.  ',\n",
       " 'Fit true to size and are lightweight.  ',\n",
       " 'My knees feel better so so hard so good.  ',\n",
       " 'They are cute in too!!',\n",
       " 'Love the color!',\n",
       " 'Comfortable athletic shoe,  good for the gym (ellipical, tredmill, etc.)',\n",
       " 'Fit is good, and shoe is really lightweight and comfy.',\n",
       " 'The shoes fit perfectly and came within the time frame i was given.  ',\n",
       " 'Very comfortable, which is needed since my job requires a lot if standing abd walking throughout the day.',\n",
       " 'They looked very cheap',\n",
       " 'The fit is as expected',\n",
       " 'Very comfortable shoes.',\n",
       " 'This is my second pair of this style of shoe because I loved them that much.',\n",
       " 'Comfortable, consistent each time I order and good looking',\n",
       " \"I love the shoe and it fit as expected the photos and description are accurate if you're looking for a shoe that has more cushion or support try a different style but as far as wanting a lightweight and breathable shoe this is it.\",\n",
       " 'I am very satisfied with this purchase',\n",
       " 'These are so cute and comfortable and very light.',\n",
       " 'I just received them today and the fit is perfect.',\n",
       " 'I normally wear an 8 1/2 and they are true to size!',\n",
       " 'I always order a 1/2 size up in workout shoes.',\n",
       " 'I wore these shoe one time, from the airport in Omaha, NE to the airport in Phoenix, AZ.',\n",
       " \"When I arrived in Phoenix, the left shoe/sole started squeaking and won't stop.\",\n",
       " 'I want to return for a refund.',\n",
       " 'Need instructions for returning as no paperwork was in my package when it arrived.',\n",
       " 'They run big and are super uncomfortable and the soles squeak.',\n",
       " \"They don't breathe at all.\",\n",
       " 'Exactly what I expected!',\n",
       " 'Comfortable and chic',\n",
       " 'They were a gift  to my daughter she loved them',\n",
       " 'Love these comfy shoes.',\n",
       " 'they fit like a glove.',\n",
       " 'Very confortable.',\n",
       " 'i love these shoes.',\n",
       " 'Lightweight, decent arch support and comfortably to wear all day doing regular activity and sprinting.',\n",
       " 'daughter loves them',\n",
       " 'I ordered a 1/2 size smaller than my usual size, and they are perfect.',\n",
       " 'These shoes are hard to find.',\n",
       " 'Great customer service as well.',\n",
       " 'Very good overall.\\n',\n",
       " 'Now Ive been a huge Sketchers Go Walk fan for some time and the only reason I tried these instead of the latest number 4 of those is because the tread looked too slippery to me.\\n',\n",
       " 'These shoes are very sturdy and the grip of the soles has been very solid so far.',\n",
       " 'I use them for basic workout cardio and cross training, as well as work as a massage therapist (I go through shoes fast enough that Ive recently consolidated).\\n',\n",
       " \"If you're a Go Walk fan, these do not offer the same level of cushion-comfort as those, HOWEVER, they offer the kind of long-term comfort to make them a durable option.\\n\",\n",
       " 'The material of the shoes seem very durable and the breathable.',\n",
       " 'My feet do not feel hot in them.\\n',\n",
       " 'Now these shoes are ideal for a basic workout or cross training, I would not get them to do 25,000 steps in Walt Disney World.\\n',\n",
       " 'Solid choice, overall.',\n",
       " 'Wife loves them!',\n",
       " 'These shoes are extremely comfortable, and fit as expected.  ',\n",
       " 'Will purchase again.',\n",
       " 'Artculo equivocado en color',\n",
       " 'Glad I read the reviews and ordered a half size too big.',\n",
       " 'These are light weight.',\n",
       " 'I worked out in them last night and had a great work out.',\n",
       " 'They are very comfortable.',\n",
       " 'I would recommend these to anyone.',\n",
       " 'I am a Beach Body Coach and these are now my new favorite shoes to work out in.',\n",
       " 'I feel like I am walking in slippers when I wear these shoes.',\n",
       " 'They are so comfortable.',\n",
       " 'I LOVE them so much.',\n",
       " 'I never buy myself anything nice and for Christmas got an Amazon gift card and used it to buy myself these sneakers and they are so awesome.',\n",
       " 'I really do love them and have been telling all my friends about them.',\n",
       " 'GET THESE SHOES!',\n",
       " 'On the left shoe, there were two stained yellow spots.',\n",
       " 'I love these, I had the previous iteration (or maybe two earlier?) and finally wore them out after several years.',\n",
       " \"They are definitely a light-weight training shoe so I wouldn't get them if you are going to be doing a lot of running.\",\n",
       " \"But this also makes them extremely comfortable, I hadn't realized how hot running shoes made my feet until I switched to these.\",\n",
       " 'Good support and my feet stay cool all day, also noticeably light but well-made and long lasting.\\n\\n',\n",
       " \"I have worn them hiking in a pinch but don't really recommend it because the material is mesh-like and will let a lot of dirt in.\",\n",
       " 'But if you mainly take cardio classes and/or do weight training or just need something to wear around town look no further.',\n",
       " 'Super light-weight, decent arch support (mine is higher than average).  ',\n",
       " \"I was pleasantly surprised by the sole/tread on these for my circuit training classes, as I couldn't really tell by online pics.  \",\n",
       " 'Also pleasantly surprised that these ran ever so slightly bigger than Nike running shoes I use to wear 15+years ago - I always wore one to 1.5 sizes larger in their \"Hurache\\'s\"/running shoes, so I was really worried my size 6 would be too small - there is actually more toe room in these shoes than any other size 6 shoe I own (athletic, heel, boot).  ',\n",
       " \"But it is the correct amount of room from big toe to edge of shoe for me (an inch or less, I don't want my big toe being jammed into edge of shoe when lunging, jumping, etc.).  \",\n",
       " 'Shoes arrived with an odd yellowish color on side of one shoe, but no damage to box, paper lining etc - I was happy that a clorox wipe easily cleaned the shoe and did not discolor any further.  ',\n",
       " 'I am very happy and highly recommend, although I have only worked out it once!',\n",
       " 'I Love it.',\n",
       " 'It is very light and the color is great.',\n",
       " 'My wife loves these shoes.',\n",
       " 'We have both been wearing sketchers and new balance for several years and recently we have both purchased Nike.',\n",
       " 'There is a reason why Nike is still number 1 after all these years, you just cant beat their comfort.',\n",
       " 'Absolutly love these shoes!!',\n",
       " 'Beautiful color, comfy, and lightweight',\n",
       " 'I **loved** these shoes when I got them.',\n",
       " \"I've noticed that the foam inside tends to compress during a workout, though.\",\n",
       " \"I'll lace them tightly enough that they're nearly cutting off my circulation.\",\n",
       " \"20 minutes later, I'm sliding out of them while doing sled pushes.\",\n",
       " 'She loves them',\n",
       " 'These are a bit longer than they should be.',\n",
       " 'I usually wear a 9 but could have easily ordered a 8.5.',\n",
       " 'The width is accurate.\\n\\n',\n",
       " 'The pink is even pinker than shown and the light gray is over the very bright pink',\n",
       " \"so it isn't as gray as shown in the picture.\",\n",
       " 'It makes the shoe a bit overwhelming.',\n",
       " 'Also two grommets on each shoe is dark.',\n",
       " \"I'm not referring to the dark grommets closer to the toe as shown in the photo, I'm talking about two grommets up at the top of of the laces (opposite side of side shown in photo).\",\n",
       " 'I thought it was faulty at first until I noticed they were on the same side of each shoe.',\n",
       " 'Kind of odd and not pictured.\\n\\n',\n",
       " 'Overall, they are very comfortable shoes which is why I am keeping them...even if you can see me coming from a mile away.',\n",
       " 'great',\n",
       " 'c',\n",
       " 'Love them!',\n",
       " 'Very nice shoe, just a bit to snug/small for my foot.',\n",
       " 'The Flex wire really makes it the shoe fit tight to your foot.',\n",
       " 'I need more \"wiggle\" room in my footwear, otherwise I would have kept them.',\n",
       " 'Not sure why, but my mid section of my foot starts to hurt using these shoes for a long day or a tough workout at the gym.',\n",
       " \"I've owned other nike shoes of this line but that never happened to me.\",\n",
       " 'My New Gym shoes!',\n",
       " 'Love them',\n",
       " 'Perfect!',\n",
       " 'I usually wear a size 8 and they fit fine.',\n",
       " 'These are way too narrow.',\n",
       " 'Thought they might stretch out but they didnt.',\n",
       " 'Had to give away.',\n",
       " 'Great shoe!',\n",
       " \"Outside arch is kind of high, but I'm still breaking them in.\",\n",
       " \"So I'm sure that will work it's way out.\",\n",
       " 'I originally ordered a 9, my regular size, and it was a tad too big.',\n",
       " 'Returned and ordered an 8.5 and it fits perfect!',\n",
       " 'I had to return the first pair and buy a 1/2 size smaller.  ',\n",
       " \"First time I've had to buy smaller for Nike.\",\n",
       " 'Fit comfortable',\n",
       " 'My favorite running shoes!  ',\n",
       " 'The wall of the shoe is very thin, which makes them very comfortable to wear if your feet swell as you run.  ',\n",
       " \"I would not recommend for use on concrete or a treadmill, as there isn't very much impact absorption, but they are perfect for trail running!\",\n",
       " 'Nice fit',\n",
       " 'I bought these for gym training - weight class and dance class (body jam, Zumba) - and really wanted to like them, since I loved the color and the light weight feel.',\n",
       " 'But when I worked out high impact, my toes tingled, went numb and cramped because the toe bed is very narrow.',\n",
       " \"Also, there wasn't enough cushion for me.\",\n",
       " 'When doing lunges, the ball of my feet hurt.',\n",
       " \"Can't return them because I wore them several times.\",\n",
       " 'These might be fine for someone with a narrow foot.',\n",
       " 'They fit perfect, extremely comfortable',\n",
       " 'No arch support but l love the colors!',\n",
       " 'Shoe was somewhat large',\n",
       " 'love them!',\n",
       " 'This is a great shoe for in gym workouts.',\n",
       " 'I did take a 10 mile hike and had a blister on my pinky, but other than that these are very comfortable shoes!',\n",
       " 'Comfortable and light',\n",
       " 'Purchased these for my wife as she has a similar pair that is wearing out.  ',\n",
       " 'She has feet are difficult to fit and these fit perfectly without pressure on sensitive portions of her feet.',\n",
       " 'I have pretty high arches and my calves always hurt at the gym with other shoes.',\n",
       " 'I have been on the hunt for a good cross trainer that I can use to lift, take gym classes, and lightly jog/run on the treadmill.',\n",
       " 'These have been wonderful!',\n",
       " \"I don't ever have any pain in my calves or my feet when wearing these and they fit like a glove.\",\n",
       " 'Highly recommend!',\n",
       " 'Great shoes',\n",
       " 'These were exactly what I expected.',\n",
       " 'Love love love',\n",
       " 'I always wear a womans 9 in Nikes but these are bigger than usual.',\n",
       " 'The right one almost slips off my foot a bit.  ',\n",
       " 'They are really light and not as sturdy as what I was looking for but over all not bad.',\n",
       " 'These shoes are awesome!!',\n",
       " 'l always buy Nike shoes and been happy so far, but this time my left shoe fit perfectly while the right shoe was too loose on my heal and when I tighten it more it was hurting side of my foot.',\n",
       " 'Bought these as my back up shoes but they have turned into my daily ones I go to!',\n",
       " \"So comfortable and my feet don't hurt after long hours on my feet.\",\n",
       " 'I own a cleaning business so I need my feet not to hurt in the middle of the day.',\n",
       " 'Absolutely love these shoes and color!!',\n",
       " 'They are perfect for running!',\n",
       " 'I run roughly 4 miles 3x per week.',\n",
       " 'This is my second or 3rd pair of this exact style.',\n",
       " 'Fit is perfect!',\n",
       " 'Super comfy!',\n",
       " 'Ordered half a size larger than my usual shoe size and fits perfectly.',\n",
       " 'Fit well.',\n",
       " 'The fit was perfect!',\n",
       " 'I Highly recommend this shoe.',\n",
       " 'Obsessed with these shoes!',\n",
       " 'I was looking for good all around sneakers (running, walking, tennis, etc.)',\n",
       " 'and these more than fit the bill.',\n",
       " \"I was looking specifically for black nikes (I love the fit) with white soles (good for court sports); I was a little reluctant to purchase because I wasn't sure whether the black on the soles would contact the ground, but it doesn't!\",\n",
       " 'Cute shoe, fit as expected, and very comfortable.',\n",
       " 'On time, nice sneakers.',\n",
       " 'Fit as expected.',\n",
       " 'Perfect fit, as always.',\n",
       " 'Great shoe, very comfortable',\n",
       " 'Love these sneakers!',\n",
       " 'Perfect fit and super light',\n",
       " 'These shoes fit like a glove!',\n",
       " 'Light but very supportive!',\n",
       " 'I have worn them several times and feel very light on my feet.',\n",
       " 'Fit true to size',\n",
       " 'Love the fit',\n",
       " \"Nike always makes a good shoe ..abit rough breaking them in but after 9 hours on my feet anyone's feet would hurt abit\",\n",
       " 'Oops!',\n",
       " 'I returned these because I ordered wrong size!',\n",
       " 'Extremely comfortable sneaker!',\n",
       " 'Good looking shoe',\n",
       " 'I have had this style before in a different color and have received many compliments on the shoes.  ',\n",
       " 'They are great walking shoes!  ',\n",
       " 'I wear orthotics and these shoes are one of the best I have found to accommodate them for fit.',\n",
       " 'I loved these shoes...that is until after about an hour of wear, the green inserts on the sole of the right show began falling off.',\n",
       " 'The wear was in my home, on smooth floors.',\n",
       " 'I can only assume they were defective.',\n",
       " 'Great!',\n",
       " 'Super comfy and cute!',\n",
       " 'No issues and fit perfect!',\n",
       " 'Good shoes',\n",
       " 'I returned them...found a Ryka pair I liked better',\n",
       " \"BEST sneakers I've ever purchased!!!!\",\n",
       " 'Excellent ...!!!',\n",
       " 'the best sneakers by far!',\n",
       " 'I had never owned a pair of Nike sneakers, and I went solely on the reviews by others...\\n',\n",
       " 'And I absolutely loved them!!',\n",
       " 'Love these shoes.',\n",
       " \"I've been buying Nikes for years now.\",\n",
       " 'I bought this pair for work and everyday wear and another pair for working out and active wear.',\n",
       " 'They also last a long time in my opinion, especially if you take care of them.',\n",
       " 'Right one is slightly tight..',\n",
       " 'hope it will stretch out.. !!',\n",
       " \"They're ugly: the toe is rounded and the material is weird.\",\n",
       " 'the Nike Womens Flex Trainer 6 is way better looking and costs about the same.',\n",
       " 'So lightweight and awesome!',\n",
       " 'Luv them!!',\n",
       " 'Love the color and fit.',\n",
       " 'I use them to work on at the gym on the treadmill and they are very light and comfortable.',\n",
       " 'Bought these shoes with HIIT in mind, but not too sure how I like the fit on my foot.',\n",
       " 'First time to wear them, not great for running.',\n",
       " \"Maybe after they're broken in a little they'll get better.\",\n",
       " \"If you just need a comfortable pair of shoes for walking, they're fine.\",\n",
       " 'My daughter loves them.',\n",
       " 'Great fit!',\n",
       " 'This is a very attractive shoe.',\n",
       " 'It is true to size and fits as expected.',\n",
       " 'Very satisfied with the seller - delivered on time.',\n",
       " 'Fits good, very lightweight.',\n",
       " 'Comfortable shoe for both workout sessions and walking.  ',\n",
       " 'Neither too bulky nor too light.  ',\n",
       " 'This is my second pair because they fit and have no neon or pink colors, just nice basic B&W.',\n",
       " 'Nice',\n",
       " 'These are the best shoes I have ever use for my workouts!!!',\n",
       " 'I love them and buy them in bulk!!!',\n",
       " 'LOL',\n",
       " 'I love these shoes.  ',\n",
       " 'They fit as expected and they look really nice on.  ',\n",
       " 'These shoes have a narrow base which I really like.  ',\n",
       " \"I don't like the ones that make your foot look wide.\",\n",
       " 'Love this product.  ',\n",
       " 'Great fit.',\n",
       " 'Very low cut heel so if you training and pushing sleds - I ran right out of shoes!',\n",
       " 'Although the traction on toe and heel are great',\n",
       " 'Just what I needed for Group Fight class.',\n",
       " 'Quick movements and footwork are so easy in these sneakers.',\n",
       " 'Love them.',\n",
       " 'Love!',\n",
       " 'Great price too.',\n",
       " \"It's been a long time since I've worked a cross training shoe.\",\n",
       " 'This shoe is very light and minimally passed compared to running shoes.',\n",
       " \"That's not meant to be a knock, just a fact.\\n\\n\",\n",
       " \"I ordered the shoes half a size up because as a former runner, I'm used to my feet needing room to spread and swell.\",\n",
       " \"I wish I hadn't because they feel a little roomy.\",\n",
       " 'I have orthotics, so I think I can remedy the issue once I swap those in.\\n\\n',\n",
       " 'Otherwise, very good shoes',\n",
       " 'Good indoor training shoes for running on treadmill, doing lunges and regular exercises at the gym.',\n",
       " 'These are very flexible, light weight and comfortable.',\n",
       " 'Grip is okay - sticky rubber is used only at the edges of heel and toe areas so I slipped a little when I worked on cable machines, resistance band, etc. on un-carpeted floor.  ',\n",
       " 'I would emphasize that if you do lifting as a part of your everyday routine workout I would not recommend them because mine (cushion) lasted only for six months and this is the reason I gave three stars.',\n",
       " 'Other than that, I liked them!',\n",
       " 'Perf.',\n",
       " 'Best shoes ever!!!',\n",
       " 'Fit good',\n",
       " 'I use these for my Cardio Dance class and they are perfect and very cute.',\n",
       " 'I would definitely recommend.',\n",
       " 'They also cam earlier than expected!!',\n",
       " 'I love these shoes so much that  I reordered another pair online.',\n",
       " \"It's hard to find shoes that fit my really wide feet!\",\n",
       " \"The heel back is my favorite part on them, they're thin and feel like another layer of skin, not bulky or tight at all.  \",\n",
       " 'I walked all over Europe in these!',\n",
       " 'Love these sneakers.',\n",
       " 'Light weight and comfortable even without socks.',\n",
       " 'Nice product',\n",
       " 'I feel like this pair of shoes was made for my feet.',\n",
       " 'Great fit and comfort!',\n",
       " 'Very pleased with this purchase.',\n",
       " 'Quick tranasaction!!!  ',\n",
       " 'Loved the shoes!!!  ',\n",
       " 'Would purchase from them again!!!',\n",
       " \"I got the impression it's cushiony and comfy by reading the reviews on this product, when i tried it on it was a much firmer than my other work shoes, i'm standing all day and need enough support and comfort, this isn't the right product for that.\\n\",\n",
       " 'So i had to return it, but i would assume it would work fine for training.\\n\\n',\n",
       " 'It looks decent and clean.',\n",
       " 'and seems sturdy.  ',\n",
       " 'just not the right thing for me.\\n',\n",
       " 'I was refunded instantly upon returning so.. credit for that.',\n",
       " \"So comfortable, I don't even feel like I have a sneaker on.\",\n",
       " 'Based on the other reviews I got a half a size up and glad I did.',\n",
       " 'they are very comfortable feel like you have nothing on.',\n",
       " 'My favorite nike shoe',\n",
       " 'Super comfortable and extremely lightweight.',\n",
       " 'Great for crossfit!',\n",
       " 'Beautiful I love them comfy',\n",
       " \"I've not even had them a month and the bottom is coming off.\",\n",
       " \"I'm not happy!\",\n",
       " 'Love them!',\n",
       " 'Fit exactly as expected in length and width!',\n",
       " 'I would definitely buy these again.',\n",
       " 'My second pair, love the fit, light weight and great support.',\n",
       " 'I have wide feet and these were too narrow but very nice looking.',\n",
       " 'Ugh... way to large - is this for a man?',\n",
       " 'The shoe fit has expected.',\n",
       " 'It is comfortable.',\n",
       " 'They fit great, look great, are quite comfortable and are just what I was looking for!',\n",
       " 'Super comfy, true Size , I use them for boot Camp,  cross fit',\n",
       " 'and they are great , absolutely recommended it.',\n",
       " 'Love them absolutely comfortable.',\n",
       " \"I'm very picky with sneakers and this ones for the price are great I use them for cross fit , boot camp & they work great .\",\n",
       " 'The sole is very flexible , true size .',\n",
       " 'I have a wide feet and they fit perfectly.',\n",
       " 'Very nice looking Great sneakers.',\n",
       " 'Wife happy with fit.',\n",
       " 'They run big.',\n",
       " 'Order a full size smaller.',\n",
       " 'Super light and very comfortable.',\n",
       " \"I'm a runner and they lack a bit in arch support, so the soles of my feet are a sore.\",\n",
       " \"I'm going to add an insert to try fix the problem.\",\n",
       " 'Just because they are white, they do need a washing regularly but I have received many compliments on how pretty these white and pink shoes are.',\n",
       " 'Extremely good Nike quality.',\n",
       " 'Highly recommended.',\n",
       " 'Arrived in time.',\n",
       " 'Fit as exoected.',\n",
       " 'They take some breaking in but I wore them 2 days in a row for more than five hours per day.',\n",
       " \"I've been using these to exercise and they are nice a roomy and allow my feet to breath.\",\n",
       " 'Also love the colors.',\n",
       " 'Comfortable from the start and very light.',\n",
       " 'As expected.',\n",
       " 'Lightweight, comfortable, supportive.',\n",
       " 'Very happy I bought these shoes for working out.',\n",
       " 'I love these and have them in a light blue too.',\n",
       " 'Very light weight, airy, and comfortable.',\n",
       " 'good quality',\n",
       " 'Very comfortable sneakers',\n",
       " 'and I also like the way it fits.',\n",
       " 'Purchased to wear for weightlifting and Zumba.',\n",
       " 'Zumba trial was last night, and they were great!',\n",
       " 'Super comfortable, good ventilation!',\n",
       " 'Not too much padding, very minimalist, which is just what I wanted',\n",
       " 'Comfortable and lightweight.',\n",
       " \"I love these shoes my second pair of 40 plus $ shoes and they both have certainly out done the $100 K-swiss that I'm looking to return .\",\n",
       " 'The shoes are extremely comfortable, all my clients love them, just wish they came in more colors.',\n",
       " 'They fit as expected and perfect for training, the shoelaces are a little bit too long.',\n",
       " 'Other than that these shoes are as I expected them !',\n",
       " 'Extremely well fitting and light weight',\n",
       " 'Perfect',\n",
       " 'Love them',\n",
       " 'I love these shoes and have worn them for a long time.',\n",
       " 'That are comfy, thinner on the top & sole and are very cute!',\n",
       " 'Fast shipping and turned out as expected.',\n",
       " \"Couldn't be happier.\",\n",
       " 'I have been wearing for a solid week during my work outs & they are great for comfort and they are light weight.',\n",
       " 'Love these shoes for circuit training.',\n",
       " 'Super comfortable.',\n",
       " 'I joined Cross Fit and this is the perfect shoe.',\n",
       " 'just do it :)',\n",
       " 'Love these, comfortable, light weight, great fit.',\n",
       " 'I love this show.',\n",
       " 'The shoes are true to size.',\n",
       " 'I am used to wearing running shoes so these have been an adjustment.',\n",
       " 'Overall, the shoe is nice and provides well for my HIIT and Grit classes I take.',\n",
       " 'Love them!  ',\n",
       " 'I ordered an 8.5 because I usually wear that size but these are a bit big.',\n",
       " 'I wish I ordered an 8.',\n",
       " 'They are really comfortable and I enjoy wearing them.',\n",
       " 'Very comfortable.',\n",
       " 'Very nice shoes.  ',\n",
       " 'Comfortable.',\n",
       " 'Very comfortable.',\n",
       " 'I love wearing them.',\n",
       " 'Great fit so comfortable love them!!!!!',\n",
       " 'A nice lightweight shoe.',\n",
       " \"Not a lot of cushion so I wouldn't run long distances in them.\",\n",
       " 'I really love these shoes.  ',\n",
       " 'They are attractive and very comfortable.  ',\n",
       " 'They work well for my daily workout and fit well.',\n",
       " 'Comfortable shoe.  ',\n",
       " \"First time I've ever bought nikes that feel so large.  \",\n",
       " 'It feels about 1/2 size too big.  ',\n",
       " 'I bought 7.5.  ',\n",
       " 'I normally wear exactly that size and on occasion an 8.',\n",
       " 'Ordered 9(m)',\n",
       " 'received 9 Wide for the second time.',\n",
       " 'Returned them for the second time.',\n",
       " 'Nice shoes',\n",
       " 'This is my second pair of these shoes.  ',\n",
       " 'I love the fit and they provide support for walking.  ',\n",
       " 'I like the way the shoes fit around my ankle, as many shoes are uncomfortable because they come up too high in the back.  ',\n",
       " 'Try them!',\n",
       " 'There is about a 1/2 inch of extra space from the tip of my big toe to the front of the shoe.',\n",
       " \"That's okay, though.\",\n",
       " \"I usually wear socks, so it doesn't feel too big, even if it does make your foot look a bit long.\\n\\n\",\n",
       " 'The colors are vibrant, and the sole has plenty of grip, even on a slippery floor.',\n",
       " 'I wore them for most of the day and they are comfortable.\\n\\n',\n",
       " \"Overall, I'm very pleased with this shoe.\",\n",
       " 'Got them for my girlfriend.',\n",
       " 'She loves them.',\n",
       " \"Says it's like wearing slippers because they are incredibly light.\",\n",
       " 'Serves intended purpose',\n",
       " 'They are super comfortable.',\n",
       " 'Loving them.',\n",
       " 'I have gotten so many compliments on the blue color and look of this shoe.  ',\n",
       " 'It is super comfortable.  ',\n",
       " 'The grip is wonderful for my indoor gym cross training classes.  ',\n",
       " 'I always order a half size larger in Nike brand shoes and thy fit perfectly as I did with this shoe.',\n",
       " 'Fit is fine, but not much cushioning in the footbed.',\n",
       " 'The first time wearing them on a long walk I developed a blister on the bottom of my foot.',\n",
       " 'Perfect for the gym, could use a little more support in the toe area but very comfortable and light.',\n",
       " 'Fit true to size.',\n",
       " 'Meh, felt very comfortable but provided no support.',\n",
       " 'Seem like a good option for walking around in the summer but not for aerobics or lateral movements',\n",
       " 'Love these!',\n",
       " 'Super light and comfortable!',\n",
       " 'Loved the products and services!!',\n",
       " \"It's hard to find a lightweight athletic shoe with a wide toe box.\",\n",
       " 'This shoe has that.',\n",
       " 'I am happy with the support for walking and everyday wear.',\n",
       " \"I wouldn't run in them.\",\n",
       " 'Now I just have to stock up on as many pair as I can afford before Nike discontinues them :).',\n",
       " \"Don't you hate when that happens?\",\n",
       " 'The shoes are amazing,very comfortable and fit as expected highly recommended.',\n",
       " ':)',\n",
       " 'Super comfy!!',\n",
       " 'I needed a wide size, that option was not available.',\n",
       " 'So I went up a half size bigger hoping that would work.',\n",
       " \"It's not quite comfortable but I am  able to wear them.\",\n",
       " 'I like the shoes.',\n",
       " 'Look great',\n",
       " 'I love these shoes.',\n",
       " \"I am rather basic when it comes to Nikes, I don't need all the cool colors, so these look amazing and feel amazing, like they were made for my feet.\",\n",
       " 'I definitely suggest purchasing them.',\n",
       " 'Cute and comfy.',\n",
       " 'Sleek design.',\n",
       " 'My only complaint is the fly wire loosens up and my shoe sometimes slips off my heels during heavy sled runs.',\n",
       " 'I have two pairs of this style.',\n",
       " 'I love them!',\n",
       " 'normally Nike fits small so we go up a half size.',\n",
       " \"These actually fit to my wife's appropriate size.\",\n",
       " 'So be ware when you order.',\n",
       " 'love these shoes.',\n",
       " 'use them to workout inside and to work',\n",
       " 'I was shocked at how small these shoes were, not true at all to size, and I own multiple shoes in this brand.',\n",
       " 'The quality could have been better, in my opinion -- very little support from the upper.',\n",
       " 'Great shoes - was looking for something to replace my barefeet so I can wear orthotics while kickboxing.',\n",
       " 'These are light weight, hug my feet comfortably and have a thinner upper so I can still feel the bag when I kick AND they have good lateral stability.',\n",
       " \"My feet are on the narrow side so it's hard to find shoes that are snug enough.\",\n",
       " 'These are perfect.',\n",
       " 'Oh, and they are really cute too.',\n",
       " 'They fit perfectly.',\n",
       " 'These shoes are great for walking - so very comfortable.',\n",
       " 'Love them.',\n",
       " 'Good fit and comfy.  ',\n",
       " 'Not so cushiony so definetly better for training and not for running or aerobics.',\n",
       " 'Bought size 8 which is my usual size.',\n",
       " 'Light weight and comfortable',\n",
       " 'I was wearing running shoes for cardio dance classes at the gym because I thought they would be sufficient.',\n",
       " 'After getting 2 blood blisters I did some research and found out cross trainers would be more appropriate which is how I ended up buying this pair.',\n",
       " 'They are slightly longer in look then I  would like but I think that is typical of cross trainers.',\n",
       " \"Also, the lacing is done in a way that allows you to tie too tightly if you're not careful (my toes were tingling during one particular work out when I had done this).\",\n",
       " 'Other then that I am very happy with the shoes.',\n",
       " \"Nikes usually run small and I'm a 7.5, so I ordered these in an 8 and they were actually very roomy.  \",\n",
       " 'I love them but they are definitely bright orange/coral and not bright crimson like the description said.  ',\n",
       " \"I thought they'd be more red in hue to wear with my Ohio State clothes, but instead I use them for running.\",\n",
       " 'Color was not at all what i expected.  ',\n",
       " 'It was more orange then red.  ',\n",
       " 'Not sure that I am going to keep them.',\n",
       " 'Perfect fit!',\n",
       " 'Brand new in new box completely perfect condition and on sale!!!',\n",
       " 'Awesome!',\n",
       " 'Highly reccomend!',\n",
       " 'Super cute shoes.',\n",
       " 'Squeaky',\n",
       " 'If you wear Nike on the regular, then you should pretty much know your size.',\n",
       " \"I wear only 7's in Nike, and it fit just as expected.\",\n",
       " 'I have many of the trail runner generations, and love them all.',\n",
       " \"they're my go to sneakers for the gym use, or casual wear.\",\n",
       " 'I have a pair I used mostly for casual wear that have lasted about 5 years.',\n",
       " 'Another pair that I used for cross fit/outdoor runs that lasted a little over a year (very vigorous daily use).',\n",
       " 'All in all, these shoes are great for me.',\n",
       " \"They're lightweight, and comfortable.\",\n",
       " 'Great arch support and cushion both for the heel and ball of the foot.',\n",
       " 'Great aerobic shoe!',\n",
       " 'Good quality, perfect fit.  ',\n",
       " \"It's a Nike!\",\n",
       " 'Size 8, but purchased 8.5 for a more comfortable feel, considering shrinkage as a result of perspiration.',\n",
       " \"I've always gotten this size in Nike shoes with similar description, but these are too long- at least an inch and 1/2.\",\n",
       " 'Very lightweight.',\n",
       " 'Normal Nike quality.',\n",
       " 'Pink is very bright , colors look great together.',\n",
       " 'Love them!!',\n",
       " 'Arrived on time.',\n",
       " 'I probably should have gone with a 7.5 instead of an 8 because they do seem a little big, but if I wear thick socks they are fine.',\n",
       " \"Also, they can sometimes make a very annoying squeaky noise when I run on certain surfaces so I'm trying to get them worn in.\",\n",
       " 'Over-all, I am satisfied with my purchase!',\n",
       " 'After less than a week the sole ripped off on the outside of the shoe',\n",
       " \"The lines don't really show up unless there is a bright light on them.\",\n",
       " 'But other than that they are perfect.',\n",
       " 'They are very true to size and are comfortable the first time you put them on.',\n",
       " 'I love these!  ',\n",
       " 'I ordered an 8.5 which is my normal shoe size and they fit great.  ',\n",
       " 'I used them for my strength training class and they performed well, and they are sooooo pretty!  Comfortable, low profile and stylish!',\n",
       " 'Cute and comfortable',\n",
       " 'Very comfortable.',\n",
       " 'Sizing was perfect as ordered.',\n",
       " 'Quality appears good, still new, not too much more to report.',\n",
       " 'Size really depends on the brand.  ',\n",
       " 'I wear a 6.5 in Nike and they fit me perfectly.  ',\n",
       " 'These shoes are comfortable, they wrap around my feet like a bandage but do not restrict movement.',\n",
       " 'I was really excited when I opened the box to see the color is exactly like the image shows!',\n",
       " 'I have the Nike flex tr 5 and used the same size to order these.',\n",
       " 'They are a little bigger than expected but still comfortable.',\n",
       " 'Returning these.',\n",
       " 'the pictures on here make the shoe appear all black with a touch of pink in the check.',\n",
       " 'however, the whole shoe has pink coming through.',\n",
       " 'I was looking for an all black shoe.',\n",
       " \"I ordered the Nike Women's Flex Supreme TR3 instead and love them!!!\",\n",
       " 'wow these are the most comfortable, light weight shoes.',\n",
       " 'I love them!!',\n",
       " 'love the lightweight and the fit',\n",
       " 'fits perfect, my daughter loves them',\n",
       " \"Finally, after trying about 10 pairs of Nike's, these were a perfect fit.  \",\n",
       " \"They are light and very comfortable, I really just forget about my feet when I'm wearing them.\",\n",
       " 'Came quick and my daughter LOVES them',\n",
       " 'Great Gift - she loved it!  ',\n",
       " \"It's a nice shoe!\",\n",
       " 'Bought these for my daughter and she loves them.  ',\n",
       " 'She tried them on at a retail store a couple months prior, so I knew her exact size.',\n",
       " 'Great product and fast shipping!',\n",
       " 'Tried one in the store and bought it online',\n",
       " 'but it was a different  kind of shoe .',\n",
       " 'Too big , different fit !',\n",
       " 'I had the older generation of this shoe that survived 2 or 3 mud runs and of all my aches and pains, my feet was not one of them.',\n",
       " 'This is because of this shoe.',\n",
       " 'Nike really dropped the mic with this.',\n",
       " 'This pair fits perfect.....the first pair was wrong size in the right box.....definitely order again!!!!!',\n",
       " 'I returned these as they were not true to size.',\n",
       " 'They ran large.',\n",
       " 'wrong shoes',\n",
       " 'There very nice',\n",
       " 'I actually have 3 pairs of these trainers.  ',\n",
       " 'They are very comfortable, there is a neoprene sleeve that goes around your ankle that makes them the most comfortable for me compared to normal athletic shoes.  ',\n",
       " 'They run a little narrow - for me this is perfect, but you may want to round up on the size or try on in the store first if your feet are on the wider side.',\n",
       " 'Just too big otherwise I liked them!',\n",
       " 'Comfortable shoe.  ',\n",
       " 'I would buy again',\n",
       " 'Light weight and comfortable.',\n",
       " 'Fit my size perfectly and very comfortable!',\n",
       " 'Love these shoes!',\n",
       " 'Needed new running shoes and these are perfect.',\n",
       " 'Light weight and fit great!',\n",
       " 'Purchased these for our teenage daughter.',\n",
       " 'She loves them.',\n",
       " 'For both casual wear and sports.',\n",
       " 'Love these shoes, I have worn them all day and found them really comfortable with no aching feet at the end of the day.',\n",
       " 'Fantastic colour and true to size.',\n",
       " \"I also bought  Nike Women's Flex Supreme Tr 3 Pnk Pw/Mtllc Slvr/Cl Gry/White Training Shoe and these shoes are slightly more comfortable than those even though they look very similar.\",\n",
       " 'Super light weight comfortable!',\n",
       " 'Kick box in these and run too.',\n",
       " 'Good support!',\n",
       " 'i bought a pair from DSW for 50$ and they are very comfortable but i bought a size 6.5 when I normally where a size 7.  and even the 6.5 feels a little roomy.  ',\n",
       " 'I have wide flat feet btw.  ',\n",
       " 'im not sure if I will keep them even though i love their look and comfort.  ',\n",
       " \"I've been having feet problems while taking a gym class and I think they won't give me enough support when running.  \",\n",
       " \"they're great for wearing at home or gym and doing exercises in one place- extremely light weight and flexible, but i don't know if they'll last long if you use them everywhere else.  \",\n",
       " ':(  ',\n",
       " 'i really like them',\n",
       " 'but i cant just buy 2 different shoes.\\n',\n",
       " 'also, i really like the strings inside the lining on the side of the shoes to adjust and make the shoe fit snug.',\n",
       " 'it makes me feel secure :D',\n",
       " 'Not a lot of arch support but really lightweight.',\n",
       " 'EXCELLENT',\n",
       " 'Good for non-aerobic workout.',\n",
       " 'Mesh was very comfortable but no support for lateral movrment.',\n",
       " 'Favorite Nikes ever.',\n",
       " 'I already owned this style and was ready for a new pair',\n",
       " 'so I went with these.',\n",
       " 'Love the color and they fit great.',\n",
       " 'Light-weight comfy shoes.',\n",
       " 'Tried a lot of shoes for cross training and these were the best!',\n",
       " 'Wish they had a little more support/cushion, but I love everything else about them!',\n",
       " 'These are as far as comfort goes the most comfortable pair of sneakers I have I suffer from sciatica pain that goes into my feet I have difficulty finding the proper support and comfort in shoes I would recommend these most definitely.',\n",
       " 'After my purchased I found out they are overpriced.',\n",
       " 'They feel good',\n",
       " 'but I will not recommended if you need Wide fit.',\n",
       " 'I bought a pair of these in my size, but they are too small.',\n",
       " 'I can get my feet in them but not comfortably.',\n",
       " \"It's too bad because I can tell the soles are comfortable.\",\n",
       " \"Of course, now I've work them to work so I can't return them.\",\n",
       " 'Love them!  ',\n",
       " 'Very comfortable and great for weight training!',\n",
       " 'Took other reviewers advice and went up half size and it was too large.',\n",
       " 'I thought this was a more sock-like fit',\n",
       " 'but it had a tongue that came up high on my ankle not at all sock like.',\n",
       " 'Nice looking and very light weight with a rounded square toe that left plenty of room front foot and toes.',\n",
       " \"These just weren't what I was looking for.\",\n",
       " 'Really comfortable and very cute.',\n",
       " 'These shoes are great.  ',\n",
       " 'This is the second pair that I have purchased and I love them.',\n",
       " 'Fit to size.',\n",
       " 'Comfortable',\n",
       " 'Picky daughter actually loves them.',\n",
       " 'Fit like a dream!',\n",
       " 'Great for cross-training/HITT videos I do everyday.',\n",
       " 'Great for walking too.',\n",
       " 'Look amazing!',\n",
       " \"Most comfortable training shoes I've worn in a long time.\",\n",
       " 'I bought these sneakers for boot camp class.  ',\n",
       " 'They are very light weight and different than other sneakers that I have owned.  ',\n",
       " 'Have only used them a few times, but like them so far.',\n",
       " 'I got a hot spot on the bottom of my foot the first day I wore them.',\n",
       " 'Still breaking them in for use at the gym.  ',\n",
       " \"I think once I get used to them, they'll work great!  \",\n",
       " ':)',\n",
       " 'Not a fan.',\n",
       " 'Shoes looked great but too narrow for most feet.',\n",
       " 'I love these shoes.',\n",
       " 'I exercise in them as well as just take them on longer walks.',\n",
       " 'Feels good, looks GREAT!!',\n",
       " 'fits perfect',\n",
       " 'Very comfortable shoes.',\n",
       " 'I have wide feet with falling arches.',\n",
       " 'These help both and are comfortable enough that I can be in them all day long.',\n",
       " 'Unfortunately, this Flex Supreme does NOT have enough support over the toe and ankle are for my requirements.\\n',\n",
       " 'Returning for credit.  ',\n",
       " 'Thanks anyway.',\n",
       " 'After using this shoes seven times for regular activities like walking or dancing the sole came out.',\n",
       " 'I am very disappointed.',\n",
       " \"I don't recommend this product at all.\",\n",
       " 'The worse part is that I can not return this item because the return window closed 4 days ago.',\n",
       " 'Fit like gloves to my feet!',\n",
       " 'Perfect for workouts.',\n",
       " \"I've worn these to work out for 5 days in a row now.\",\n",
       " 'Initially, my arches ached but over time the discomfort subsided entirely.',\n",
       " \"I've done everything from bootcamps, resistance training, running and Zumba.\",\n",
       " 'So yeah.., they are truly crosstrainers ;-)',\n",
       " 'I liked these shoes a lot.',\n",
       " 'Very light weight.',\n",
       " \"I didn't give a 5 because the color was a little lighter than I thought it was going to be but still a great shoe.\",\n",
       " 'Very comfortable',\n",
       " 'Love them !!!',\n",
       " 'I love these shoes!',\n",
       " 'Great arch support and perfect for cardio.',\n",
       " 'I workout at the local crossfit and find that these shoes help give me good support  with my endurance workouts.',\n",
       " 'These shoes look really great.',\n",
       " 'However, slightly loose.',\n",
       " 'The problems with lack of support arose when I exercised.',\n",
       " 'It feels like there is little to no support in them.',\n",
       " 'Possibly this is a shoe more geared for an office environment or short walking distances.',\n",
       " 'These are my favorite walk around shoes!',\n",
       " 'I can wear them all day and not be in pain!',\n",
       " 'Love em!',\n",
       " 'Favorite training and walking-around sneakers.\\n',\n",
       " 'They look good with just about anything, and are comfortable for most situations.\\n',\n",
       " 'With the exception of running (for which I use proper Mizuno running sneakers with an arch-support insole), these sneakers are my go-to.\\n',\n",
       " \"If I could, I'd take away a 1/2 star for arch support - I have a slightly wider front of the foot and arches that are a little on the high side, so I do look for a good under the foot fit.\",\n",
       " \"I could probably tie the laces differently or put in an insole(they're pretty expensive), but as is, when I did a zumba class in these, my arch began to twinge :(\\n\",\n",
       " 'However, this is overall an awesome shoe that I will continue to stick with for going out, day to day walking, and for training and gym use (with the exception of running and zumba (although hip-hop was fine).',\n",
       " 'The shoes have a great flexibility to them and don\\'t look \"dirty\" easily.',\n",
       " 'My previous pair of flex supreme TR 3s have lasted for a good 2 years and are just now on the verge of being worn out.',\n",
       " 'This is the optimal sneaker that is flexible in more ways than one: from pointing you toes to leg-pressing, from gym use to shopping to adding a sporty edge to a dressy night out, the flex has it all.',\n",
       " 'Love these!',\n",
       " \"I have 3 pairs...they're so comfortable - I'm on my feet all day & my feet actually don't hurt at the end of the day when I wear these :)\\nI've learned to get these 1/2 size smaller....I'm normally a size 7 and the 6 1/2 fit perfectly\",\n",
       " 'Great shoes.',\n",
       " 'Lightweight and comfortable',\n",
       " 'BEST.',\n",
       " 'SHOES.',\n",
       " 'EVER.  ',\n",
       " \"I bought two pairs in different colors- black n' white and the pink and white...  \",\n",
       " 'They have AWESOME support for whatever you use them for..',\n",
       " 'I have one for work and the other for training/running/etc in...',\n",
       " 'These sneakers give me the motivation to workout because they feel so good and are great for any training',\n",
       " 'I LOVE the look and comfort of these shoes for style and lifting weights.',\n",
       " 'Super cute and flezable.',\n",
       " 'BUT for running, absolutely not!!',\n",
       " 'It might just be my pronation/supnation and these shoes just do not work for my personal stride.',\n",
       " 'I run about 2-4 miles every few days.',\n",
       " 'Average of 8 miles a week and then sprints twice a week on a treadmill.',\n",
       " 'Just after running with these 3 times, I am having major back issues that I have never had before.\\n\\n',\n",
       " 'MY STATS and other shoes:\\nI road and trail run.',\n",
       " 'I run on my tip toes on the treadmill and a lot of heal on the road.',\n",
       " \"I am 5'6 169lbs with more muscle than an average runner.\",\n",
       " 'Built more like a sprinter than a marathon runner.\\n',\n",
       " 'I LOVE Nike FLEX bottoms.',\n",
       " 'They really give me support and flex needed.',\n",
       " 'I have also used Asics and Puma.',\n",
       " 'Size 5.',\n",
       " 'Very comfortable shoes.',\n",
       " 'Love!',\n",
       " 'I bought a wide size of these at a local store and they are amazing!  ',\n",
       " 'Soft, comfy, with moderate support.  ',\n",
       " 'Not a cloud to walk on, but not minimalist.  ',\n",
       " 'The wide size is perfect for my wide feet with high arches.  ',\n",
       " 'The shoe tends to run about a half size long though, especially for Nike.  ',\n",
       " 'I am working on getting in shape, and these shoes feel good all day...',\n",
       " 'No rubbing on my big toe joint or pinkie toe or heel.  ',\n",
       " 'Very pleased.',\n",
       " 'I always buy the same size this ones came to large',\n",
       " 'Nice shoes, fit good',\n",
       " 'I bought these for my wife.',\n",
       " 'She saw them in the store but did not have their size so i ordered on amazon.',\n",
       " 'She loves them .',\n",
       " 'She already had for a couple of months and no complains at all.',\n",
       " 'One of her favorites shoes for running or for her job since she walks a lot in the warehouse.',\n",
       " 'Now she loves me more.',\n",
       " ':)',\n",
       " 'Love these shoes.',\n",
       " 'My feet have been weird since I was pregnant and my old shoes were uncomfortable.',\n",
       " 'These are very comfy and help me get active.',\n",
       " 'They are also stylish and go with anything.',\n",
       " 'Look better than the picture, very comfortable, great support.',\n",
       " \"Love my new Nike's.  \",\n",
       " \"It's been years since I've been able to wear them (sizing changed years ago and I just couldn't wear them any more) but now the new styles and sizing are perfect.  \",\n",
       " 'Lightweight shoe with tons of style.  ',\n",
       " 'The Fog color is just what I was looking for...not black and not neon!  ',\n",
       " 'I wore them to participate in Relay for Life (24 hour walk) and they held up great!',\n",
       " 'I am so happy with this purchase.',\n",
       " \"I feel like I'm barely wearing a sneaker when working out.\",\n",
       " 'Another plus is that when I take off my sneaker, my sock is barely sweaty!',\n",
       " 'I have never had that experience with a shoe.',\n",
       " 'The shoe is also very attractive and flattering and looks nice on my feet.',\n",
       " 'Absolutely love them.',\n",
       " 'Can even wear them without my insoles.',\n",
       " \"Super cute shoe however runs wide and big, I'm a size 10 however this size 10 is too big.\",\n",
       " \"I went to a sporting goods store and tried the same shoe on  turns out with this particular shoe I'm a 9.5, so order half the size u normally are.\",\n",
       " 'Wore these for the first time hiking the bluffs.',\n",
       " 'Not the best traction on well worn rocks, but super comfy.',\n",
       " 'No blisters, no achilles pain like with other shoes.',\n",
       " 'Will continue to purchase Nike shoes, because my feet love them for all activities!',\n",
       " '( except my home workouts, they drag pretty hard on the carpet)',\n",
       " 'A-MA-ZING!  ',\n",
       " 'I needed a good jogging shoe and these make me feel like \"Forest Gump\".  ',\n",
       " 'I felt like I was running on a cloud.  ',\n",
       " 'I have narrow feet and these fit perfectly.  ',\n",
       " \"I am so happy that I am going to purchase another two pair as back-ups for once it's time to replace them.  \",\n",
       " 'Highly recommend to women who like to walk or run and light a light weight, comfortable shoe.',\n",
       " 'Comfortable and lightweight.',\n",
       " \"Need a good training shoe that's also supportive and flexible.  \",\n",
       " 'I really like the fit, but had to get 1/2 size larger as this style in my size is too perfect from heel to toe.',\n",
       " 'Excellent',\n",
       " 'These shoes are awesome!  ',\n",
       " 'They are nearly weightless and feel great on my feet.  ',\n",
       " 'The first day I wore them I wore them ALL day on vacation.  ',\n",
       " 'I put them on the next day and did the same.  ',\n",
       " 'Besides the comfort, they are really a cool color!',\n",
       " 'Super cute!',\n",
       " 'perfect',\n",
       " \"This is the most comfortable shoe I've ever had.\",\n",
       " \"No other shoe can compare to how the individual nubs on the bottom allow your foot to be cushioned, yet work like it's suppose to.\",\n",
       " \"My feet feel cradled in this shoe and hard surfaces don't make my feet ache anymore.\\n\\n\",\n",
       " \"These shoes have a small amount of support, but not much, which I like as I'm coming from vibram five fingers.\",\n",
       " \"(Sorry vffs, I'm bailing after 2 years of shin splints, no matter what I did).\\n\\n\",\n",
       " 'Highly recommended for walking/running on concrete or tracks.',\n",
       " 'As long as nike continues to make the flex supreme, they will get my money.',\n",
       " \"Please don't change this shoe!\",\n",
       " 'I wear them for Zumba and my heel slips on turns.',\n",
       " 'A little annoying because I have to pay attention',\n",
       " 'but they are so cute and comfy, it balances out.',\n",
       " 'These run large.',\n",
       " 'I wear a 9.5 exactly in every shoe, but these I bought a 9, and the toe area is pretty wide plus plenty long even with socks.',\n",
       " 'Very comfy and very nice looking shoe.',\n",
       " 'I love them but glad I was able to try them on before purchasing.',\n",
       " 'Perfect fit, very comfortable, and a great color.',\n",
       " 'They also fit as expected.',\n",
       " 'Really comfy and nice color',\n",
       " 'The picture makes the shoe look like it has a \"boxier\" toe rather than the \"pointier\" toe that it actually has.',\n",
       " 'I have wider feet and generally need to buy a size or half size longer to get a comfortable width (in any brand of shoe).',\n",
       " \"I was shooting for a rounder, broader toe design which is more comfortable for me, and I feel that the pictures of this shoe didn't accurately depict what I received, in that one detail.\",\n",
       " 'Otherwise, \"the shoe fits.\"',\n",
       " 'So I am wearing it.',\n",
       " \"These are the most comfortable shoes I've used for working out.\",\n",
       " 'Extremely light weight and flexible.',\n",
       " 'Loved them so much I purchased two more pair in different colors.',\n",
       " 'Very comfortable and looks great!',\n",
       " 'Love this shoes so comfy and great very everyday use.',\n",
       " 'Runs big',\n",
       " 'Nice looking and fit nice',\n",
       " 'I am a recess aide and on my feet all day long.',\n",
       " 'I tried these shoes on in the store before purchasing them on Amazon.',\n",
       " 'They are very lightweight and comfortable.',\n",
       " 'I was surprised how great they felt.',\n",
       " \"I haven't had a pair of Nikes since Nike shoxs came out.\",\n",
       " 'They are so much more lightweight than those.',\n",
       " 'I wore them an entire day the first day and had no problems.',\n",
       " 'The second day; however, I got a pain in my hip to the point where I started limping.',\n",
       " 'As soon as I got home and took them off, the pain was gone the rest of the evening.',\n",
       " \"I'm only 30 by the way.\",\n",
       " 'Nothing else in my daily routine changed except wearing these shoes two days in a row.',\n",
       " \"I don't understand why it would make my hip hurt since they are comfortable on my feet, but I'm sure that was the problem.\",\n",
       " 'I wore different shoes today and had no pain.',\n",
       " \"I don't think as much as I am on my feet I will be able to wear them an extended amount of time.\",\n",
       " 'I will have to rotate wearing them every other day.',\n",
       " 'For normal wear, I believe, people will be fine.',\n",
       " 'I am literally walking or standing six hours a day straight.\\n\\n',\n",
       " '**UPDATE:',\n",
       " 'So, initially after wearing them, I had hip pain after wearing them.',\n",
       " \"I don't know if they just needed to be broken in, but I wear them all the time now and have not experienced any pain since the first couple times of wearing them.\",\n",
       " 'They are comfortable, and I love them even more now.',\n",
       " 'Perfict fit for me.',\n",
       " 'Great looking shoes at a great price.',\n",
       " 'The sneakers are very comfortable and fit to size.',\n",
       " \"I've had these shoes for about a week now and have so far enjoyed using them.\",\n",
       " 'Considering the fact that I have wide feet, the shoes are slightly tight.',\n",
       " \"However, it doesn't feel uncomfortable nor does it bothers me as I use them throughout my workouts.\",\n",
       " \"I know some people personally like when the shoes are a bit tighter or a bit looser so it's all in personal preference.\",\n",
       " 'I really like them!',\n",
       " 'Good light weight shoe...had to add insole for more support.',\n",
       " 'I love my tennis shoes',\n",
       " 'This is a shoe I will wear with black dress pants or jeans when I need comfort and a little style, but I am not impressed.  ',\n",
       " 'This is a very flimsy shoe with little support at all.  ',\n",
       " \"Not like any Nike I've ever purchased in the past.  \",\n",
       " \"It looks nice, but it's not comfortable.\",\n",
       " 'Love it!!',\n",
       " 'Super comfortable and nice!!',\n",
       " 'Got more than I expected, super flexible great for training.',\n",
       " 'Definetly recommend it.',\n",
       " 'Excelente',\n",
       " \"These shoes are poorly constructed and I don't expect them to last more that one summer.  \",\n",
       " 'Would not recommend, and will not order another Nike downshifter series again',\n",
       " \"For the price I spent on the pair of shoes, I'd say it's as good as expected.\\n\",\n",
       " \"It's comfortable and doesn't hurt my feet when I run.\",\n",
       " 'I love this shoes they are so comfortable',\n",
       " 'I absolutely LOVE these shoes.',\n",
       " 'These are my absolute favorite.',\n",
       " 'So light and comfortable.',\n",
       " 'These are actually my 2nd pair.',\n",
       " 'I am still wearing my 1st pair after 2 years and they look good still.',\n",
       " 'I am just afraid they are going to disappear and I want a back up pair for when my 1st pair wears out.',\n",
       " \"These have been the best shoes I've owned!\",\n",
       " 'Perfect fit!',\n",
       " 'My favorite cross trainers!',\n",
       " 'Love them fit perfect',\n",
       " 'Favorite Nike shoe ever!',\n",
       " 'The flex sole is excellent for someone like me who loves the free feeling of sandals or being barefoot.',\n",
       " 'These move effortlessly with the bend of my foot.',\n",
       " \"I've worn these for multiple activities and I've had no foot or ankle pain.\",\n",
       " 'The white/green/dark grey color goes with so many outfits and the mesh breathes perfectly on hot summer days.',\n",
       " 'Highly recommend!',\n",
       " 'I wear these everyday to work, the gym, etc.',\n",
       " 'Love these shoes!',\n",
       " 'Great fit, very light weight.',\n",
       " 'Super comfortable and fit my small feet perfectly.',\n",
       " 'I have flat feet so a lot of shoes are not comfortable for long periods of time.',\n",
       " 'I can wear the shoe all day long and they are super comfortable.',\n",
       " 'They are light colored so any dirt will be seen right away, but they are easy to clean compared to other shoes Ive had.',\n",
       " 'Would definitely buy another pair in a different color.',\n",
       " 'Love these shoes!']"
      ]
     },
     "execution_count": 4,
     "metadata": {},
     "output_type": "execute_result"
    }
   ],
   "source": [
    "# split reviews into sentences\n",
    "import spacy\n",
    "\n",
    "nlp = spacy.load('en_core_web_md')\n",
    "\n",
    "temp = []\n",
    "for doc in docs:\n",
    "    doc = nlp(doc)\n",
    "    for sent in doc.sents:\n",
    "        temp.append(str(sent))\n",
    "docs = temp\n",
    "docs"
   ]
  },
  {
   "attachments": {},
   "cell_type": "markdown",
   "metadata": {},
   "source": [
    "## BERTopic simplest usage\n",
    "\n",
    "This is the simplest case with everything set as default. Here, topic -1 refers to outliers. N_topics is detected automatically by clustering algorithm. \n",
    "\n",
    "The following figure shows the whole model in steps:\n",
    "\n",
    "![Default model](https://maartengr.github.io/BERTopic/algorithm/default.svg)\n"
   ]
  },
  {
   "cell_type": "code",
   "execution_count": 5,
   "metadata": {},
   "outputs": [
    {
     "data": {
      "text/html": [
       "<div>\n",
       "<style scoped>\n",
       "    .dataframe tbody tr th:only-of-type {\n",
       "        vertical-align: middle;\n",
       "    }\n",
       "\n",
       "    .dataframe tbody tr th {\n",
       "        vertical-align: top;\n",
       "    }\n",
       "\n",
       "    .dataframe thead th {\n",
       "        text-align: right;\n",
       "    }\n",
       "</style>\n",
       "<table border=\"1\" class=\"dataframe\">\n",
       "  <thead>\n",
       "    <tr style=\"text-align: right;\">\n",
       "      <th></th>\n",
       "      <th>Topic</th>\n",
       "      <th>Count</th>\n",
       "      <th>Name</th>\n",
       "    </tr>\n",
       "  </thead>\n",
       "  <tbody>\n",
       "    <tr>\n",
       "      <th>0</th>\n",
       "      <td>-1</td>\n",
       "      <td>82</td>\n",
       "      <td>-1_they_for_to_expected</td>\n",
       "    </tr>\n",
       "    <tr>\n",
       "      <th>1</th>\n",
       "      <td>0</td>\n",
       "      <td>370</td>\n",
       "      <td>0_shoes_the_these_and</td>\n",
       "    </tr>\n",
       "    <tr>\n",
       "      <th>2</th>\n",
       "      <td>1</td>\n",
       "      <td>73</td>\n",
       "      <td>1_comfortable_light_very_super</td>\n",
       "    </tr>\n",
       "    <tr>\n",
       "      <th>3</th>\n",
       "      <td>2</td>\n",
       "      <td>53</td>\n",
       "      <td>2_fit_perfect_great_they</td>\n",
       "    </tr>\n",
       "    <tr>\n",
       "      <th>4</th>\n",
       "      <td>3</td>\n",
       "      <td>51</td>\n",
       "      <td>3_size_ordered_half_wear</td>\n",
       "    </tr>\n",
       "    <tr>\n",
       "      <th>5</th>\n",
       "      <td>4</td>\n",
       "      <td>43</td>\n",
       "      <td>4_love_them_really_these</td>\n",
       "    </tr>\n",
       "    <tr>\n",
       "      <th>6</th>\n",
       "      <td>5</td>\n",
       "      <td>41</td>\n",
       "      <td>5_they_are_comfortable_feel</td>\n",
       "    </tr>\n",
       "    <tr>\n",
       "      <th>7</th>\n",
       "      <td>6</td>\n",
       "      <td>32</td>\n",
       "      <td>6_excellent_lol_excelente_perfect</td>\n",
       "    </tr>\n",
       "    <tr>\n",
       "      <th>8</th>\n",
       "      <td>7</td>\n",
       "      <td>30</td>\n",
       "      <td>7_nike_nikes_flex_quality</td>\n",
       "    </tr>\n",
       "    <tr>\n",
       "      <th>9</th>\n",
       "      <td>8</td>\n",
       "      <td>29</td>\n",
       "      <td>8_pair_second_this_my</td>\n",
       "    </tr>\n",
       "    <tr>\n",
       "      <th>10</th>\n",
       "      <td>9</td>\n",
       "      <td>27</td>\n",
       "      <td>9_purchase_satisfied_product_with</td>\n",
       "    </tr>\n",
       "    <tr>\n",
       "      <th>11</th>\n",
       "      <td>10</td>\n",
       "      <td>26</td>\n",
       "      <td>10_them_returning_again_would</td>\n",
       "    </tr>\n",
       "    <tr>\n",
       "      <th>12</th>\n",
       "      <td>11</td>\n",
       "      <td>24</td>\n",
       "      <td>11_wide_narrow_feet_have</td>\n",
       "    </tr>\n",
       "    <tr>\n",
       "      <th>13</th>\n",
       "      <td>12</td>\n",
       "      <td>18</td>\n",
       "      <td>12_loves_she_daughter_them</td>\n",
       "    </tr>\n",
       "    <tr>\n",
       "      <th>14</th>\n",
       "      <td>13</td>\n",
       "      <td>16</td>\n",
       "      <td>13_true_size_to_fit</td>\n",
       "    </tr>\n",
       "    <tr>\n",
       "      <th>15</th>\n",
       "      <td>14</td>\n",
       "      <td>12</td>\n",
       "      <td>14_color_pink_the_gray</td>\n",
       "    </tr>\n",
       "    <tr>\n",
       "      <th>16</th>\n",
       "      <td>15</td>\n",
       "      <td>11</td>\n",
       "      <td>15_arch_support_high_decent</td>\n",
       "    </tr>\n",
       "  </tbody>\n",
       "</table>\n",
       "</div>"
      ],
      "text/plain": [
       "    Topic  Count                               Name\n",
       "0      -1     82            -1_they_for_to_expected\n",
       "1       0    370              0_shoes_the_these_and\n",
       "2       1     73     1_comfortable_light_very_super\n",
       "3       2     53           2_fit_perfect_great_they\n",
       "4       3     51           3_size_ordered_half_wear\n",
       "5       4     43           4_love_them_really_these\n",
       "6       5     41        5_they_are_comfortable_feel\n",
       "7       6     32  6_excellent_lol_excelente_perfect\n",
       "8       7     30          7_nike_nikes_flex_quality\n",
       "9       8     29              8_pair_second_this_my\n",
       "10      9     27  9_purchase_satisfied_product_with\n",
       "11     10     26      10_them_returning_again_would\n",
       "12     11     24           11_wide_narrow_feet_have\n",
       "13     12     18         12_loves_she_daughter_them\n",
       "14     13     16                13_true_size_to_fit\n",
       "15     14     12             14_color_pink_the_gray\n",
       "16     15     11        15_arch_support_high_decent"
      ]
     },
     "execution_count": 5,
     "metadata": {},
     "output_type": "execute_result"
    }
   ],
   "source": [
    "from bertopic import BERTopic\n",
    "\n",
    "topic_model_simplest = BERTopic()\n",
    "topic, probs = topic_model_simplest.fit_transform(docs)\n",
    "topic_model_simplest.get_topic_info()"
   ]
  },
  {
   "cell_type": "code",
   "execution_count": 6,
   "metadata": {},
   "outputs": [
    {
     "data": {
      "text/plain": [
       "(7, 0.3738170092615666)"
      ]
     },
     "execution_count": 6,
     "metadata": {},
     "output_type": "execute_result"
    }
   ],
   "source": [
    "# the major topic of an argument and the probability of the argument belong to that topic\n",
    "i = 5\n",
    "topic[i], probs[i]"
   ]
  },
  {
   "cell_type": "code",
   "execution_count": 7,
   "metadata": {},
   "outputs": [
    {
     "data": {
      "text/plain": [
       "array([[0.1394323 , 0.        , 0.        , ..., 0.19671724, 0.        ,\n",
       "        0.        ],\n",
       "       [0.28143717, 0.        , 0.        , ..., 0.20275315, 0.        ,\n",
       "        0.        ],\n",
       "       [0.3403342 , 0.        , 0.        , ..., 0.15067118, 0.        ,\n",
       "        0.        ],\n",
       "       ...,\n",
       "       [0.22699865, 0.09132069, 0.10094738, ..., 0.1396909 , 0.        ,\n",
       "        0.        ],\n",
       "       [0.        , 0.        , 0.06038233, ..., 0.        , 0.08479222,\n",
       "        0.        ],\n",
       "       [0.35144841, 0.        , 0.        , ..., 0.        , 0.        ,\n",
       "        0.        ]])"
      ]
     },
     "execution_count": 7,
     "metadata": {},
     "output_type": "execute_result"
    }
   ],
   "source": [
    "# poster topic distributions over documents\n",
    "topic_model_simplest.approximate_distribution(docs)[0]"
   ]
  },
  {
   "attachments": {},
   "cell_type": "markdown",
   "metadata": {},
   "source": [
    "## A more complicated example borrowed from [their website](https://maartengr.github.io/BERTopic/algorithm/algorithm.html#visual-overview)"
   ]
  },
  {
   "cell_type": "code",
   "execution_count": 6,
   "metadata": {},
   "outputs": [
    {
     "data": {
      "application/vnd.jupyter.widget-view+json": {
       "model_id": "acf845b5f5f748a49949fc3d4ee23900",
       "version_major": 2,
       "version_minor": 0
      },
      "text/plain": [
       "Downloading (…)b2106/.gitattributes:   0%|          | 0.00/737 [00:00<?, ?B/s]"
      ]
     },
     "metadata": {},
     "output_type": "display_data"
    },
    {
     "data": {
      "application/vnd.jupyter.widget-view+json": {
       "model_id": "eba0753fe75f4cf19044da20305e6242",
       "version_major": 2,
       "version_minor": 0
      },
      "text/plain": [
       "Downloading (…)_Pooling/config.json:   0%|          | 0.00/190 [00:00<?, ?B/s]"
      ]
     },
     "metadata": {},
     "output_type": "display_data"
    },
    {
     "data": {
      "application/vnd.jupyter.widget-view+json": {
       "model_id": "4a38080ed15648c0acfd740c67070219",
       "version_major": 2,
       "version_minor": 0
      },
      "text/plain": [
       "Downloading (…)711acb2106/README.md:   0%|          | 0.00/9.85k [00:00<?, ?B/s]"
      ]
     },
     "metadata": {},
     "output_type": "display_data"
    },
    {
     "data": {
      "application/vnd.jupyter.widget-view+json": {
       "model_id": "50b9023a042c43bbad0f6de3e08fb18f",
       "version_major": 2,
       "version_minor": 0
      },
      "text/plain": [
       "Downloading (…)1acb2106/config.json:   0%|          | 0.00/591 [00:00<?, ?B/s]"
      ]
     },
     "metadata": {},
     "output_type": "display_data"
    },
    {
     "data": {
      "application/vnd.jupyter.widget-view+json": {
       "model_id": "837520902d924d8493015e260825cd01",
       "version_major": 2,
       "version_minor": 0
      },
      "text/plain": [
       "Downloading (…)ce_transformers.json:   0%|          | 0.00/116 [00:00<?, ?B/s]"
      ]
     },
     "metadata": {},
     "output_type": "display_data"
    },
    {
     "data": {
      "application/vnd.jupyter.widget-view+json": {
       "model_id": "7ed3e731ab304848b0b8f582b332e314",
       "version_major": 2,
       "version_minor": 0
      },
      "text/plain": [
       "Downloading (…)106/data_config.json:   0%|          | 0.00/15.7k [00:00<?, ?B/s]"
      ]
     },
     "metadata": {},
     "output_type": "display_data"
    },
    {
     "data": {
      "application/vnd.jupyter.widget-view+json": {
       "model_id": "9b2a503fe2cb4f508c11801d0c8c6cd8",
       "version_major": 2,
       "version_minor": 0
      },
      "text/plain": [
       "Downloading pytorch_model.bin:   0%|          | 0.00/438M [00:00<?, ?B/s]"
      ]
     },
     "metadata": {},
     "output_type": "display_data"
    },
    {
     "data": {
      "application/vnd.jupyter.widget-view+json": {
       "model_id": "ff54976e978349e9b2f90295b60e6ac9",
       "version_major": 2,
       "version_minor": 0
      },
      "text/plain": [
       "Downloading (…)nce_bert_config.json:   0%|          | 0.00/53.0 [00:00<?, ?B/s]"
      ]
     },
     "metadata": {},
     "output_type": "display_data"
    },
    {
     "data": {
      "application/vnd.jupyter.widget-view+json": {
       "model_id": "2bfe06528eac4fe18aae4006d395130a",
       "version_major": 2,
       "version_minor": 0
      },
      "text/plain": [
       "Downloading (…)cial_tokens_map.json:   0%|          | 0.00/239 [00:00<?, ?B/s]"
      ]
     },
     "metadata": {},
     "output_type": "display_data"
    },
    {
     "data": {
      "application/vnd.jupyter.widget-view+json": {
       "model_id": "c272791096de490dbb2e27293e3374ba",
       "version_major": 2,
       "version_minor": 0
      },
      "text/plain": [
       "Downloading (…)b2106/tokenizer.json:   0%|          | 0.00/466k [00:00<?, ?B/s]"
      ]
     },
     "metadata": {},
     "output_type": "display_data"
    },
    {
     "data": {
      "application/vnd.jupyter.widget-view+json": {
       "model_id": "3494737eba1f4b4086931db559ede33e",
       "version_major": 2,
       "version_minor": 0
      },
      "text/plain": [
       "Downloading (…)okenizer_config.json:   0%|          | 0.00/363 [00:00<?, ?B/s]"
      ]
     },
     "metadata": {},
     "output_type": "display_data"
    },
    {
     "data": {
      "application/vnd.jupyter.widget-view+json": {
       "model_id": "89bda6d5b70f496c992261d8a1085e43",
       "version_major": 2,
       "version_minor": 0
      },
      "text/plain": [
       "Downloading (…)2106/train_script.py:   0%|          | 0.00/13.2k [00:00<?, ?B/s]"
      ]
     },
     "metadata": {},
     "output_type": "display_data"
    },
    {
     "data": {
      "application/vnd.jupyter.widget-view+json": {
       "model_id": "ba74f72db7ac48ab9eadc49e0d82c301",
       "version_major": 2,
       "version_minor": 0
      },
      "text/plain": [
       "Downloading (…)711acb2106/vocab.txt:   0%|          | 0.00/232k [00:00<?, ?B/s]"
      ]
     },
     "metadata": {},
     "output_type": "display_data"
    },
    {
     "data": {
      "application/vnd.jupyter.widget-view+json": {
       "model_id": "80a3bc7918d04b7190387a8c79ac5111",
       "version_major": 2,
       "version_minor": 0
      },
      "text/plain": [
       "Downloading (…)acb2106/modules.json:   0%|          | 0.00/349 [00:00<?, ?B/s]"
      ]
     },
     "metadata": {},
     "output_type": "display_data"
    },
    {
     "data": {
      "text/html": [
       "<div>\n",
       "<style scoped>\n",
       "    .dataframe tbody tr th:only-of-type {\n",
       "        vertical-align: middle;\n",
       "    }\n",
       "\n",
       "    .dataframe tbody tr th {\n",
       "        vertical-align: top;\n",
       "    }\n",
       "\n",
       "    .dataframe thead th {\n",
       "        text-align: right;\n",
       "    }\n",
       "</style>\n",
       "<table border=\"1\" class=\"dataframe\">\n",
       "  <thead>\n",
       "    <tr style=\"text-align: right;\">\n",
       "      <th></th>\n",
       "      <th>Topic</th>\n",
       "      <th>Count</th>\n",
       "      <th>Name</th>\n",
       "    </tr>\n",
       "  </thead>\n",
       "  <tbody>\n",
       "    <tr>\n",
       "      <th>0</th>\n",
       "      <td>-1</td>\n",
       "      <td>812</td>\n",
       "      <td>-1_fit_nikes_fits_nike</td>\n",
       "    </tr>\n",
       "    <tr>\n",
       "      <th>1</th>\n",
       "      <td>0</td>\n",
       "      <td>110</td>\n",
       "      <td>0_comfortable_comfy_shoes_sneakers</td>\n",
       "    </tr>\n",
       "    <tr>\n",
       "      <th>2</th>\n",
       "      <td>1</td>\n",
       "      <td>16</td>\n",
       "      <td>1_love___</td>\n",
       "    </tr>\n",
       "  </tbody>\n",
       "</table>\n",
       "</div>"
      ],
      "text/plain": [
       "   Topic  Count                                Name\n",
       "0     -1    812              -1_fit_nikes_fits_nike\n",
       "1      0    110  0_comfortable_comfy_shoes_sneakers\n",
       "2      1     16                           1_love___"
      ]
     },
     "execution_count": 6,
     "metadata": {},
     "output_type": "execute_result"
    }
   ],
   "source": [
    "from umap import UMAP\n",
    "from hdbscan import HDBSCAN\n",
    "from sentence_transformers import SentenceTransformer\n",
    "from sklearn.feature_extraction.text import CountVectorizer\n",
    "\n",
    "from bertopic import BERTopic\n",
    "from bertopic.representation import KeyBERTInspired\n",
    "from bertopic.vectorizers import ClassTfidfTransformer\n",
    "from bertopic.dimensionality import BaseDimensionalityReduction\n",
    "\n",
    "\n",
    "# Step 1 - Extract embeddings\n",
    "embedding_model = SentenceTransformer(\"all-mpnet-base-v1\")\n",
    "\n",
    "# Step 2 - Reduce dimensionality\n",
    "umap_model = UMAP(n_neighbors=15, n_components=5, min_dist=0.0, metric='cosine')\n",
    "# umap_model = BaseDimensionalityReduction() # empty model\n",
    "\n",
    "# Step 3 - Cluster reduced embeddings\n",
    "hdbscan_model = HDBSCAN(min_cluster_size=15, metric='euclidean', cluster_selection_method='eom', prediction_data=True)\n",
    "\n",
    "# Step 4 - Tokenize topics\n",
    "vectorizer_model = CountVectorizer(stop_words=\"english\")\n",
    "\n",
    "# Step 5 - Create topic representation\n",
    "ctfidf_model = ClassTfidfTransformer()\n",
    "\n",
    "# Step 6 - (Optional) Fine-tune topic representations with \n",
    "# a `bertopic.representation` model\n",
    "representation_model = KeyBERTInspired()\n",
    "\n",
    "# All steps together\n",
    "topic_model = BERTopic(\n",
    "  embedding_model=embedding_model,          # Step 1 - Extract embeddings\n",
    "  umap_model=umap_model,                    # Step 2 - Reduce dimensionality\n",
    "  hdbscan_model=hdbscan_model,              # Step 3 - Cluster reduced embeddings\n",
    "  vectorizer_model=vectorizer_model,        # Step 4 - Tokenize topics\n",
    "  ctfidf_model=ctfidf_model,                # Step 5 - Extract topic words\n",
    "  representation_model=representation_model # Step 6 - (Optional) Fine-tune topic represenations\n",
    ")\n",
    "\n",
    "topic, probs = topic_model.fit_transform(docs)\n",
    "topic_model.get_topic_info()"
   ]
  },
  {
   "attachments": {},
   "cell_type": "markdown",
   "metadata": {},
   "source": [
    "There are topics with keywords like `shoes_shoe` and `love_loves`. \n",
    "\n",
    "This is because the input of BERTopic is plain text without any preprocessing.\n",
    "\n",
    "This is good for the embedding and clustering steps, but not for the tokenization and representation steps.\n",
    "\n",
    "We want to do preprocessing before c-tf-idf, and we can do this at the tokenization step."
   ]
  },
  {
   "cell_type": "code",
   "execution_count": 21,
   "metadata": {},
   "outputs": [
    {
     "data": {
      "text/html": [
       "<div>\n",
       "<style scoped>\n",
       "    .dataframe tbody tr th:only-of-type {\n",
       "        vertical-align: middle;\n",
       "    }\n",
       "\n",
       "    .dataframe tbody tr th {\n",
       "        vertical-align: top;\n",
       "    }\n",
       "\n",
       "    .dataframe thead th {\n",
       "        text-align: right;\n",
       "    }\n",
       "</style>\n",
       "<table border=\"1\" class=\"dataframe\">\n",
       "  <thead>\n",
       "    <tr style=\"text-align: right;\">\n",
       "      <th></th>\n",
       "      <th>Topic</th>\n",
       "      <th>Count</th>\n",
       "      <th>Name</th>\n",
       "    </tr>\n",
       "  </thead>\n",
       "  <tbody>\n",
       "    <tr>\n",
       "      <th>0</th>\n",
       "      <td>-1</td>\n",
       "      <td>190</td>\n",
       "      <td>-1_support_arch_look_shoe</td>\n",
       "    </tr>\n",
       "    <tr>\n",
       "      <th>1</th>\n",
       "      <td>0</td>\n",
       "      <td>287</td>\n",
       "      <td>0_shoe_run_comfort_feet</td>\n",
       "    </tr>\n",
       "    <tr>\n",
       "      <th>2</th>\n",
       "      <td>1</td>\n",
       "      <td>73</td>\n",
       "      <td>1_comfort_light_super_lightweight</td>\n",
       "    </tr>\n",
       "    <tr>\n",
       "      <th>3</th>\n",
       "      <td>2</td>\n",
       "      <td>61</td>\n",
       "      <td>2_love_daughter_absolut_realli</td>\n",
       "    </tr>\n",
       "    <tr>\n",
       "      <th>4</th>\n",
       "      <td>3</td>\n",
       "      <td>61</td>\n",
       "      <td>3_size_order_half_nike</td>\n",
       "    </tr>\n",
       "    <tr>\n",
       "      <th>5</th>\n",
       "      <td>4</td>\n",
       "      <td>53</td>\n",
       "      <td>4_fit_perfect_great_expect</td>\n",
       "    </tr>\n",
       "    <tr>\n",
       "      <th>6</th>\n",
       "      <td>5</td>\n",
       "      <td>41</td>\n",
       "      <td>5_comfort_light_feel_realli</td>\n",
       "    </tr>\n",
       "    <tr>\n",
       "      <th>7</th>\n",
       "      <td>6</td>\n",
       "      <td>40</td>\n",
       "      <td>6_purchas_product_satisfi_price</td>\n",
       "    </tr>\n",
       "    <tr>\n",
       "      <th>8</th>\n",
       "      <td>7</td>\n",
       "      <td>31</td>\n",
       "      <td>7_excel_lol_excelent_perfect</td>\n",
       "    </tr>\n",
       "    <tr>\n",
       "      <th>9</th>\n",
       "      <td>8</td>\n",
       "      <td>30</td>\n",
       "      <td>8_nike_flex_qualiti_black</td>\n",
       "    </tr>\n",
       "    <tr>\n",
       "      <th>10</th>\n",
       "      <td>9</td>\n",
       "      <td>29</td>\n",
       "      <td>9_pair_second_year_style</td>\n",
       "    </tr>\n",
       "    <tr>\n",
       "      <th>11</th>\n",
       "      <td>10</td>\n",
       "      <td>23</td>\n",
       "      <td>10_wide_narrow_feet_wider</td>\n",
       "    </tr>\n",
       "    <tr>\n",
       "      <th>12</th>\n",
       "      <td>11</td>\n",
       "      <td>19</td>\n",
       "      <td>11_grommet_toe_shoe_pictur</td>\n",
       "    </tr>\n",
       "  </tbody>\n",
       "</table>\n",
       "</div>"
      ],
      "text/plain": [
       "    Topic  Count                               Name\n",
       "0      -1    190          -1_support_arch_look_shoe\n",
       "1       0    287            0_shoe_run_comfort_feet\n",
       "2       1     73  1_comfort_light_super_lightweight\n",
       "3       2     61     2_love_daughter_absolut_realli\n",
       "4       3     61             3_size_order_half_nike\n",
       "5       4     53         4_fit_perfect_great_expect\n",
       "6       5     41        5_comfort_light_feel_realli\n",
       "7       6     40    6_purchas_product_satisfi_price\n",
       "8       7     31       7_excel_lol_excelent_perfect\n",
       "9       8     30          8_nike_flex_qualiti_black\n",
       "10      9     29           9_pair_second_year_style\n",
       "11     10     23          10_wide_narrow_feet_wider\n",
       "12     11     19         11_grommet_toe_shoe_pictur"
      ]
     },
     "execution_count": 21,
     "metadata": {},
     "output_type": "execute_result"
    }
   ],
   "source": [
    "from nltk.stem.snowball import SnowballStemmer\n",
    "\n",
    "stemmer = SnowballStemmer('english')\n",
    "\n",
    "class StemmedCountVectorizer(CountVectorizer):\n",
    "    def build_analyzer(self):\n",
    "        analyzer = super(StemmedCountVectorizer, self).build_analyzer()\n",
    "        return lambda doc: ([stemmer.stem(w) for w in analyzer(doc)])\n",
    "\n",
    "vectorizer_model = StemmedCountVectorizer(\n",
    "    ngram_range=(1, 1), \n",
    "    stop_words='english',\n",
    "    analyzer='word'\n",
    ")\n",
    "topic_model.update_topics(docs, vectorizer_model=vectorizer_model)\n",
    "topic_model.get_topic_info()"
   ]
  },
  {
   "cell_type": "code",
   "execution_count": 18,
   "metadata": {},
   "outputs": [
    {
     "data": {
      "text/html": [
       "<div>\n",
       "<style scoped>\n",
       "    .dataframe tbody tr th:only-of-type {\n",
       "        vertical-align: middle;\n",
       "    }\n",
       "\n",
       "    .dataframe tbody tr th {\n",
       "        vertical-align: top;\n",
       "    }\n",
       "\n",
       "    .dataframe thead th {\n",
       "        text-align: right;\n",
       "    }\n",
       "</style>\n",
       "<table border=\"1\" class=\"dataframe\">\n",
       "  <thead>\n",
       "    <tr style=\"text-align: right;\">\n",
       "      <th></th>\n",
       "      <th>Topic</th>\n",
       "      <th>Count</th>\n",
       "      <th>Name</th>\n",
       "    </tr>\n",
       "  </thead>\n",
       "  <tbody>\n",
       "    <tr>\n",
       "      <th>0</th>\n",
       "      <td>-1</td>\n",
       "      <td>190</td>\n",
       "      <td>-1_arch_support_bright_store</td>\n",
       "    </tr>\n",
       "    <tr>\n",
       "      <th>1</th>\n",
       "      <td>0</td>\n",
       "      <td>287</td>\n",
       "      <td>0_shoes_running_gym_training</td>\n",
       "    </tr>\n",
       "    <tr>\n",
       "      <th>2</th>\n",
       "      <td>1</td>\n",
       "      <td>73</td>\n",
       "      <td>1_super_comfortable_light_lightweight</td>\n",
       "    </tr>\n",
       "    <tr>\n",
       "      <th>3</th>\n",
       "      <td>2</td>\n",
       "      <td>61</td>\n",
       "      <td>2_loves_daughter_love_absolute</td>\n",
       "    </tr>\n",
       "    <tr>\n",
       "      <th>4</th>\n",
       "      <td>3</td>\n",
       "      <td>61</td>\n",
       "      <td>3_size_ordered_half_large</td>\n",
       "    </tr>\n",
       "    <tr>\n",
       "      <th>5</th>\n",
       "      <td>4</td>\n",
       "      <td>53</td>\n",
       "      <td>4_fit_perfect_stretch_fits</td>\n",
       "    </tr>\n",
       "    <tr>\n",
       "      <th>6</th>\n",
       "      <td>5</td>\n",
       "      <td>41</td>\n",
       "      <td>5_feel_offer_help_wish</td>\n",
       "    </tr>\n",
       "    <tr>\n",
       "      <th>7</th>\n",
       "      <td>6</td>\n",
       "      <td>40</td>\n",
       "      <td>6_purchase_satisfied_product_shipping</td>\n",
       "    </tr>\n",
       "    <tr>\n",
       "      <th>8</th>\n",
       "      <td>7</td>\n",
       "      <td>31</td>\n",
       "      <td>7_excellent_lol_excelente_update</td>\n",
       "    </tr>\n",
       "    <tr>\n",
       "      <th>9</th>\n",
       "      <td>8</td>\n",
       "      <td>30</td>\n",
       "      <td>8_nike_nikes_abit_quality</td>\n",
       "    </tr>\n",
       "    <tr>\n",
       "      <th>10</th>\n",
       "      <td>9</td>\n",
       "      <td>29</td>\n",
       "      <td>9_pair_second_pairs_years</td>\n",
       "    </tr>\n",
       "    <tr>\n",
       "      <th>11</th>\n",
       "      <td>10</td>\n",
       "      <td>23</td>\n",
       "      <td>10_narrow_wide_wider_room</td>\n",
       "    </tr>\n",
       "    <tr>\n",
       "      <th>12</th>\n",
       "      <td>11</td>\n",
       "      <td>19</td>\n",
       "      <td>11_grommets_pictures_photo_dark</td>\n",
       "    </tr>\n",
       "  </tbody>\n",
       "</table>\n",
       "</div>"
      ],
      "text/plain": [
       "    Topic  Count                                   Name\n",
       "0      -1    190           -1_arch_support_bright_store\n",
       "1       0    287           0_shoes_running_gym_training\n",
       "2       1     73  1_super_comfortable_light_lightweight\n",
       "3       2     61         2_loves_daughter_love_absolute\n",
       "4       3     61              3_size_ordered_half_large\n",
       "5       4     53             4_fit_perfect_stretch_fits\n",
       "6       5     41                 5_feel_offer_help_wish\n",
       "7       6     40  6_purchase_satisfied_product_shipping\n",
       "8       7     31       7_excellent_lol_excelente_update\n",
       "9       8     30              8_nike_nikes_abit_quality\n",
       "10      9     29              9_pair_second_pairs_years\n",
       "11     10     23              10_narrow_wide_wider_room\n",
       "12     11     19        11_grommets_pictures_photo_dark"
      ]
     },
     "execution_count": 18,
     "metadata": {},
     "output_type": "execute_result"
    }
   ],
   "source": [
    "# fine tune the c-tf-idf model, seems to make no significant difference\n",
    "ctfidf_model = ClassTfidfTransformer(\n",
    "    reduce_frequent_words=True\n",
    ")\n",
    "topic_model.update_topics(docs, ctfidf_model=ctfidf_model, vectorizer_model=vectorizer_model)\n",
    "topic_model.get_topic_info()"
   ]
  },
  {
   "cell_type": "code",
   "execution_count": 16,
   "metadata": {},
   "outputs": [
    {
     "data": {
      "text/html": [
       "<div>\n",
       "<style scoped>\n",
       "    .dataframe tbody tr th:only-of-type {\n",
       "        vertical-align: middle;\n",
       "    }\n",
       "\n",
       "    .dataframe tbody tr th {\n",
       "        vertical-align: top;\n",
       "    }\n",
       "\n",
       "    .dataframe thead th {\n",
       "        text-align: right;\n",
       "    }\n",
       "</style>\n",
       "<table border=\"1\" class=\"dataframe\">\n",
       "  <thead>\n",
       "    <tr style=\"text-align: right;\">\n",
       "      <th></th>\n",
       "      <th>Topic</th>\n",
       "      <th>Count</th>\n",
       "      <th>Name</th>\n",
       "    </tr>\n",
       "  </thead>\n",
       "  <tbody>\n",
       "    <tr>\n",
       "      <th>0</th>\n",
       "      <td>-1</td>\n",
       "      <td>190</td>\n",
       "      <td>-1_support_little_shoe_bright</td>\n",
       "    </tr>\n",
       "    <tr>\n",
       "      <th>1</th>\n",
       "      <td>0</td>\n",
       "      <td>287</td>\n",
       "      <td>0_shoe_great_gym_day</td>\n",
       "    </tr>\n",
       "    <tr>\n",
       "      <th>2</th>\n",
       "      <td>1</td>\n",
       "      <td>73</td>\n",
       "      <td>1_lightweight_start_padding_cloud</td>\n",
       "    </tr>\n",
       "    <tr>\n",
       "      <th>3</th>\n",
       "      <td>2</td>\n",
       "      <td>61</td>\n",
       "      <td>2_loves_absolutely_cute_em</td>\n",
       "    </tr>\n",
       "    <tr>\n",
       "      <th>4</th>\n",
       "      <td>3</td>\n",
       "      <td>61</td>\n",
       "      <td>3_half_wear_order_big</td>\n",
       "    </tr>\n",
       "    <tr>\n",
       "      <th>5</th>\n",
       "      <td>4</td>\n",
       "      <td>53</td>\n",
       "      <td>4_fit_nice_love_true</td>\n",
       "    </tr>\n",
       "    <tr>\n",
       "      <th>6</th>\n",
       "      <td>5</td>\n",
       "      <td>41</td>\n",
       "      <td>5_comfortable_light_offer_little</td>\n",
       "    </tr>\n",
       "    <tr>\n",
       "      <th>7</th>\n",
       "      <td>6</td>\n",
       "      <td>40</td>\n",
       "      <td>6_happy_fast_purchasing_recommend</td>\n",
       "    </tr>\n",
       "    <tr>\n",
       "      <th>8</th>\n",
       "      <td>7</td>\n",
       "      <td>31</td>\n",
       "      <td>7_lol_update_gracias_pay</td>\n",
       "    </tr>\n",
       "    <tr>\n",
       "      <th>9</th>\n",
       "      <td>8</td>\n",
       "      <td>30</td>\n",
       "      <td>8_nikes_years_abit_amazing</td>\n",
       "    </tr>\n",
       "    <tr>\n",
       "      <th>10</th>\n",
       "      <td>9</td>\n",
       "      <td>29</td>\n",
       "      <td>9_second_years_colors_just</td>\n",
       "    </tr>\n",
       "    <tr>\n",
       "      <th>11</th>\n",
       "      <td>10</td>\n",
       "      <td>23</td>\n",
       "      <td>10_wide_hard_perfectly_edge</td>\n",
       "    </tr>\n",
       "    <tr>\n",
       "      <th>12</th>\n",
       "      <td>11</td>\n",
       "      <td>19</td>\n",
       "      <td>11_shoe_grommets_shown_like</td>\n",
       "    </tr>\n",
       "  </tbody>\n",
       "</table>\n",
       "</div>"
      ],
      "text/plain": [
       "    Topic  Count                               Name\n",
       "0      -1    190      -1_support_little_shoe_bright\n",
       "1       0    287               0_shoe_great_gym_day\n",
       "2       1     73  1_lightweight_start_padding_cloud\n",
       "3       2     61         2_loves_absolutely_cute_em\n",
       "4       3     61              3_half_wear_order_big\n",
       "5       4     53               4_fit_nice_love_true\n",
       "6       5     41   5_comfortable_light_offer_little\n",
       "7       6     40  6_happy_fast_purchasing_recommend\n",
       "8       7     31           7_lol_update_gracias_pay\n",
       "9       8     30         8_nikes_years_abit_amazing\n",
       "10      9     29         9_second_years_colors_just\n",
       "11     10     23        10_wide_hard_perfectly_edge\n",
       "12     11     19        11_shoe_grommets_shown_like"
      ]
     },
     "execution_count": 16,
     "metadata": {},
     "output_type": "execute_result"
    }
   ],
   "source": [
    "from bertopic.representation import MaximalMarginalRelevance\n",
    "\n",
    "# MMR helps reducing redundancy of similar terms, thus don't do stemming here\n",
    "representation_model = MaximalMarginalRelevance(diversity=1) \n",
    "\n",
    "vectorizer_model = CountVectorizer(\n",
    "    ngram_range=(1, 1), \n",
    "    stop_words='english'\n",
    ")\n",
    "\n",
    "topic_model.update_topics(\n",
    "    docs=docs, \n",
    "    vectorizer_model=vectorizer_model, \n",
    "    representation_model=representation_model\n",
    ")\n",
    "topic_model.get_topic_info()"
   ]
  },
  {
   "cell_type": "code",
   "execution_count": 12,
   "metadata": {},
   "outputs": [
    {
     "name": "stderr",
     "output_type": "stream",
     "text": [
      "Setting `pad_token_id` to `eos_token_id`:50256 for open-end generation.\n",
      "Setting `pad_token_id` to `eos_token_id`:50256 for open-end generation.\n",
      "Setting `pad_token_id` to `eos_token_id`:50256 for open-end generation.\n",
      "Setting `pad_token_id` to `eos_token_id`:50256 for open-end generation.\n",
      "Setting `pad_token_id` to `eos_token_id`:50256 for open-end generation.\n",
      "Setting `pad_token_id` to `eos_token_id`:50256 for open-end generation.\n",
      "Setting `pad_token_id` to `eos_token_id`:50256 for open-end generation.\n",
      "Setting `pad_token_id` to `eos_token_id`:50256 for open-end generation.\n",
      "Setting `pad_token_id` to `eos_token_id`:50256 for open-end generation.\n",
      "Setting `pad_token_id` to `eos_token_id`:50256 for open-end generation.\n",
      "Setting `pad_token_id` to `eos_token_id`:50256 for open-end generation.\n",
      "Setting `pad_token_id` to `eos_token_id`:50256 for open-end generation.\n",
      "Setting `pad_token_id` to `eos_token_id`:50256 for open-end generation.\n"
     ]
    },
    {
     "data": {
      "text/plain": [
       "0     -1_\"What are the most common keywords used by ...\n",
       "1     0_Shoes: what, a name of clothing and footwear...\n",
       "2     1_Someday, when I was very lazy, one of our ed...\n",
       "3     2_I have a way. I want. I say yes. It's like m...\n",
       "4     3_the new thing that is going to fix things.\\n...\n",
       "5     4_Fit, perfect, stretch, fits, easy, color, ex...\n",
       "6     5_Feel\\nThe keyword that is used for the feeli...\n",
       "7     6_\"I have a topic about our brand, product, se...\n",
       "8                                       7_Greatness.___\n",
       "9                                          8_\"Nike \"___\n",
       "10    9_\"The Relationship Between Latching and Latch...\n",
       "11    10_'friction', the idea that when you lift ano...\n",
       "12    11_grommets\\nI know this, but here comes the k...\n",
       "Name: Name, dtype: object"
      ]
     },
     "execution_count": 12,
     "metadata": {},
     "output_type": "execute_result"
    }
   ],
   "source": [
    "# Transformer for gerernating label text\n",
    "from bertopic.representation import TextGeneration\n",
    "\n",
    "representation_model = TextGeneration('gpt2', pipeline_kwargs={'max_new_tokens': 60})\n",
    "\n",
    "topic_model.update_topics(\n",
    "    docs=docs, \n",
    "    vectorizer_model=vectorizer_model, \n",
    "    ctfidf_model=ctfidf_model, \n",
    "    representation_model=representation_model\n",
    ")\n",
    "topic_model.get_topic_info()['Name']"
   ]
  },
  {
   "cell_type": "code",
   "execution_count": 22,
   "metadata": {},
   "outputs": [
    {
     "data": {
      "text/html": [
       "<div>\n",
       "<style scoped>\n",
       "    .dataframe tbody tr th:only-of-type {\n",
       "        vertical-align: middle;\n",
       "    }\n",
       "\n",
       "    .dataframe tbody tr th {\n",
       "        vertical-align: top;\n",
       "    }\n",
       "\n",
       "    .dataframe thead th {\n",
       "        text-align: right;\n",
       "    }\n",
       "</style>\n",
       "<table border=\"1\" class=\"dataframe\">\n",
       "  <thead>\n",
       "    <tr style=\"text-align: right;\">\n",
       "      <th></th>\n",
       "      <th>Document</th>\n",
       "      <th>Topic</th>\n",
       "      <th>Name</th>\n",
       "      <th>Top_n_words</th>\n",
       "      <th>Probability</th>\n",
       "      <th>Representative_document</th>\n",
       "    </tr>\n",
       "  </thead>\n",
       "  <tbody>\n",
       "    <tr>\n",
       "      <th>63</th>\n",
       "      <td>Good arch support - I have a high arch!!</td>\n",
       "      <td>-1</td>\n",
       "      <td>-1_support_arch_look_shoe</td>\n",
       "      <td>support - arch - look - shoe - color - great -...</td>\n",
       "      <td>0.000000</td>\n",
       "      <td>True</td>\n",
       "    </tr>\n",
       "    <tr>\n",
       "      <th>65</th>\n",
       "      <td>Great arch support and comfortable.</td>\n",
       "      <td>-1</td>\n",
       "      <td>-1_support_arch_look_shoe</td>\n",
       "      <td>support - arch - look - shoe - color - great -...</td>\n",
       "      <td>0.000000</td>\n",
       "      <td>True</td>\n",
       "    </tr>\n",
       "    <tr>\n",
       "      <th>229</th>\n",
       "      <td>No arch support but l love the colors!</td>\n",
       "      <td>-1</td>\n",
       "      <td>-1_support_arch_look_shoe</td>\n",
       "      <td>support - arch - look - shoe - color - great -...</td>\n",
       "      <td>0.000000</td>\n",
       "      <td>True</td>\n",
       "    </tr>\n",
       "    <tr>\n",
       "      <th>912</th>\n",
       "      <td>I love this shoes they are so comfortable</td>\n",
       "      <td>0</td>\n",
       "      <td>0_shoe_run_comfort_feet</td>\n",
       "      <td>shoe - run - comfort - feet - wear - train - d...</td>\n",
       "      <td>1.000000</td>\n",
       "      <td>True</td>\n",
       "    </tr>\n",
       "    <tr>\n",
       "      <th>757</th>\n",
       "      <td>SHOES.</td>\n",
       "      <td>0</td>\n",
       "      <td>0_shoe_run_comfort_feet</td>\n",
       "      <td>shoe - run - comfort - feet - wear - train - d...</td>\n",
       "      <td>1.000000</td>\n",
       "      <td>True</td>\n",
       "    </tr>\n",
       "    <tr>\n",
       "      <th>158</th>\n",
       "      <td>GET THESE SHOES!</td>\n",
       "      <td>0</td>\n",
       "      <td>0_shoe_run_comfort_feet</td>\n",
       "      <td>shoe - run - comfort - feet - wear - train - d...</td>\n",
       "      <td>1.000000</td>\n",
       "      <td>True</td>\n",
       "    </tr>\n",
       "    <tr>\n",
       "      <th>648</th>\n",
       "      <td>Super light weight comfortable!</td>\n",
       "      <td>1</td>\n",
       "      <td>1_comfort_light_super_lightweight</td>\n",
       "      <td>comfort - light - super - lightweight - comfi ...</td>\n",
       "      <td>1.000000</td>\n",
       "      <td>True</td>\n",
       "    </tr>\n",
       "    <tr>\n",
       "      <th>504</th>\n",
       "      <td>Super light and comfortable!</td>\n",
       "      <td>1</td>\n",
       "      <td>1_comfort_light_super_lightweight</td>\n",
       "      <td>comfort - light - super - lightweight - comfi ...</td>\n",
       "      <td>1.000000</td>\n",
       "      <td>True</td>\n",
       "    </tr>\n",
       "    <tr>\n",
       "      <th>407</th>\n",
       "      <td>Super light and very comfortable.</td>\n",
       "      <td>1</td>\n",
       "      <td>1_comfort_light_super_lightweight</td>\n",
       "      <td>comfort - light - super - lightweight - comfi ...</td>\n",
       "      <td>1.000000</td>\n",
       "      <td>True</td>\n",
       "    </tr>\n",
       "    <tr>\n",
       "      <th>542</th>\n",
       "      <td>Love them.</td>\n",
       "      <td>2</td>\n",
       "      <td>2_love_daughter_absolut_realli</td>\n",
       "      <td>love - daughter - absolut - realli - gift - wi...</td>\n",
       "      <td>1.000000</td>\n",
       "      <td>True</td>\n",
       "    </tr>\n",
       "    <tr>\n",
       "      <th>388</th>\n",
       "      <td>Love them!</td>\n",
       "      <td>2</td>\n",
       "      <td>2_love_daughter_absolut_realli</td>\n",
       "      <td>love - daughter - absolut - realli - gift - wi...</td>\n",
       "      <td>1.000000</td>\n",
       "      <td>True</td>\n",
       "    </tr>\n",
       "    <tr>\n",
       "      <th>339</th>\n",
       "      <td>Love them.</td>\n",
       "      <td>2</td>\n",
       "      <td>2_love_daughter_absolut_realli</td>\n",
       "      <td>love - daughter - absolut - realli - gift - wi...</td>\n",
       "      <td>1.000000</td>\n",
       "      <td>True</td>\n",
       "    </tr>\n",
       "    <tr>\n",
       "      <th>3</th>\n",
       "      <td>Love them!</td>\n",
       "      <td>2</td>\n",
       "      <td>2_love_daughter_absolut_realli</td>\n",
       "      <td>love - daughter - absolut - realli - gift - wi...</td>\n",
       "      <td>1.000000</td>\n",
       "      <td>True</td>\n",
       "    </tr>\n",
       "    <tr>\n",
       "      <th>903</th>\n",
       "      <td>Love it!!</td>\n",
       "      <td>2</td>\n",
       "      <td>2_love_daughter_absolut_realli</td>\n",
       "      <td>love - daughter - absolut - realli - gift - wi...</td>\n",
       "      <td>1.000000</td>\n",
       "      <td>True</td>\n",
       "    </tr>\n",
       "    <tr>\n",
       "      <th>197</th>\n",
       "      <td>Love them!</td>\n",
       "      <td>2</td>\n",
       "      <td>2_love_daughter_absolut_realli</td>\n",
       "      <td>love - daughter - absolut - realli - gift - wi...</td>\n",
       "      <td>1.000000</td>\n",
       "      <td>True</td>\n",
       "    </tr>\n",
       "    <tr>\n",
       "      <th>259</th>\n",
       "      <td>Ordered half a size larger than my usual shoe ...</td>\n",
       "      <td>3</td>\n",
       "      <td>3_size_order_half_nike</td>\n",
       "      <td>size - order - half - nike - usual - wear - tr...</td>\n",
       "      <td>0.744274</td>\n",
       "      <td>True</td>\n",
       "    </tr>\n",
       "    <tr>\n",
       "      <th>690</th>\n",
       "      <td>Fit to size.</td>\n",
       "      <td>3</td>\n",
       "      <td>3_size_order_half_nike</td>\n",
       "      <td>size - order - half - nike - usual - wear - tr...</td>\n",
       "      <td>0.465921</td>\n",
       "      <td>True</td>\n",
       "    </tr>\n",
       "    <tr>\n",
       "      <th>777</th>\n",
       "      <td>Size 5.</td>\n",
       "      <td>3</td>\n",
       "      <td>3_size_order_half_nike</td>\n",
       "      <td>size - order - half - nike - usual - wear - tr...</td>\n",
       "      <td>1.000000</td>\n",
       "      <td>True</td>\n",
       "    </tr>\n",
       "    <tr>\n",
       "      <th>257</th>\n",
       "      <td>Fit is perfect!</td>\n",
       "      <td>4</td>\n",
       "      <td>4_fit_perfect_great_expect</td>\n",
       "      <td>fit - perfect - great - expect - nice - color ...</td>\n",
       "      <td>1.000000</td>\n",
       "      <td>True</td>\n",
       "    </tr>\n",
       "    <tr>\n",
       "      <th>558</th>\n",
       "      <td>Perfect fit!</td>\n",
       "      <td>4</td>\n",
       "      <td>4_fit_perfect_great_expect</td>\n",
       "      <td>fit - perfect - great - expect - nice - color ...</td>\n",
       "      <td>1.000000</td>\n",
       "      <td>True</td>\n",
       "    </tr>\n",
       "    <tr>\n",
       "      <th>920</th>\n",
       "      <td>Perfect fit!</td>\n",
       "      <td>4</td>\n",
       "      <td>4_fit_perfect_great_expect</td>\n",
       "      <td>fit - perfect - great - expect - nice - color ...</td>\n",
       "      <td>1.000000</td>\n",
       "      <td>True</td>\n",
       "    </tr>\n",
       "    <tr>\n",
       "      <th>261</th>\n",
       "      <td>The fit was perfect!</td>\n",
       "      <td>4</td>\n",
       "      <td>4_fit_perfect_great_expect</td>\n",
       "      <td>fit - perfect - great - expect - nice - color ...</td>\n",
       "      <td>1.000000</td>\n",
       "      <td>True</td>\n",
       "    </tr>\n",
       "    <tr>\n",
       "      <th>381</th>\n",
       "      <td>they are very comfortable feel like you have n...</td>\n",
       "      <td>5</td>\n",
       "      <td>5_comfort_light_feel_realli</td>\n",
       "      <td>comfort - light - feel - realli - offer - weig...</td>\n",
       "      <td>1.000000</td>\n",
       "      <td>True</td>\n",
       "    </tr>\n",
       "    <tr>\n",
       "      <th>12</th>\n",
       "      <td>They are really light and comfortable.</td>\n",
       "      <td>5</td>\n",
       "      <td>5_comfort_light_feel_realli</td>\n",
       "      <td>comfort - light - feel - realli - offer - weig...</td>\n",
       "      <td>0.586275</td>\n",
       "      <td>True</td>\n",
       "    </tr>\n",
       "    <tr>\n",
       "      <th>154</th>\n",
       "      <td>They are so comfortable.</td>\n",
       "      <td>5</td>\n",
       "      <td>5_comfort_light_feel_realli</td>\n",
       "      <td>comfort - light - feel - realli - offer - weig...</td>\n",
       "      <td>1.000000</td>\n",
       "      <td>True</td>\n",
       "    </tr>\n",
       "    <tr>\n",
       "      <th>111</th>\n",
       "      <td>I am very satisfied with this purchase</td>\n",
       "      <td>6</td>\n",
       "      <td>6_purchas_product_satisfi_price</td>\n",
       "      <td>purchas - product - satisfi - price - happi - ...</td>\n",
       "      <td>1.000000</td>\n",
       "      <td>True</td>\n",
       "    </tr>\n",
       "    <tr>\n",
       "      <th>14</th>\n",
       "      <td>Highly satisfied with this purchase.</td>\n",
       "      <td>6</td>\n",
       "      <td>6_purchas_product_satisfi_price</td>\n",
       "      <td>purchas - product - satisfi - price - happi - ...</td>\n",
       "      <td>1.000000</td>\n",
       "      <td>True</td>\n",
       "    </tr>\n",
       "    <tr>\n",
       "      <th>585</th>\n",
       "      <td>Over-all, I am satisfied with my purchase!</td>\n",
       "      <td>6</td>\n",
       "      <td>6_purchas_product_satisfi_price</td>\n",
       "      <td>purchas - product - satisfi - price - happi - ...</td>\n",
       "      <td>1.000000</td>\n",
       "      <td>True</td>\n",
       "    </tr>\n",
       "    <tr>\n",
       "      <th>830</th>\n",
       "      <td>Excellent</td>\n",
       "      <td>7</td>\n",
       "      <td>7_excel_lol_excelent_perfect</td>\n",
       "      <td>excel - lol - excelent - perfect - updat - en ...</td>\n",
       "      <td>1.000000</td>\n",
       "      <td>True</td>\n",
       "    </tr>\n",
       "    <tr>\n",
       "      <th>296</th>\n",
       "      <td>Excellent ...!!!</td>\n",
       "      <td>7</td>\n",
       "      <td>7_excel_lol_excelent_perfect</td>\n",
       "      <td>excel - lol - excelent - perfect - updat - en ...</td>\n",
       "      <td>1.000000</td>\n",
       "      <td>True</td>\n",
       "    </tr>\n",
       "    <tr>\n",
       "      <th>662</th>\n",
       "      <td>EXCELLENT</td>\n",
       "      <td>7</td>\n",
       "      <td>7_excel_lol_excelent_perfect</td>\n",
       "      <td>excel - lol - excelent - perfect - updat - en ...</td>\n",
       "      <td>1.000000</td>\n",
       "      <td>True</td>\n",
       "    </tr>\n",
       "    <tr>\n",
       "      <th>923</th>\n",
       "      <td>Favorite Nike shoe ever!</td>\n",
       "      <td>8</td>\n",
       "      <td>8_nike_flex_qualiti_black</td>\n",
       "      <td>nike - flex - qualiti - black - purchas - ve -...</td>\n",
       "      <td>0.492590</td>\n",
       "      <td>True</td>\n",
       "    </tr>\n",
       "    <tr>\n",
       "      <th>575</th>\n",
       "      <td>It's a Nike!</td>\n",
       "      <td>8</td>\n",
       "      <td>8_nike_flex_qualiti_black</td>\n",
       "      <td>nike - flex - qualiti - black - purchas - ve -...</td>\n",
       "      <td>0.794175</td>\n",
       "      <td>True</td>\n",
       "    </tr>\n",
       "    <tr>\n",
       "      <th>382</th>\n",
       "      <td>My favorite nike shoe</td>\n",
       "      <td>8</td>\n",
       "      <td>8_nike_flex_qualiti_black</td>\n",
       "      <td>nike - flex - qualiti - black - purchas - ve -...</td>\n",
       "      <td>0.522092</td>\n",
       "      <td>True</td>\n",
       "    </tr>\n",
       "    <tr>\n",
       "      <th>477</th>\n",
       "      <td>This is my second pair of these shoes.</td>\n",
       "      <td>9</td>\n",
       "      <td>9_pair_second_year_style</td>\n",
       "      <td>pair - second - year - style - wear - actual -...</td>\n",
       "      <td>0.948147</td>\n",
       "      <td>True</td>\n",
       "    </tr>\n",
       "    <tr>\n",
       "      <th>70</th>\n",
       "      <td>second pair.</td>\n",
       "      <td>9</td>\n",
       "      <td>9_pair_second_year_style</td>\n",
       "      <td>pair - second - year - style - wear - actual -...</td>\n",
       "      <td>1.000000</td>\n",
       "      <td>True</td>\n",
       "    </tr>\n",
       "    <tr>\n",
       "      <th>62</th>\n",
       "      <td>This is my second pair - I wore out the first ...</td>\n",
       "      <td>9</td>\n",
       "      <td>9_pair_second_year_style</td>\n",
       "      <td>pair - second - year - style - wear - actual -...</td>\n",
       "      <td>1.000000</td>\n",
       "      <td>True</td>\n",
       "    </tr>\n",
       "    <tr>\n",
       "      <th>402</th>\n",
       "      <td>I have a wide feet and they fit perfectly.</td>\n",
       "      <td>10</td>\n",
       "      <td>10_wide_narrow_feet_wider</td>\n",
       "      <td>wide - narrow - feet - wider - toe - room - fo...</td>\n",
       "      <td>1.000000</td>\n",
       "      <td>True</td>\n",
       "    </tr>\n",
       "    <tr>\n",
       "      <th>824</th>\n",
       "      <td>I have narrow feet and these fit perfectly.</td>\n",
       "      <td>10</td>\n",
       "      <td>10_wide_narrow_feet_wider</td>\n",
       "      <td>wide - narrow - feet - wider - toe - room - fo...</td>\n",
       "      <td>1.000000</td>\n",
       "      <td>True</td>\n",
       "    </tr>\n",
       "    <tr>\n",
       "      <th>392</th>\n",
       "      <td>I have wide feet and these were too narrow but...</td>\n",
       "      <td>10</td>\n",
       "      <td>10_wide_narrow_feet_wider</td>\n",
       "      <td>wide - narrow - feet - wider - toe - room - fo...</td>\n",
       "      <td>1.000000</td>\n",
       "      <td>True</td>\n",
       "    </tr>\n",
       "    <tr>\n",
       "      <th>191</th>\n",
       "      <td>I'm not referring to the dark grommets closer ...</td>\n",
       "      <td>11</td>\n",
       "      <td>11_grommet_toe_shoe_pictur</td>\n",
       "      <td>grommet - toe - shoe - pictur - dark - photo -...</td>\n",
       "      <td>1.000000</td>\n",
       "      <td>True</td>\n",
       "    </tr>\n",
       "    <tr>\n",
       "      <th>858</th>\n",
       "      <td>I was shooting for a rounder, broader toe desi...</td>\n",
       "      <td>11</td>\n",
       "      <td>11_grommet_toe_shoe_pictur</td>\n",
       "      <td>grommet - toe - shoe - pictur - dark - photo -...</td>\n",
       "      <td>1.000000</td>\n",
       "      <td>True</td>\n",
       "    </tr>\n",
       "    <tr>\n",
       "      <th>624</th>\n",
       "      <td>This is because of this shoe.</td>\n",
       "      <td>11</td>\n",
       "      <td>11_grommet_toe_shoe_pictur</td>\n",
       "      <td>grommet - toe - shoe - pictur - dark - photo -...</td>\n",
       "      <td>1.000000</td>\n",
       "      <td>True</td>\n",
       "    </tr>\n",
       "  </tbody>\n",
       "</table>\n",
       "</div>"
      ],
      "text/plain": [
       "                                              Document  Topic  \\\n",
       "63            Good arch support - I have a high arch!!     -1   \n",
       "65                 Great arch support and comfortable.     -1   \n",
       "229             No arch support but l love the colors!     -1   \n",
       "912          I love this shoes they are so comfortable      0   \n",
       "757                                             SHOES.      0   \n",
       "158                                   GET THESE SHOES!      0   \n",
       "648                    Super light weight comfortable!      1   \n",
       "504                       Super light and comfortable!      1   \n",
       "407                  Super light and very comfortable.      1   \n",
       "542                                         Love them.      2   \n",
       "388                                         Love them!      2   \n",
       "339                                         Love them.      2   \n",
       "3                                           Love them!      2   \n",
       "903                                          Love it!!      2   \n",
       "197                                         Love them!      2   \n",
       "259  Ordered half a size larger than my usual shoe ...      3   \n",
       "690                                       Fit to size.      3   \n",
       "777                                            Size 5.      3   \n",
       "257                                    Fit is perfect!      4   \n",
       "558                                       Perfect fit!      4   \n",
       "920                                       Perfect fit!      4   \n",
       "261                               The fit was perfect!      4   \n",
       "381  they are very comfortable feel like you have n...      5   \n",
       "12              They are really light and comfortable.      5   \n",
       "154                           They are so comfortable.      5   \n",
       "111             I am very satisfied with this purchase      6   \n",
       "14                Highly satisfied with this purchase.      6   \n",
       "585         Over-all, I am satisfied with my purchase!      6   \n",
       "830                                          Excellent      7   \n",
       "296                                   Excellent ...!!!      7   \n",
       "662                                          EXCELLENT      7   \n",
       "923                           Favorite Nike shoe ever!      8   \n",
       "575                                       It's a Nike!      8   \n",
       "382                              My favorite nike shoe      8   \n",
       "477           This is my second pair of these shoes.        9   \n",
       "70                                        second pair.      9   \n",
       "62   This is my second pair - I wore out the first ...      9   \n",
       "402         I have a wide feet and they fit perfectly.     10   \n",
       "824      I have narrow feet and these fit perfectly.       10   \n",
       "392  I have wide feet and these were too narrow but...     10   \n",
       "191  I'm not referring to the dark grommets closer ...     11   \n",
       "858  I was shooting for a rounder, broader toe desi...     11   \n",
       "624                      This is because of this shoe.     11   \n",
       "\n",
       "                                  Name  \\\n",
       "63           -1_support_arch_look_shoe   \n",
       "65           -1_support_arch_look_shoe   \n",
       "229          -1_support_arch_look_shoe   \n",
       "912            0_shoe_run_comfort_feet   \n",
       "757            0_shoe_run_comfort_feet   \n",
       "158            0_shoe_run_comfort_feet   \n",
       "648  1_comfort_light_super_lightweight   \n",
       "504  1_comfort_light_super_lightweight   \n",
       "407  1_comfort_light_super_lightweight   \n",
       "542     2_love_daughter_absolut_realli   \n",
       "388     2_love_daughter_absolut_realli   \n",
       "339     2_love_daughter_absolut_realli   \n",
       "3       2_love_daughter_absolut_realli   \n",
       "903     2_love_daughter_absolut_realli   \n",
       "197     2_love_daughter_absolut_realli   \n",
       "259             3_size_order_half_nike   \n",
       "690             3_size_order_half_nike   \n",
       "777             3_size_order_half_nike   \n",
       "257         4_fit_perfect_great_expect   \n",
       "558         4_fit_perfect_great_expect   \n",
       "920         4_fit_perfect_great_expect   \n",
       "261         4_fit_perfect_great_expect   \n",
       "381        5_comfort_light_feel_realli   \n",
       "12         5_comfort_light_feel_realli   \n",
       "154        5_comfort_light_feel_realli   \n",
       "111    6_purchas_product_satisfi_price   \n",
       "14     6_purchas_product_satisfi_price   \n",
       "585    6_purchas_product_satisfi_price   \n",
       "830       7_excel_lol_excelent_perfect   \n",
       "296       7_excel_lol_excelent_perfect   \n",
       "662       7_excel_lol_excelent_perfect   \n",
       "923          8_nike_flex_qualiti_black   \n",
       "575          8_nike_flex_qualiti_black   \n",
       "382          8_nike_flex_qualiti_black   \n",
       "477           9_pair_second_year_style   \n",
       "70            9_pair_second_year_style   \n",
       "62            9_pair_second_year_style   \n",
       "402          10_wide_narrow_feet_wider   \n",
       "824          10_wide_narrow_feet_wider   \n",
       "392          10_wide_narrow_feet_wider   \n",
       "191         11_grommet_toe_shoe_pictur   \n",
       "858         11_grommet_toe_shoe_pictur   \n",
       "624         11_grommet_toe_shoe_pictur   \n",
       "\n",
       "                                           Top_n_words  Probability  \\\n",
       "63   support - arch - look - shoe - color - great -...     0.000000   \n",
       "65   support - arch - look - shoe - color - great -...     0.000000   \n",
       "229  support - arch - look - shoe - color - great -...     0.000000   \n",
       "912  shoe - run - comfort - feet - wear - train - d...     1.000000   \n",
       "757  shoe - run - comfort - feet - wear - train - d...     1.000000   \n",
       "158  shoe - run - comfort - feet - wear - train - d...     1.000000   \n",
       "648  comfort - light - super - lightweight - comfi ...     1.000000   \n",
       "504  comfort - light - super - lightweight - comfi ...     1.000000   \n",
       "407  comfort - light - super - lightweight - comfi ...     1.000000   \n",
       "542  love - daughter - absolut - realli - gift - wi...     1.000000   \n",
       "388  love - daughter - absolut - realli - gift - wi...     1.000000   \n",
       "339  love - daughter - absolut - realli - gift - wi...     1.000000   \n",
       "3    love - daughter - absolut - realli - gift - wi...     1.000000   \n",
       "903  love - daughter - absolut - realli - gift - wi...     1.000000   \n",
       "197  love - daughter - absolut - realli - gift - wi...     1.000000   \n",
       "259  size - order - half - nike - usual - wear - tr...     0.744274   \n",
       "690  size - order - half - nike - usual - wear - tr...     0.465921   \n",
       "777  size - order - half - nike - usual - wear - tr...     1.000000   \n",
       "257  fit - perfect - great - expect - nice - color ...     1.000000   \n",
       "558  fit - perfect - great - expect - nice - color ...     1.000000   \n",
       "920  fit - perfect - great - expect - nice - color ...     1.000000   \n",
       "261  fit - perfect - great - expect - nice - color ...     1.000000   \n",
       "381  comfort - light - feel - realli - offer - weig...     1.000000   \n",
       "12   comfort - light - feel - realli - offer - weig...     0.586275   \n",
       "154  comfort - light - feel - realli - offer - weig...     1.000000   \n",
       "111  purchas - product - satisfi - price - happi - ...     1.000000   \n",
       "14   purchas - product - satisfi - price - happi - ...     1.000000   \n",
       "585  purchas - product - satisfi - price - happi - ...     1.000000   \n",
       "830  excel - lol - excelent - perfect - updat - en ...     1.000000   \n",
       "296  excel - lol - excelent - perfect - updat - en ...     1.000000   \n",
       "662  excel - lol - excelent - perfect - updat - en ...     1.000000   \n",
       "923  nike - flex - qualiti - black - purchas - ve -...     0.492590   \n",
       "575  nike - flex - qualiti - black - purchas - ve -...     0.794175   \n",
       "382  nike - flex - qualiti - black - purchas - ve -...     0.522092   \n",
       "477  pair - second - year - style - wear - actual -...     0.948147   \n",
       "70   pair - second - year - style - wear - actual -...     1.000000   \n",
       "62   pair - second - year - style - wear - actual -...     1.000000   \n",
       "402  wide - narrow - feet - wider - toe - room - fo...     1.000000   \n",
       "824  wide - narrow - feet - wider - toe - room - fo...     1.000000   \n",
       "392  wide - narrow - feet - wider - toe - room - fo...     1.000000   \n",
       "191  grommet - toe - shoe - pictur - dark - photo -...     1.000000   \n",
       "858  grommet - toe - shoe - pictur - dark - photo -...     1.000000   \n",
       "624  grommet - toe - shoe - pictur - dark - photo -...     1.000000   \n",
       "\n",
       "     Representative_document  \n",
       "63                      True  \n",
       "65                      True  \n",
       "229                     True  \n",
       "912                     True  \n",
       "757                     True  \n",
       "158                     True  \n",
       "648                     True  \n",
       "504                     True  \n",
       "407                     True  \n",
       "542                     True  \n",
       "388                     True  \n",
       "339                     True  \n",
       "3                       True  \n",
       "903                     True  \n",
       "197                     True  \n",
       "259                     True  \n",
       "690                     True  \n",
       "777                     True  \n",
       "257                     True  \n",
       "558                     True  \n",
       "920                     True  \n",
       "261                     True  \n",
       "381                     True  \n",
       "12                      True  \n",
       "154                     True  \n",
       "111                     True  \n",
       "14                      True  \n",
       "585                     True  \n",
       "830                     True  \n",
       "296                     True  \n",
       "662                     True  \n",
       "923                     True  \n",
       "575                     True  \n",
       "382                     True  \n",
       "477                     True  \n",
       "70                      True  \n",
       "62                      True  \n",
       "402                     True  \n",
       "824                     True  \n",
       "392                     True  \n",
       "191                     True  \n",
       "858                     True  \n",
       "624                     True  "
      ]
     },
     "execution_count": 22,
     "metadata": {},
     "output_type": "execute_result"
    }
   ],
   "source": [
    "doc_info = topic_model.get_document_info(docs)\n",
    "doc_info = doc_info[doc_info['Representative_document']].sort_values(by='Topic')\n",
    "doc_info"
   ]
  },
  {
   "cell_type": "code",
   "execution_count": 23,
   "metadata": {},
   "outputs": [
    {
     "name": "stderr",
     "output_type": "stream",
     "text": [
      "100%|██████████| 11/11 [00:00<00:00, 482.96it/s]\n"
     ]
    },
    {
     "data": {
      "application/vnd.plotly.v1+json": {
       "config": {
        "plotlyServerURL": "https://plot.ly"
       },
       "data": [
        {
         "hoverinfo": "text",
         "marker": {
          "color": "rgb(61,153,112)"
         },
         "mode": "lines",
         "text": [
          "comfort_light_super_lightweight_comfi",
          "",
          "",
          "comfort_light_feel_realli_offer"
         ],
         "type": "scatter",
         "x": [
          0,
          0.5978928673662515,
          0.5978928673662515,
          0
         ],
         "xaxis": "x",
         "y": [
          -5,
          -5,
          -15,
          -15
         ],
         "yaxis": "y"
        },
        {
         "hoverinfo": "text",
         "marker": {
          "color": "rgb(0,116,217)"
         },
         "mode": "lines",
         "text": [
          "wide_narrow_feet_wider_toe",
          "",
          "",
          "shoe_run_comfort_feet_wear"
         ],
         "type": "scatter",
         "x": [
          0,
          1.0844989743411155,
          1.0844989743411155,
          0
         ],
         "xaxis": "x",
         "y": [
          -35,
          -35,
          -45,
          -45
         ],
         "yaxis": "y"
        },
        {
         "hoverinfo": "text",
         "marker": {
          "color": "rgb(0,116,217)"
         },
         "mode": "lines",
         "text": [
          "fit_perfect_great_expect_nice",
          "",
          "",
          "size_order_half_nike_usual"
         ],
         "type": "scatter",
         "x": [
          1.0844989743411155,
          1.1767254685151365,
          1.1767254685151365,
          0
         ],
         "xaxis": "x",
         "y": [
          -40,
          -40,
          -55,
          -55
         ],
         "yaxis": "y"
        },
        {
         "hoverinfo": "text",
         "marker": {
          "color": "rgb(0,116,217)"
         },
         "mode": "lines",
         "text": [
          "shoe_feet_run_comfort_wear",
          "",
          "",
          "size_fit_order_perfect_half"
         ],
         "type": "scatter",
         "x": [
          0,
          1.2825556641844338,
          1.2825556641844338,
          1.1767254685151365
         ],
         "xaxis": "x",
         "y": [
          -25,
          -25,
          -47.5,
          -47.5
         ],
         "yaxis": "y"
        },
        {
         "hoverinfo": "text",
         "marker": {
          "color": "rgb(0,116,217)"
         },
         "mode": "lines",
         "text": [
          "grommet_toe_shoe_pictur_dark",
          "",
          "",
          "shoe_fit_size_run_feet"
         ],
         "type": "scatter",
         "x": [
          0,
          1.0918206616071768,
          1.0918206616071768,
          0
         ],
         "xaxis": "x",
         "y": [
          -65,
          -65,
          -75,
          -75
         ],
         "yaxis": "y"
        },
        {
         "hoverinfo": "text",
         "marker": {
          "color": "rgb(0,116,217)"
         },
         "mode": "lines",
         "text": [
          "pair_second_year_style_wear",
          "",
          "",
          "nike_flex_qualiti_black_purchas"
         ],
         "type": "scatter",
         "x": [
          1.0918206616071768,
          1.1873117981894705,
          1.1873117981894705,
          0
         ],
         "xaxis": "x",
         "y": [
          -70,
          -70,
          -85,
          -85
         ],
         "yaxis": "y"
        },
        {
         "hoverinfo": "text",
         "marker": {
          "color": "rgb(0,116,217)"
         },
         "mode": "lines",
         "text": [
          "purchas_product_satisfi_price_happi",
          "",
          "",
          "pair_nike_year_second_purchas"
         ],
         "type": "scatter",
         "x": [
          1.2825556641844338,
          1.4341010693477632,
          1.4341010693477632,
          1.1873117981894705
         ],
         "xaxis": "x",
         "y": [
          -36.25,
          -36.25,
          -77.5,
          -77.5
         ],
         "yaxis": "y"
        },
        {
         "hoverinfo": "text",
         "marker": {
          "color": "rgb(0,116,217)"
         },
         "mode": "lines",
         "text": [
          "love_daughter_absolut_realli_gift",
          "",
          "",
          "pair_nike_purchas_year_second"
         ],
         "type": "scatter",
         "x": [
          0,
          1.2873793577539587,
          1.2873793577539587,
          0
         ],
         "xaxis": "x",
         "y": [
          -95,
          -95,
          -105,
          -105
         ],
         "yaxis": "y"
        },
        {
         "hoverinfo": "text",
         "marker": {
          "color": "rgb(0,116,217)"
         },
         "mode": "lines",
         "text": [
          "love_pair_nike_purchas_second",
          "",
          "",
          "excel_lol_excelent_perfect_updat"
         ],
         "type": "scatter",
         "x": [
          1.2873793577539587,
          1.4297114517956184,
          1.4297114517956184,
          0
         ],
         "xaxis": "x",
         "y": [
          -100,
          -100,
          -115,
          -115
         ],
         "yaxis": "y"
        },
        {
         "hoverinfo": "text",
         "marker": {
          "color": "rgb(0,116,217)"
         },
         "mode": "lines",
         "text": [
          "shoe_fit_size_run_feet",
          "",
          "",
          "love_pair_nike_purchas_year"
         ],
         "type": "scatter",
         "x": [
          1.4341010693477632,
          1.6094188215229495,
          1.6094188215229495,
          1.4297114517956184
         ],
         "xaxis": "x",
         "y": [
          -56.875,
          -56.875,
          -107.5,
          -107.5
         ],
         "yaxis": "y"
        },
        {
         "hoverinfo": "text",
         "marker": {
          "color": "rgb(0,116,217)"
         },
         "mode": "lines",
         "text": [
          "comfort_light_super_lightweight_comfi",
          "",
          "",
          "shoe_love_fit_size_wear"
         ],
         "type": "scatter",
         "x": [
          0.5978928673662515,
          1.894320066778009,
          1.894320066778009,
          1.6094188215229495
         ],
         "xaxis": "x",
         "y": [
          -10,
          -10,
          -82.1875,
          -82.1875
         ],
         "yaxis": "y"
        },
        {
         "hoverinfo": "text",
         "hovertext": [
          "fit_perfect_great_expect_nice",
          "pair_second_year_style_wear",
          "purchas_product_satisfi_price_happi",
          "love_pair_nike_purchas_second",
          "shoe_fit_size_run_feet",
          "comfort_light_super_lightweight_comfi"
         ],
         "marker": {
          "color": "black"
         },
         "mode": "markers",
         "showlegend": false,
         "type": "scatter",
         "x": [
          1.0844989743411155,
          1.0918206616071768,
          1.2825556641844338,
          1.2873793577539587,
          1.4341010693477632,
          0.5978928673662515
         ],
         "y": [
          -40,
          -70,
          -36.25,
          -100,
          -56.875,
          -10
         ]
        },
        {
         "hoverinfo": "text",
         "hovertext": [
          "size_fit_order_perfect_half",
          "pair_nike_year_second_purchas",
          "love_pair_nike_purchas_year",
          "shoe_love_fit_size_wear"
         ],
         "marker": {
          "color": "black"
         },
         "mode": "markers",
         "showlegend": false,
         "type": "scatter",
         "x": [
          1.1767254685151365,
          1.1873117981894705,
          1.4297114517956184,
          1.6094188215229495
         ],
         "y": [
          -47.5,
          -77.5,
          -107.5,
          -82.1875
         ]
        }
       ],
       "layout": {
        "autosize": false,
        "height": 380,
        "hoverlabel": {
         "bgcolor": "white",
         "font": {
          "family": "Rockwell",
          "size": 16
         }
        },
        "hovermode": "closest",
        "plot_bgcolor": "#ECEFF1",
        "showlegend": false,
        "template": {
         "data": {
          "bar": [
           {
            "error_x": {
             "color": "#2a3f5f"
            },
            "error_y": {
             "color": "#2a3f5f"
            },
            "marker": {
             "line": {
              "color": "white",
              "width": 0.5
             },
             "pattern": {
              "fillmode": "overlay",
              "size": 10,
              "solidity": 0.2
             }
            },
            "type": "bar"
           }
          ],
          "barpolar": [
           {
            "marker": {
             "line": {
              "color": "white",
              "width": 0.5
             },
             "pattern": {
              "fillmode": "overlay",
              "size": 10,
              "solidity": 0.2
             }
            },
            "type": "barpolar"
           }
          ],
          "carpet": [
           {
            "aaxis": {
             "endlinecolor": "#2a3f5f",
             "gridcolor": "#C8D4E3",
             "linecolor": "#C8D4E3",
             "minorgridcolor": "#C8D4E3",
             "startlinecolor": "#2a3f5f"
            },
            "baxis": {
             "endlinecolor": "#2a3f5f",
             "gridcolor": "#C8D4E3",
             "linecolor": "#C8D4E3",
             "minorgridcolor": "#C8D4E3",
             "startlinecolor": "#2a3f5f"
            },
            "type": "carpet"
           }
          ],
          "choropleth": [
           {
            "colorbar": {
             "outlinewidth": 0,
             "ticks": ""
            },
            "type": "choropleth"
           }
          ],
          "contour": [
           {
            "colorbar": {
             "outlinewidth": 0,
             "ticks": ""
            },
            "colorscale": [
             [
              0,
              "#0d0887"
             ],
             [
              0.1111111111111111,
              "#46039f"
             ],
             [
              0.2222222222222222,
              "#7201a8"
             ],
             [
              0.3333333333333333,
              "#9c179e"
             ],
             [
              0.4444444444444444,
              "#bd3786"
             ],
             [
              0.5555555555555556,
              "#d8576b"
             ],
             [
              0.6666666666666666,
              "#ed7953"
             ],
             [
              0.7777777777777778,
              "#fb9f3a"
             ],
             [
              0.8888888888888888,
              "#fdca26"
             ],
             [
              1,
              "#f0f921"
             ]
            ],
            "type": "contour"
           }
          ],
          "contourcarpet": [
           {
            "colorbar": {
             "outlinewidth": 0,
             "ticks": ""
            },
            "type": "contourcarpet"
           }
          ],
          "heatmap": [
           {
            "colorbar": {
             "outlinewidth": 0,
             "ticks": ""
            },
            "colorscale": [
             [
              0,
              "#0d0887"
             ],
             [
              0.1111111111111111,
              "#46039f"
             ],
             [
              0.2222222222222222,
              "#7201a8"
             ],
             [
              0.3333333333333333,
              "#9c179e"
             ],
             [
              0.4444444444444444,
              "#bd3786"
             ],
             [
              0.5555555555555556,
              "#d8576b"
             ],
             [
              0.6666666666666666,
              "#ed7953"
             ],
             [
              0.7777777777777778,
              "#fb9f3a"
             ],
             [
              0.8888888888888888,
              "#fdca26"
             ],
             [
              1,
              "#f0f921"
             ]
            ],
            "type": "heatmap"
           }
          ],
          "heatmapgl": [
           {
            "colorbar": {
             "outlinewidth": 0,
             "ticks": ""
            },
            "colorscale": [
             [
              0,
              "#0d0887"
             ],
             [
              0.1111111111111111,
              "#46039f"
             ],
             [
              0.2222222222222222,
              "#7201a8"
             ],
             [
              0.3333333333333333,
              "#9c179e"
             ],
             [
              0.4444444444444444,
              "#bd3786"
             ],
             [
              0.5555555555555556,
              "#d8576b"
             ],
             [
              0.6666666666666666,
              "#ed7953"
             ],
             [
              0.7777777777777778,
              "#fb9f3a"
             ],
             [
              0.8888888888888888,
              "#fdca26"
             ],
             [
              1,
              "#f0f921"
             ]
            ],
            "type": "heatmapgl"
           }
          ],
          "histogram": [
           {
            "marker": {
             "pattern": {
              "fillmode": "overlay",
              "size": 10,
              "solidity": 0.2
             }
            },
            "type": "histogram"
           }
          ],
          "histogram2d": [
           {
            "colorbar": {
             "outlinewidth": 0,
             "ticks": ""
            },
            "colorscale": [
             [
              0,
              "#0d0887"
             ],
             [
              0.1111111111111111,
              "#46039f"
             ],
             [
              0.2222222222222222,
              "#7201a8"
             ],
             [
              0.3333333333333333,
              "#9c179e"
             ],
             [
              0.4444444444444444,
              "#bd3786"
             ],
             [
              0.5555555555555556,
              "#d8576b"
             ],
             [
              0.6666666666666666,
              "#ed7953"
             ],
             [
              0.7777777777777778,
              "#fb9f3a"
             ],
             [
              0.8888888888888888,
              "#fdca26"
             ],
             [
              1,
              "#f0f921"
             ]
            ],
            "type": "histogram2d"
           }
          ],
          "histogram2dcontour": [
           {
            "colorbar": {
             "outlinewidth": 0,
             "ticks": ""
            },
            "colorscale": [
             [
              0,
              "#0d0887"
             ],
             [
              0.1111111111111111,
              "#46039f"
             ],
             [
              0.2222222222222222,
              "#7201a8"
             ],
             [
              0.3333333333333333,
              "#9c179e"
             ],
             [
              0.4444444444444444,
              "#bd3786"
             ],
             [
              0.5555555555555556,
              "#d8576b"
             ],
             [
              0.6666666666666666,
              "#ed7953"
             ],
             [
              0.7777777777777778,
              "#fb9f3a"
             ],
             [
              0.8888888888888888,
              "#fdca26"
             ],
             [
              1,
              "#f0f921"
             ]
            ],
            "type": "histogram2dcontour"
           }
          ],
          "mesh3d": [
           {
            "colorbar": {
             "outlinewidth": 0,
             "ticks": ""
            },
            "type": "mesh3d"
           }
          ],
          "parcoords": [
           {
            "line": {
             "colorbar": {
              "outlinewidth": 0,
              "ticks": ""
             }
            },
            "type": "parcoords"
           }
          ],
          "pie": [
           {
            "automargin": true,
            "type": "pie"
           }
          ],
          "scatter": [
           {
            "fillpattern": {
             "fillmode": "overlay",
             "size": 10,
             "solidity": 0.2
            },
            "type": "scatter"
           }
          ],
          "scatter3d": [
           {
            "line": {
             "colorbar": {
              "outlinewidth": 0,
              "ticks": ""
             }
            },
            "marker": {
             "colorbar": {
              "outlinewidth": 0,
              "ticks": ""
             }
            },
            "type": "scatter3d"
           }
          ],
          "scattercarpet": [
           {
            "marker": {
             "colorbar": {
              "outlinewidth": 0,
              "ticks": ""
             }
            },
            "type": "scattercarpet"
           }
          ],
          "scattergeo": [
           {
            "marker": {
             "colorbar": {
              "outlinewidth": 0,
              "ticks": ""
             }
            },
            "type": "scattergeo"
           }
          ],
          "scattergl": [
           {
            "marker": {
             "colorbar": {
              "outlinewidth": 0,
              "ticks": ""
             }
            },
            "type": "scattergl"
           }
          ],
          "scattermapbox": [
           {
            "marker": {
             "colorbar": {
              "outlinewidth": 0,
              "ticks": ""
             }
            },
            "type": "scattermapbox"
           }
          ],
          "scatterpolar": [
           {
            "marker": {
             "colorbar": {
              "outlinewidth": 0,
              "ticks": ""
             }
            },
            "type": "scatterpolar"
           }
          ],
          "scatterpolargl": [
           {
            "marker": {
             "colorbar": {
              "outlinewidth": 0,
              "ticks": ""
             }
            },
            "type": "scatterpolargl"
           }
          ],
          "scatterternary": [
           {
            "marker": {
             "colorbar": {
              "outlinewidth": 0,
              "ticks": ""
             }
            },
            "type": "scatterternary"
           }
          ],
          "surface": [
           {
            "colorbar": {
             "outlinewidth": 0,
             "ticks": ""
            },
            "colorscale": [
             [
              0,
              "#0d0887"
             ],
             [
              0.1111111111111111,
              "#46039f"
             ],
             [
              0.2222222222222222,
              "#7201a8"
             ],
             [
              0.3333333333333333,
              "#9c179e"
             ],
             [
              0.4444444444444444,
              "#bd3786"
             ],
             [
              0.5555555555555556,
              "#d8576b"
             ],
             [
              0.6666666666666666,
              "#ed7953"
             ],
             [
              0.7777777777777778,
              "#fb9f3a"
             ],
             [
              0.8888888888888888,
              "#fdca26"
             ],
             [
              1,
              "#f0f921"
             ]
            ],
            "type": "surface"
           }
          ],
          "table": [
           {
            "cells": {
             "fill": {
              "color": "#EBF0F8"
             },
             "line": {
              "color": "white"
             }
            },
            "header": {
             "fill": {
              "color": "#C8D4E3"
             },
             "line": {
              "color": "white"
             }
            },
            "type": "table"
           }
          ]
         },
         "layout": {
          "annotationdefaults": {
           "arrowcolor": "#2a3f5f",
           "arrowhead": 0,
           "arrowwidth": 1
          },
          "autotypenumbers": "strict",
          "coloraxis": {
           "colorbar": {
            "outlinewidth": 0,
            "ticks": ""
           }
          },
          "colorscale": {
           "diverging": [
            [
             0,
             "#8e0152"
            ],
            [
             0.1,
             "#c51b7d"
            ],
            [
             0.2,
             "#de77ae"
            ],
            [
             0.3,
             "#f1b6da"
            ],
            [
             0.4,
             "#fde0ef"
            ],
            [
             0.5,
             "#f7f7f7"
            ],
            [
             0.6,
             "#e6f5d0"
            ],
            [
             0.7,
             "#b8e186"
            ],
            [
             0.8,
             "#7fbc41"
            ],
            [
             0.9,
             "#4d9221"
            ],
            [
             1,
             "#276419"
            ]
           ],
           "sequential": [
            [
             0,
             "#0d0887"
            ],
            [
             0.1111111111111111,
             "#46039f"
            ],
            [
             0.2222222222222222,
             "#7201a8"
            ],
            [
             0.3333333333333333,
             "#9c179e"
            ],
            [
             0.4444444444444444,
             "#bd3786"
            ],
            [
             0.5555555555555556,
             "#d8576b"
            ],
            [
             0.6666666666666666,
             "#ed7953"
            ],
            [
             0.7777777777777778,
             "#fb9f3a"
            ],
            [
             0.8888888888888888,
             "#fdca26"
            ],
            [
             1,
             "#f0f921"
            ]
           ],
           "sequentialminus": [
            [
             0,
             "#0d0887"
            ],
            [
             0.1111111111111111,
             "#46039f"
            ],
            [
             0.2222222222222222,
             "#7201a8"
            ],
            [
             0.3333333333333333,
             "#9c179e"
            ],
            [
             0.4444444444444444,
             "#bd3786"
            ],
            [
             0.5555555555555556,
             "#d8576b"
            ],
            [
             0.6666666666666666,
             "#ed7953"
            ],
            [
             0.7777777777777778,
             "#fb9f3a"
            ],
            [
             0.8888888888888888,
             "#fdca26"
            ],
            [
             1,
             "#f0f921"
            ]
           ]
          },
          "colorway": [
           "#636efa",
           "#EF553B",
           "#00cc96",
           "#ab63fa",
           "#FFA15A",
           "#19d3f3",
           "#FF6692",
           "#B6E880",
           "#FF97FF",
           "#FECB52"
          ],
          "font": {
           "color": "#2a3f5f"
          },
          "geo": {
           "bgcolor": "white",
           "lakecolor": "white",
           "landcolor": "white",
           "showlakes": true,
           "showland": true,
           "subunitcolor": "#C8D4E3"
          },
          "hoverlabel": {
           "align": "left"
          },
          "hovermode": "closest",
          "mapbox": {
           "style": "light"
          },
          "paper_bgcolor": "white",
          "plot_bgcolor": "white",
          "polar": {
           "angularaxis": {
            "gridcolor": "#EBF0F8",
            "linecolor": "#EBF0F8",
            "ticks": ""
           },
           "bgcolor": "white",
           "radialaxis": {
            "gridcolor": "#EBF0F8",
            "linecolor": "#EBF0F8",
            "ticks": ""
           }
          },
          "scene": {
           "xaxis": {
            "backgroundcolor": "white",
            "gridcolor": "#DFE8F3",
            "gridwidth": 2,
            "linecolor": "#EBF0F8",
            "showbackground": true,
            "ticks": "",
            "zerolinecolor": "#EBF0F8"
           },
           "yaxis": {
            "backgroundcolor": "white",
            "gridcolor": "#DFE8F3",
            "gridwidth": 2,
            "linecolor": "#EBF0F8",
            "showbackground": true,
            "ticks": "",
            "zerolinecolor": "#EBF0F8"
           },
           "zaxis": {
            "backgroundcolor": "white",
            "gridcolor": "#DFE8F3",
            "gridwidth": 2,
            "linecolor": "#EBF0F8",
            "showbackground": true,
            "ticks": "",
            "zerolinecolor": "#EBF0F8"
           }
          },
          "shapedefaults": {
           "line": {
            "color": "#2a3f5f"
           }
          },
          "ternary": {
           "aaxis": {
            "gridcolor": "#DFE8F3",
            "linecolor": "#A2B1C6",
            "ticks": ""
           },
           "baxis": {
            "gridcolor": "#DFE8F3",
            "linecolor": "#A2B1C6",
            "ticks": ""
           },
           "bgcolor": "white",
           "caxis": {
            "gridcolor": "#DFE8F3",
            "linecolor": "#A2B1C6",
            "ticks": ""
           }
          },
          "title": {
           "x": 0.05
          },
          "xaxis": {
           "automargin": true,
           "gridcolor": "#EBF0F8",
           "linecolor": "#EBF0F8",
           "ticks": "",
           "title": {
            "standoff": 15
           },
           "zerolinecolor": "#EBF0F8",
           "zerolinewidth": 2
          },
          "yaxis": {
           "automargin": true,
           "gridcolor": "#EBF0F8",
           "linecolor": "#EBF0F8",
           "ticks": "",
           "title": {
            "standoff": 15
           },
           "zerolinecolor": "#EBF0F8",
           "zerolinewidth": 2
          }
         }
        },
        "title": {
         "font": {
          "color": "Black",
          "size": 22
         },
         "text": "<b>Hierarchical Clustering</b>",
         "x": 0.5,
         "xanchor": "center",
         "yanchor": "top"
        },
        "width": 1000,
        "xaxis": {
         "mirror": "allticks",
         "rangemode": "tozero",
         "showgrid": false,
         "showline": true,
         "showticklabels": true,
         "ticks": "outside",
         "type": "linear",
         "zeroline": false
        },
        "yaxis": {
         "mirror": "allticks",
         "range": [
          -120,
          0
         ],
         "rangemode": "tozero",
         "showgrid": false,
         "showline": true,
         "showticklabels": true,
         "tickmode": "array",
         "ticks": "outside",
         "ticktext": [
          "1_comfort_light_super",
          "5_comfort_light_feel",
          "11_grommet_toe_shoe",
          "10_wide_narrow_feet",
          "0_shoe_run_comfort",
          "4_fit_perfect_great",
          "3_size_order_half",
          "8_nike_flex_qualiti",
          "9_pair_second_year",
          "2_love_daughter_absolut",
          "6_purchas_product_satisfi",
          "7_excel_lol_excelent"
         ],
         "tickvals": [
          -5,
          -15,
          -25,
          -35,
          -45,
          -55,
          -65,
          -75,
          -85,
          -95,
          -105,
          -115
         ],
         "type": "linear",
         "zeroline": false
        }
       }
      }
     },
     "metadata": {},
     "output_type": "display_data"
    }
   ],
   "source": [
    "hierarchical_topics = topic_model.hierarchical_topics(docs)\n",
    "topic_model.visualize_hierarchy(hierarchical_topics=hierarchical_topics)"
   ]
  }
 ],
 "metadata": {
  "kernelspec": {
   "display_name": "venv",
   "language": "python",
   "name": "python3"
  },
  "language_info": {
   "codemirror_mode": {
    "name": "ipython",
    "version": 3
   },
   "file_extension": ".py",
   "mimetype": "text/x-python",
   "name": "python",
   "nbconvert_exporter": "python",
   "pygments_lexer": "ipython3",
   "version": "3.9.12"
  },
  "orig_nbformat": 4
 },
 "nbformat": 4,
 "nbformat_minor": 2
}
