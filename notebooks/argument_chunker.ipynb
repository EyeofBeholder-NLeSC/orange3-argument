{
 "cells": [
  {
   "cell_type": "code",
   "execution_count": 1,
   "metadata": {},
   "outputs": [
    {
     "name": "stderr",
     "output_type": "stream",
     "text": [
      "/home/jqi/Workspace/orange3-argument/venv/lib/python3.10/site-packages/umap/distances.py:1063: NumbaDeprecationWarning: \u001b[1mThe 'nopython' keyword argument was not supplied to the 'numba.jit' decorator. The implicit default value for this argument is currently False, but it will be changed to True in Numba 0.59.0. See https://numba.readthedocs.io/en/stable/reference/deprecation.html#deprecation-of-object-mode-fall-back-behaviour-when-using-jit for details.\u001b[0m\n",
      "  @numba.jit()\n",
      "/home/jqi/Workspace/orange3-argument/venv/lib/python3.10/site-packages/umap/distances.py:1071: NumbaDeprecationWarning: \u001b[1mThe 'nopython' keyword argument was not supplied to the 'numba.jit' decorator. The implicit default value for this argument is currently False, but it will be changed to True in Numba 0.59.0. See https://numba.readthedocs.io/en/stable/reference/deprecation.html#deprecation-of-object-mode-fall-back-behaviour-when-using-jit for details.\u001b[0m\n",
      "  @numba.jit()\n",
      "/home/jqi/Workspace/orange3-argument/venv/lib/python3.10/site-packages/umap/distances.py:1086: NumbaDeprecationWarning: \u001b[1mThe 'nopython' keyword argument was not supplied to the 'numba.jit' decorator. The implicit default value for this argument is currently False, but it will be changed to True in Numba 0.59.0. See https://numba.readthedocs.io/en/stable/reference/deprecation.html#deprecation-of-object-mode-fall-back-behaviour-when-using-jit for details.\u001b[0m\n",
      "  @numba.jit()\n",
      "/home/jqi/Workspace/orange3-argument/venv/lib/python3.10/site-packages/tqdm/auto.py:21: TqdmWarning: IProgress not found. Please update jupyter and ipywidgets. See https://ipywidgets.readthedocs.io/en/stable/user_install.html\n",
      "  from .autonotebook import tqdm as notebook_tqdm\n",
      "/home/jqi/Workspace/orange3-argument/venv/lib/python3.10/site-packages/umap/umap_.py:660: NumbaDeprecationWarning: \u001b[1mThe 'nopython' keyword argument was not supplied to the 'numba.jit' decorator. The implicit default value for this argument is currently False, but it will be changed to True in Numba 0.59.0. See https://numba.readthedocs.io/en/stable/reference/deprecation.html#deprecation-of-object-mode-fall-back-behaviour-when-using-jit for details.\u001b[0m\n",
      "  @numba.jit()\n"
     ]
    }
   ],
   "source": [
    "from orangecontrib.argument.miner.topic import ArgumentChunker\n",
    "import pandas as pd\n",
    "\n",
    "pd.set_option('display.max_columns', None)\n",
    "pd.set_option('display.max_rows', None)\n",
    "\n",
    "fpath = '../example/data/data_processed_1prod_full.json'\n",
    "df = pd.read_json(fpath, lines=True)\n",
    "docs = df['reviewText'].astype(str)"
   ]
  },
  {
   "cell_type": "code",
   "execution_count": 2,
   "metadata": {},
   "outputs": [
    {
     "data": {
      "text/plain": [
       "<orangecontrib.argument.miner.topic.ArgumentTopic at 0x7f751ac90eb0>"
      ]
     },
     "execution_count": 2,
     "metadata": {},
     "output_type": "execute_result"
    }
   ],
   "source": [
    "# initialize the chunker\n",
    "chunker = ArgumentChunker(docs)\n",
    "chunker.topic_model"
   ]
  },
  {
   "cell_type": "code",
   "execution_count": 3,
   "metadata": {},
   "outputs": [
    {
     "data": {
      "text/html": [
       "<div>\n",
       "<style scoped>\n",
       "    .dataframe tbody tr th:only-of-type {\n",
       "        vertical-align: middle;\n",
       "    }\n",
       "\n",
       "    .dataframe tbody tr th {\n",
       "        vertical-align: top;\n",
       "    }\n",
       "\n",
       "    .dataframe thead th {\n",
       "        text-align: right;\n",
       "    }\n",
       "</style>\n",
       "<table border=\"1\" class=\"dataframe\">\n",
       "  <thead>\n",
       "    <tr style=\"text-align: right;\">\n",
       "      <th></th>\n",
       "      <th>argument_id</th>\n",
       "      <th>chunk</th>\n",
       "      <th>topic</th>\n",
       "      <th>topic_prob</th>\n",
       "      <th>rank</th>\n",
       "      <th>polarity_score</th>\n",
       "    </tr>\n",
       "  </thead>\n",
       "  <tbody>\n",
       "    <tr>\n",
       "      <th>0</th>\n",
       "      <td>0</td>\n",
       "      <td>I always get a half size up in my tennis shoes .</td>\n",
       "      <td>4</td>\n",
       "      <td>0.609829</td>\n",
       "      <td>0.943571</td>\n",
       "      <td>-0.166667</td>\n",
       "    </tr>\n",
       "    <tr>\n",
       "      <th>1</th>\n",
       "      <td>0</td>\n",
       "      <td>For some reason these feel to big in the heel ...</td>\n",
       "      <td>9</td>\n",
       "      <td>0.756303</td>\n",
       "      <td>0.964794</td>\n",
       "      <td>-0.050000</td>\n",
       "    </tr>\n",
       "    <tr>\n",
       "      <th>2</th>\n",
       "      <td>1</td>\n",
       "      <td>walked 3 hours with no problem</td>\n",
       "      <td>10</td>\n",
       "      <td>0.000000</td>\n",
       "      <td>0.944148</td>\n",
       "      <td>0.000000</td>\n",
       "    </tr>\n",
       "    <tr>\n",
       "      <th>3</th>\n",
       "      <td>1</td>\n",
       "      <td>Put them on and !</td>\n",
       "      <td>2</td>\n",
       "      <td>1.000000</td>\n",
       "      <td>0.971992</td>\n",
       "      <td>0.000000</td>\n",
       "    </tr>\n",
       "    <tr>\n",
       "      <th>4</th>\n",
       "      <td>1</td>\n",
       "      <td>Love them !</td>\n",
       "      <td>1</td>\n",
       "      <td>1.000000</td>\n",
       "      <td>0.937446</td>\n",
       "      <td>0.625000</td>\n",
       "    </tr>\n",
       "  </tbody>\n",
       "</table>\n",
       "</div>"
      ],
      "text/plain": [
       "   argument_id                                              chunk  topic   \n",
       "0            0   I always get a half size up in my tennis shoes .      4  \\\n",
       "1            0  For some reason these feel to big in the heel ...      9   \n",
       "2            1                     walked 3 hours with no problem     10   \n",
       "3            1                                  Put them on and !      2   \n",
       "4            1                                        Love them !      1   \n",
       "\n",
       "   topic_prob      rank  polarity_score  \n",
       "0    0.609829  0.943571       -0.166667  \n",
       "1    0.756303  0.964794       -0.050000  \n",
       "2    0.000000  0.944148        0.000000  \n",
       "3    1.000000  0.971992        0.000000  \n",
       "4    1.000000  0.937446        0.625000  "
      ]
     },
     "execution_count": 3,
     "metadata": {},
     "output_type": "execute_result"
    }
   ],
   "source": [
    "# get the full chunk info table that include everything\n",
    "df_chunks = chunker.get_chunk_table()\n",
    "df_chunks.head()"
   ]
  },
  {
   "cell_type": "code",
   "execution_count": 5,
   "metadata": {},
   "outputs": [
    {
     "data": {
      "text/html": [
       "<div>\n",
       "<style scoped>\n",
       "    .dataframe tbody tr th:only-of-type {\n",
       "        vertical-align: middle;\n",
       "    }\n",
       "\n",
       "    .dataframe tbody tr th {\n",
       "        vertical-align: top;\n",
       "    }\n",
       "\n",
       "    .dataframe thead th {\n",
       "        text-align: right;\n",
       "    }\n",
       "</style>\n",
       "<table border=\"1\" class=\"dataframe\">\n",
       "  <thead>\n",
       "    <tr style=\"text-align: right;\">\n",
       "      <th></th>\n",
       "      <th>Topic</th>\n",
       "      <th>Count</th>\n",
       "      <th>Name</th>\n",
       "      <th>keyword</th>\n",
       "      <th>keyword_scores</th>\n",
       "    </tr>\n",
       "  </thead>\n",
       "  <tbody>\n",
       "    <tr>\n",
       "      <th>0</th>\n",
       "      <td>-1</td>\n",
       "      <td>26</td>\n",
       "      <td>-1_excelente_happens_movement_footbed</td>\n",
       "      <td>[excelente, happens, movement, footbed, confor...</td>\n",
       "      <td>[1.0818385969629976, 0.8845589608195467, 0.884...</td>\n",
       "    </tr>\n",
       "    <tr>\n",
       "      <th>1</th>\n",
       "      <td>0</td>\n",
       "      <td>89</td>\n",
       "      <td>0_sneakers_cross_casual_training</td>\n",
       "      <td>[sneakers, cross, casual, training, running, b...</td>\n",
       "      <td>[0.3268980559056923, 0.30442799091091455, 0.30...</td>\n",
       "    </tr>\n",
       "    <tr>\n",
       "      <th>2</th>\n",
       "      <td>1</td>\n",
       "      <td>78</td>\n",
       "      <td>1_amazing_favorite_liked_absolute</td>\n",
       "      <td>[amazing, favorite, liked, absolute, love, tur...</td>\n",
       "      <td>[0.6109825681198514, 0.5872018416259671, 0.580...</td>\n",
       "    </tr>\n",
       "    <tr>\n",
       "      <th>3</th>\n",
       "      <td>2</td>\n",
       "      <td>85</td>\n",
       "      <td>2_work_row_worn_wore</td>\n",
       "      <td>[work, row, worn, wore, think, everyday, cardi...</td>\n",
       "      <td>[0.3710069564577835, 0.35733599804114435, 0.34...</td>\n",
       "    </tr>\n",
       "    <tr>\n",
       "      <th>4</th>\n",
       "      <td>3</td>\n",
       "      <td>80</td>\n",
       "      <td>3_fits_glove_fit_perfect</td>\n",
       "      <td>[fits, glove, fit, perfect, expected, sock, li...</td>\n",
       "      <td>[0.556220036089798, 0.5018798905704659, 0.4987...</td>\n",
       "    </tr>\n",
       "  </tbody>\n",
       "</table>\n",
       "</div>"
      ],
      "text/plain": [
       "   Topic  Count                                   Name   \n",
       "0     -1     26  -1_excelente_happens_movement_footbed  \\\n",
       "1      0     89       0_sneakers_cross_casual_training   \n",
       "2      1     78      1_amazing_favorite_liked_absolute   \n",
       "3      2     85                   2_work_row_worn_wore   \n",
       "4      3     80               3_fits_glove_fit_perfect   \n",
       "\n",
       "                                             keyword   \n",
       "0  [excelente, happens, movement, footbed, confor...  \\\n",
       "1  [sneakers, cross, casual, training, running, b...   \n",
       "2  [amazing, favorite, liked, absolute, love, tur...   \n",
       "3  [work, row, worn, wore, think, everyday, cardi...   \n",
       "4  [fits, glove, fit, perfect, expected, sock, li...   \n",
       "\n",
       "                                      keyword_scores  \n",
       "0  [1.0818385969629976, 0.8845589608195467, 0.884...  \n",
       "1  [0.3268980559056923, 0.30442799091091455, 0.30...  \n",
       "2  [0.6109825681198514, 0.5872018416259671, 0.580...  \n",
       "3  [0.3710069564577835, 0.35733599804114435, 0.34...  \n",
       "4  [0.556220036089798, 0.5018798905704659, 0.4987...  "
      ]
     },
     "execution_count": 5,
     "metadata": {},
     "output_type": "execute_result"
    }
   ],
   "source": [
    "# get topic table\n",
    "chunker.topic_model.get_topic_table().head()"
   ]
  }
 ],
 "metadata": {
  "kernelspec": {
   "display_name": "venv",
   "language": "python",
   "name": "python3"
  },
  "language_info": {
   "codemirror_mode": {
    "name": "ipython",
    "version": 3
   },
   "file_extension": ".py",
   "mimetype": "text/x-python",
   "name": "python",
   "nbconvert_exporter": "python",
   "pygments_lexer": "ipython3",
   "version": "3.10.6"
  },
  "orig_nbformat": 4
 },
 "nbformat": 4,
 "nbformat_minor": 2
}
