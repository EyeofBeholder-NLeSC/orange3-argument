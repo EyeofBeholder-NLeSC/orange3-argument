{
 "cells": [
  {
   "cell_type": "code",
   "execution_count": 1,
   "metadata": {},
   "outputs": [],
   "source": [
    "import pandas as pd\n",
    "import spacy\n",
    "from gensim.corpora.dictionary import Dictionary\n",
    "from gensim.models import LdaMulticore\n",
    "from gensim.models import CoherenceModel"
   ]
  },
  {
   "cell_type": "code",
   "execution_count": 2,
   "metadata": {},
   "outputs": [
    {
     "data": {
      "text/html": [
       "<div>\n",
       "<style scoped>\n",
       "    .dataframe tbody tr th:only-of-type {\n",
       "        vertical-align: middle;\n",
       "    }\n",
       "\n",
       "    .dataframe tbody tr th {\n",
       "        vertical-align: top;\n",
       "    }\n",
       "\n",
       "    .dataframe thead th {\n",
       "        text-align: right;\n",
       "    }\n",
       "</style>\n",
       "<table border=\"1\" class=\"dataframe\">\n",
       "  <thead>\n",
       "    <tr style=\"text-align: right;\">\n",
       "      <th></th>\n",
       "      <th>argument</th>\n",
       "      <th>score</th>\n",
       "    </tr>\n",
       "  </thead>\n",
       "  <tbody>\n",
       "    <tr>\n",
       "      <th>0</th>\n",
       "      <td>I always get a half size up in my tennis shoes...</td>\n",
       "      <td>3</td>\n",
       "    </tr>\n",
       "    <tr>\n",
       "      <th>1</th>\n",
       "      <td>Put them on and walked 3 hours with no problem...</td>\n",
       "      <td>5</td>\n",
       "    </tr>\n",
       "    <tr>\n",
       "      <th>2</th>\n",
       "      <td>excelente</td>\n",
       "      <td>5</td>\n",
       "    </tr>\n",
       "    <tr>\n",
       "      <th>3</th>\n",
       "      <td>The shoes fit well in the arch area. They are ...</td>\n",
       "      <td>4</td>\n",
       "    </tr>\n",
       "    <tr>\n",
       "      <th>4</th>\n",
       "      <td>Tried them on in a store before buying online ...</td>\n",
       "      <td>5</td>\n",
       "    </tr>\n",
       "  </tbody>\n",
       "</table>\n",
       "</div>"
      ],
      "text/plain": [
       "                                            argument  score\n",
       "0  I always get a half size up in my tennis shoes...      3\n",
       "1  Put them on and walked 3 hours with no problem...      5\n",
       "2                                          excelente      5\n",
       "3  The shoes fit well in the arch area. They are ...      4\n",
       "4  Tried them on in a store before buying online ...      5"
      ]
     },
     "execution_count": 2,
     "metadata": {},
     "output_type": "execute_result"
    }
   ],
   "source": [
    "df = pd.read_json('../example/data/data_processed_1prod_full.json', lines=True)\n",
    "df.rename({'reviewText': 'argument'}, axis=1, inplace=True)\n",
    "df.rename({'overall': 'score'}, axis=1, inplace=True)\n",
    "df['argument'] = df['argument'].astype(str)\n",
    "df.head()"
   ]
  },
  {
   "cell_type": "code",
   "execution_count": 11,
   "metadata": {},
   "outputs": [
    {
     "data": {
      "text/html": [
       "<div>\n",
       "<style scoped>\n",
       "    .dataframe tbody tr th:only-of-type {\n",
       "        vertical-align: middle;\n",
       "    }\n",
       "\n",
       "    .dataframe tbody tr th {\n",
       "        vertical-align: top;\n",
       "    }\n",
       "\n",
       "    .dataframe thead th {\n",
       "        text-align: right;\n",
       "    }\n",
       "</style>\n",
       "<table border=\"1\" class=\"dataframe\">\n",
       "  <thead>\n",
       "    <tr style=\"text-align: right;\">\n",
       "      <th></th>\n",
       "      <th>argu_id</th>\n",
       "      <th>sent_id</th>\n",
       "      <th>text</th>\n",
       "      <th>score</th>\n",
       "    </tr>\n",
       "  </thead>\n",
       "  <tbody>\n",
       "    <tr>\n",
       "      <th>0</th>\n",
       "      <td>0</td>\n",
       "      <td>0</td>\n",
       "      <td>I always get a half size up in my tennis shoes.</td>\n",
       "      <td>3</td>\n",
       "    </tr>\n",
       "    <tr>\n",
       "      <th>1</th>\n",
       "      <td>0</td>\n",
       "      <td>1</td>\n",
       "      <td>For some reason these feel to big in the heel ...</td>\n",
       "      <td>3</td>\n",
       "    </tr>\n",
       "    <tr>\n",
       "      <th>2</th>\n",
       "      <td>1</td>\n",
       "      <td>0</td>\n",
       "      <td>Put them on and walked 3 hours with no problem!</td>\n",
       "      <td>5</td>\n",
       "    </tr>\n",
       "    <tr>\n",
       "      <th>3</th>\n",
       "      <td>1</td>\n",
       "      <td>1</td>\n",
       "      <td>Love them!</td>\n",
       "      <td>5</td>\n",
       "    </tr>\n",
       "    <tr>\n",
       "      <th>4</th>\n",
       "      <td>1</td>\n",
       "      <td>2</td>\n",
       "      <td>So light feeling</td>\n",
       "      <td>5</td>\n",
       "    </tr>\n",
       "    <tr>\n",
       "      <th>...</th>\n",
       "      <td>...</td>\n",
       "      <td>...</td>\n",
       "      <td>...</td>\n",
       "      <td>...</td>\n",
       "    </tr>\n",
       "    <tr>\n",
       "      <th>933</th>\n",
       "      <td>369</td>\n",
       "      <td>1</td>\n",
       "      <td>I have flat feet so a lot of shoes are not com...</td>\n",
       "      <td>5</td>\n",
       "    </tr>\n",
       "    <tr>\n",
       "      <th>934</th>\n",
       "      <td>369</td>\n",
       "      <td>2</td>\n",
       "      <td>I can wear the shoe all day long and they are ...</td>\n",
       "      <td>5</td>\n",
       "    </tr>\n",
       "    <tr>\n",
       "      <th>935</th>\n",
       "      <td>369</td>\n",
       "      <td>3</td>\n",
       "      <td>They are light colored so any dirt will be see...</td>\n",
       "      <td>5</td>\n",
       "    </tr>\n",
       "    <tr>\n",
       "      <th>936</th>\n",
       "      <td>369</td>\n",
       "      <td>4</td>\n",
       "      <td>Would definitely buy another pair in a differe...</td>\n",
       "      <td>5</td>\n",
       "    </tr>\n",
       "    <tr>\n",
       "      <th>937</th>\n",
       "      <td>370</td>\n",
       "      <td>0</td>\n",
       "      <td>Love these shoes!</td>\n",
       "      <td>5</td>\n",
       "    </tr>\n",
       "  </tbody>\n",
       "</table>\n",
       "<p>938 rows × 4 columns</p>\n",
       "</div>"
      ],
      "text/plain": [
       "     argu_id  sent_id                                               text  \\\n",
       "0          0        0    I always get a half size up in my tennis shoes.   \n",
       "1          0        1  For some reason these feel to big in the heel ...   \n",
       "2          1        0    Put them on and walked 3 hours with no problem!   \n",
       "3          1        1                                         Love them!   \n",
       "4          1        2                                   So light feeling   \n",
       "..       ...      ...                                                ...   \n",
       "933      369        1  I have flat feet so a lot of shoes are not com...   \n",
       "934      369        2  I can wear the shoe all day long and they are ...   \n",
       "935      369        3  They are light colored so any dirt will be see...   \n",
       "936      369        4  Would definitely buy another pair in a differe...   \n",
       "937      370        0                                  Love these shoes!   \n",
       "\n",
       "     score  \n",
       "0        3  \n",
       "1        3  \n",
       "2        5  \n",
       "3        5  \n",
       "4        5  \n",
       "..     ...  \n",
       "933      5  \n",
       "934      5  \n",
       "935      5  \n",
       "936      5  \n",
       "937      5  \n",
       "\n",
       "[938 rows x 4 columns]"
      ]
     },
     "execution_count": 11,
     "metadata": {},
     "output_type": "execute_result"
    }
   ],
   "source": [
    "# split reviews into sentences and add argument and sentence id\n",
    "nlp = spacy.load('en_core_web_md')\n",
    "df_sent = pd.DataFrame()\n",
    "argu_id = []\n",
    "sent_id = []\n",
    "text = []\n",
    "score = []\n",
    "for i, row in df.iterrows():\n",
    "    doc = nlp(row['argument'])\n",
    "    for j, sent in enumerate(doc.sents):\n",
    "        argu_id.append(i)\n",
    "        sent_id.append(j)\n",
    "        text.append(str(sent))\n",
    "        score.append(row['score'])\n",
    "df_sent['argu_id'] = argu_id\n",
    "df_sent['sent_id'] = sent_id\n",
    "df_sent['text'] = text\n",
    "df_sent['score'] = score\n",
    "\n",
    "df_sent"
   ]
  },
  {
   "attachments": {},
   "cell_type": "markdown",
   "metadata": {},
   "source": [
    "## Preprocess text data"
   ]
  },
  {
   "cell_type": "code",
   "execution_count": 16,
   "metadata": {},
   "outputs": [
    {
     "data": {
      "text/html": [
       "<div>\n",
       "<style scoped>\n",
       "    .dataframe tbody tr th:only-of-type {\n",
       "        vertical-align: middle;\n",
       "    }\n",
       "\n",
       "    .dataframe tbody tr th {\n",
       "        vertical-align: top;\n",
       "    }\n",
       "\n",
       "    .dataframe thead th {\n",
       "        text-align: right;\n",
       "    }\n",
       "</style>\n",
       "<table border=\"1\" class=\"dataframe\">\n",
       "  <thead>\n",
       "    <tr style=\"text-align: right;\">\n",
       "      <th></th>\n",
       "      <th>argu_id</th>\n",
       "      <th>sent_id</th>\n",
       "      <th>text</th>\n",
       "      <th>score</th>\n",
       "      <th>tokens</th>\n",
       "    </tr>\n",
       "  </thead>\n",
       "  <tbody>\n",
       "    <tr>\n",
       "      <th>0</th>\n",
       "      <td>0</td>\n",
       "      <td>0</td>\n",
       "      <td>I always get a half size up in my tennis shoes.</td>\n",
       "      <td>3</td>\n",
       "      <td>[half, size, tennis, shoe]</td>\n",
       "    </tr>\n",
       "    <tr>\n",
       "      <th>1</th>\n",
       "      <td>0</td>\n",
       "      <td>1</td>\n",
       "      <td>For some reason these feel to big in the heel ...</td>\n",
       "      <td>3</td>\n",
       "      <td>[reason, big, heel, area, wide]</td>\n",
       "    </tr>\n",
       "    <tr>\n",
       "      <th>2</th>\n",
       "      <td>1</td>\n",
       "      <td>0</td>\n",
       "      <td>Put them on and walked 3 hours with no problem!</td>\n",
       "      <td>5</td>\n",
       "      <td>[hour, problem]</td>\n",
       "    </tr>\n",
       "    <tr>\n",
       "      <th>3</th>\n",
       "      <td>1</td>\n",
       "      <td>1</td>\n",
       "      <td>Love them!</td>\n",
       "      <td>5</td>\n",
       "      <td>[]</td>\n",
       "    </tr>\n",
       "    <tr>\n",
       "      <th>4</th>\n",
       "      <td>1</td>\n",
       "      <td>2</td>\n",
       "      <td>So light feeling</td>\n",
       "      <td>5</td>\n",
       "      <td>[light]</td>\n",
       "    </tr>\n",
       "    <tr>\n",
       "      <th>...</th>\n",
       "      <td>...</td>\n",
       "      <td>...</td>\n",
       "      <td>...</td>\n",
       "      <td>...</td>\n",
       "      <td>...</td>\n",
       "    </tr>\n",
       "    <tr>\n",
       "      <th>933</th>\n",
       "      <td>369</td>\n",
       "      <td>1</td>\n",
       "      <td>I have flat feet so a lot of shoes are not com...</td>\n",
       "      <td>5</td>\n",
       "      <td>[flat, foot, lot, shoe, comfortable, long, per...</td>\n",
       "    </tr>\n",
       "    <tr>\n",
       "      <th>934</th>\n",
       "      <td>369</td>\n",
       "      <td>2</td>\n",
       "      <td>I can wear the shoe all day long and they are ...</td>\n",
       "      <td>5</td>\n",
       "      <td>[shoe, day, long, super, comfortable]</td>\n",
       "    </tr>\n",
       "    <tr>\n",
       "      <th>935</th>\n",
       "      <td>369</td>\n",
       "      <td>3</td>\n",
       "      <td>They are light colored so any dirt will be see...</td>\n",
       "      <td>5</td>\n",
       "      <td>[light, dirt, right, away, easy, shoe, ve]</td>\n",
       "    </tr>\n",
       "    <tr>\n",
       "      <th>936</th>\n",
       "      <td>369</td>\n",
       "      <td>4</td>\n",
       "      <td>Would definitely buy another pair in a differe...</td>\n",
       "      <td>5</td>\n",
       "      <td>[definitely, pair, different, color]</td>\n",
       "    </tr>\n",
       "    <tr>\n",
       "      <th>937</th>\n",
       "      <td>370</td>\n",
       "      <td>0</td>\n",
       "      <td>Love these shoes!</td>\n",
       "      <td>5</td>\n",
       "      <td>[shoe]</td>\n",
       "    </tr>\n",
       "  </tbody>\n",
       "</table>\n",
       "<p>938 rows × 5 columns</p>\n",
       "</div>"
      ],
      "text/plain": [
       "     argu_id  sent_id                                               text  \\\n",
       "0          0        0    I always get a half size up in my tennis shoes.   \n",
       "1          0        1  For some reason these feel to big in the heel ...   \n",
       "2          1        0    Put them on and walked 3 hours with no problem!   \n",
       "3          1        1                                         Love them!   \n",
       "4          1        2                                   So light feeling   \n",
       "..       ...      ...                                                ...   \n",
       "933      369        1  I have flat feet so a lot of shoes are not com...   \n",
       "934      369        2  I can wear the shoe all day long and they are ...   \n",
       "935      369        3  They are light colored so any dirt will be see...   \n",
       "936      369        4  Would definitely buy another pair in a differe...   \n",
       "937      370        0                                  Love these shoes!   \n",
       "\n",
       "     score                                             tokens  \n",
       "0        3                         [half, size, tennis, shoe]  \n",
       "1        3                    [reason, big, heel, area, wide]  \n",
       "2        5                                    [hour, problem]  \n",
       "3        5                                                 []  \n",
       "4        5                                            [light]  \n",
       "..     ...                                                ...  \n",
       "933      5  [flat, foot, lot, shoe, comfortable, long, per...  \n",
       "934      5              [shoe, day, long, super, comfortable]  \n",
       "935      5         [light, dirt, right, away, easy, shoe, ve]  \n",
       "936      5               [definitely, pair, different, color]  \n",
       "937      5                                             [shoe]  \n",
       "\n",
       "[938 rows x 5 columns]"
      ]
     },
     "execution_count": 16,
     "metadata": {},
     "output_type": "execute_result"
    }
   ],
   "source": [
    "# tokenize arguments\n",
    "nlp = spacy.load('en_core_web_md')\n",
    "\n",
    "removal= ['PRON','CCONJ','PUNCT','PART','DET','ADP','SPACE', 'NUM', 'SYM', 'VERB']\n",
    "\n",
    "tokens = []\n",
    "for argument in nlp.pipe(df_sent['text']):\n",
    "    argu_tokens = []\n",
    "    for token in argument:\n",
    "        if token.pos_ not in removal and not token.is_stop and token.is_alpha:\n",
    "            argu_tokens.append(token.lemma_.lower())\n",
    "    tokens.append(argu_tokens)\n",
    "df_sent['tokens'] = tokens\n",
    "df_sent"
   ]
  },
  {
   "cell_type": "code",
   "execution_count": 22,
   "metadata": {},
   "outputs": [
    {
     "data": {
      "text/plain": [
       "{'shoe': 0,\n",
       " 'size': 1,\n",
       " 'big': 2,\n",
       " 'heel': 3,\n",
       " 'wide': 4,\n",
       " 'light': 5,\n",
       " 'arch': 6,\n",
       " 'like': 7,\n",
       " 'little': 8,\n",
       " 'lot': 9,\n",
       " 'toe': 10,\n",
       " 'good': 11,\n",
       " 'cross': 12,\n",
       " 'great': 13,\n",
       " 'training': 14,\n",
       " 'comfortable': 15,\n",
       " 'foot': 16,\n",
       " 'highly': 17,\n",
       " 'pair': 18,\n",
       " 'color': 19,\n",
       " 'fit': 20,\n",
       " 'large': 21,\n",
       " 'perfectly': 22,\n",
       " 'support': 23,\n",
       " 'weight': 24,\n",
       " 'high': 25,\n",
       " 'right': 26,\n",
       " 'nike': 27,\n",
       " 'gym': 28,\n",
       " 'time': 29,\n",
       " 'workout': 30,\n",
       " 'class': 31,\n",
       " 'lightweight': 32,\n",
       " 'comfort': 33,\n",
       " 'running': 34,\n",
       " 'sole': 35,\n",
       " 'different': 36,\n",
       " 'nice': 37,\n",
       " 'true': 38,\n",
       " 'second': 39,\n",
       " 'bit': 40,\n",
       " 'way': 41,\n",
       " 'daughter': 42,\n",
       " 'cute': 43,\n",
       " 'perfect': 44,\n",
       " 'favorite': 45,\n",
       " 'style': 46,\n",
       " 'comfy': 47,\n",
       " 'day': 48,\n",
       " 'super': 49,\n",
       " 'small': 50,\n",
       " 'long': 51,\n",
       " 'extremely': 52,\n",
       " 'sneaker': 53,\n",
       " 'year': 54,\n",
       " 'happy': 55,\n",
       " 'flex': 56,\n",
       " 'pain': 57}"
      ]
     },
     "execution_count": 22,
     "metadata": {},
     "output_type": "execute_result"
    }
   ],
   "source": [
    "# create dictionary\n",
    "dictionary = Dictionary(df_sent['tokens'])\n",
    "\n",
    "# no_below and no_above should be fine-tuned\n",
    "dictionary.filter_extremes(no_below=10, no_above=.5, keep_n=1000)\n",
    "\n",
    "dictionary.token2id"
   ]
  },
  {
   "cell_type": "code",
   "execution_count": 23,
   "metadata": {},
   "outputs": [],
   "source": [
    "# create corpus\n",
    "corpus = []\n",
    "for doc in df_sent['tokens']:\n",
    "    corpus.append(dictionary.doc2bow(doc))"
   ]
  },
  {
   "attachments": {},
   "cell_type": "markdown",
   "metadata": {},
   "source": [
    "### LDA model + coherence score\n",
    "\n",
    "- Converging process is time-consuming (±1m40s for exploring topic ranges of [1, 20]).\n",
    "- Convergence usually results in only 1 topic, even with different coherence scores: my guess is that the reviews are mostly very general and covers multiple topics, which makes distinguish of reviews on topics diffficult."
   ]
  },
  {
   "cell_type": "code",
   "execution_count": 24,
   "metadata": {},
   "outputs": [
    {
     "data": {
      "text/plain": [
       "(1, -7.68783722747417)"
      ]
     },
     "execution_count": 24,
     "metadata": {},
     "output_type": "execute_result"
    }
   ],
   "source": [
    "# build model\n",
    "n_topics = []\n",
    "coherence_score = []\n",
    "seed = 13\n",
    "\n",
    "for i in range(1, 21, 1):\n",
    "    lda_model = LdaMulticore(corpus=corpus, id2word=dictionary, iterations=50, \n",
    "                         num_topics=i, workers=4, passes=10, random_state=seed)\n",
    "    \n",
    "    # coherence coefficient should be a bar to handle\n",
    "    coherence_model = CoherenceModel(model=lda_model, \n",
    "                                    #  texts=df['tokens'],\n",
    "                                     corpus=corpus,  \n",
    "                                     dictionary=dictionary, coherence='u_mass')\n",
    "    \n",
    "    n_topics.append(i)\n",
    "    coherence_score.append(coherence_model.get_coherence())\n",
    "    \n",
    "max_coherence = max(coherence_score)\n",
    "n_topics_optimal = n_topics[coherence_score.index(max_coherence)]\n",
    "n_topics_optimal, max_coherence"
   ]
  },
  {
   "cell_type": "code",
   "execution_count": 25,
   "metadata": {},
   "outputs": [
    {
     "data": {
      "text/plain": [
       "[(0,\n",
       "  '0.148*\"shoe\" + 0.070*\"comfortable\" + 0.043*\"great\" + 0.042*\"foot\" + 0.039*\"size\" + 0.036*\"fit\" + 0.031*\"light\" + 0.030*\"good\" + 0.028*\"pair\" + 0.024*\"nike\"')]"
      ]
     },
     "execution_count": 25,
     "metadata": {},
     "output_type": "execute_result"
    }
   ],
   "source": [
    "# topic modeling results\n",
    "lda_model = LdaMulticore(corpus=corpus, id2word=dictionary, iterations=100, \n",
    "                         num_topics=n_topics_optimal, workers=4, \n",
    "                         passes=100, random_state=seed)\n",
    "lda_model.print_topics(-1)"
   ]
  },
  {
   "cell_type": "code",
   "execution_count": 178,
   "metadata": {},
   "outputs": [
    {
     "data": {
      "text/plain": [
       "[(0, 1.0)]"
      ]
     },
     "execution_count": 178,
     "metadata": {},
     "output_type": "execute_result"
    }
   ],
   "source": [
    "lda_model[corpus][0]"
   ]
  },
  {
   "attachments": {},
   "cell_type": "markdown",
   "metadata": {},
   "source": [
    "### BERTopic Model\n",
    "\n",
    "- The whole modeling process is modulized into sub-models. Each sub-model has various options to choose from. \n",
    "- Runtime performance is better than training LDA models from the beginning as those in BERTopic are pre-trained.\n",
    "- Can generate multiple but similar topics. "
   ]
  },
  {
   "cell_type": "code",
   "execution_count": 26,
   "metadata": {},
   "outputs": [],
   "source": [
    "from bertopic import BERTopic\n",
    "from umap import UMAP\n",
    "from hdbscan import HDBSCAN"
   ]
  },
  {
   "cell_type": "code",
   "execution_count": 27,
   "metadata": {},
   "outputs": [
    {
     "data": {
      "application/vnd.jupyter.widget-view+json": {
       "model_id": "97380d553abf45c7b337ca50c24a55ad",
       "version_major": 2,
       "version_minor": 0
      },
      "text/plain": [
       "Batches:   0%|          | 0/30 [00:00<?, ?it/s]"
      ]
     },
     "metadata": {},
     "output_type": "display_data"
    },
    {
     "name": "stderr",
     "output_type": "stream",
     "text": [
      "2023-05-01 15:49:21,904 - BERTopic - Transformed documents to Embeddings\n",
      "2023-05-01 15:49:25,866 - BERTopic - Reduced dimensionality\n",
      "2023-05-01 15:49:25,966 - BERTopic - Clustered reduced embeddings\n",
      "100%|██████████| 1/1 [00:00<00:00, 101.51it/s]\n"
     ]
    }
   ],
   "source": [
    "# umap for dimensionality reduction\n",
    "umap_model = UMAP(n_neighbors=5, n_components=50, metric='cosine', low_memory=False)\n",
    "\n",
    "# HDBSCAN for clustering documents\n",
    "hdbscan_model = HDBSCAN(min_cluster_size=7, \n",
    "                        metric='euclidean', prediction_data=True)\n",
    "\n",
    "model = BERTopic(n_gram_range=[1, 1], language='english', \n",
    "                 calculate_probabilities=True, verbose=True, \n",
    "                 umap_model=umap_model, \n",
    "                 hdbscan_model=hdbscan_model\n",
    "                 )\n",
    "\n",
    "topics, probs = model.fit_transform(df_sent['text'])\n",
    "new_topics = model.reduce_outliers(df_sent['text'], topics)"
   ]
  },
  {
   "cell_type": "code",
   "execution_count": 28,
   "metadata": {},
   "outputs": [
    {
     "data": {
      "text/html": [
       "<div>\n",
       "<style scoped>\n",
       "    .dataframe tbody tr th:only-of-type {\n",
       "        vertical-align: middle;\n",
       "    }\n",
       "\n",
       "    .dataframe tbody tr th {\n",
       "        vertical-align: top;\n",
       "    }\n",
       "\n",
       "    .dataframe thead th {\n",
       "        text-align: right;\n",
       "    }\n",
       "</style>\n",
       "<table border=\"1\" class=\"dataframe\">\n",
       "  <thead>\n",
       "    <tr style=\"text-align: right;\">\n",
       "      <th></th>\n",
       "      <th>Topic</th>\n",
       "      <th>Count</th>\n",
       "      <th>Name</th>\n",
       "    </tr>\n",
       "  </thead>\n",
       "  <tbody>\n",
       "    <tr>\n",
       "      <th>0</th>\n",
       "      <td>-1</td>\n",
       "      <td>294</td>\n",
       "      <td>-1_the_to_these_shoes</td>\n",
       "    </tr>\n",
       "    <tr>\n",
       "      <th>1</th>\n",
       "      <td>0</td>\n",
       "      <td>46</td>\n",
       "      <td>0_are_they_comfortable_light</td>\n",
       "    </tr>\n",
       "    <tr>\n",
       "      <th>2</th>\n",
       "      <td>1</td>\n",
       "      <td>44</td>\n",
       "      <td>1_shoe_very_sneakers_nice</td>\n",
       "    </tr>\n",
       "    <tr>\n",
       "      <th>3</th>\n",
       "      <td>2</td>\n",
       "      <td>41</td>\n",
       "      <td>2_training_for_gym_cross</td>\n",
       "    </tr>\n",
       "    <tr>\n",
       "      <th>4</th>\n",
       "      <td>3</td>\n",
       "      <td>37</td>\n",
       "      <td>3_light_lightweight_comfortable_weight</td>\n",
       "    </tr>\n",
       "    <tr>\n",
       "      <th>5</th>\n",
       "      <td>4</td>\n",
       "      <td>32</td>\n",
       "      <td>4_nike_nikes_flex_favorite</td>\n",
       "    </tr>\n",
       "    <tr>\n",
       "      <th>6</th>\n",
       "      <td>5</td>\n",
       "      <td>30</td>\n",
       "      <td>5_daughter_loves_them_love</td>\n",
       "    </tr>\n",
       "    <tr>\n",
       "      <th>7</th>\n",
       "      <td>6</td>\n",
       "      <td>24</td>\n",
       "      <td>6_fit_perfect_expected_as</td>\n",
       "    </tr>\n",
       "    <tr>\n",
       "      <th>8</th>\n",
       "      <td>7</td>\n",
       "      <td>24</td>\n",
       "      <td>7_pair_second_this_two</td>\n",
       "    </tr>\n",
       "    <tr>\n",
       "      <th>9</th>\n",
       "      <td>8</td>\n",
       "      <td>23</td>\n",
       "      <td>8_comfortable_looks_very_super</td>\n",
       "    </tr>\n",
       "    <tr>\n",
       "      <th>10</th>\n",
       "      <td>9</td>\n",
       "      <td>22</td>\n",
       "      <td>9_shoe_this_has_it</td>\n",
       "    </tr>\n",
       "    <tr>\n",
       "      <th>11</th>\n",
       "      <td>10</td>\n",
       "      <td>21</td>\n",
       "      <td>10_satisfied_purchase_product_with</td>\n",
       "    </tr>\n",
       "    <tr>\n",
       "      <th>12</th>\n",
       "      <td>11</td>\n",
       "      <td>21</td>\n",
       "      <td>11_feet_my_hurt_or</td>\n",
       "    </tr>\n",
       "    <tr>\n",
       "      <th>13</th>\n",
       "      <td>12</td>\n",
       "      <td>21</td>\n",
       "      <td>12_ordered_an_85_wear</td>\n",
       "    </tr>\n",
       "    <tr>\n",
       "      <th>14</th>\n",
       "      <td>13</td>\n",
       "      <td>20</td>\n",
       "      <td>13_work_for_workout_use</td>\n",
       "    </tr>\n",
       "    <tr>\n",
       "      <th>15</th>\n",
       "      <td>14</td>\n",
       "      <td>19</td>\n",
       "      <td>14_fit_color_love_perfect</td>\n",
       "    </tr>\n",
       "    <tr>\n",
       "      <th>16</th>\n",
       "      <td>15</td>\n",
       "      <td>17</td>\n",
       "      <td>15_day_wore_first_them</td>\n",
       "    </tr>\n",
       "    <tr>\n",
       "      <th>17</th>\n",
       "      <td>16</td>\n",
       "      <td>16</td>\n",
       "      <td>16_wide_narrow_feet_find</td>\n",
       "    </tr>\n",
       "    <tr>\n",
       "      <th>18</th>\n",
       "      <td>17</td>\n",
       "      <td>16</td>\n",
       "      <td>17_shoes_love_these_loved</td>\n",
       "    </tr>\n",
       "    <tr>\n",
       "      <th>19</th>\n",
       "      <td>18</td>\n",
       "      <td>15</td>\n",
       "      <td>18_excellent_perfect_none_nice</td>\n",
       "    </tr>\n",
       "    <tr>\n",
       "      <th>20</th>\n",
       "      <td>19</td>\n",
       "      <td>14</td>\n",
       "      <td>19_love_them_luv_em</td>\n",
       "    </tr>\n",
       "    <tr>\n",
       "      <th>21</th>\n",
       "      <td>20</td>\n",
       "      <td>14</td>\n",
       "      <td>20_size_half_always_nike</td>\n",
       "    </tr>\n",
       "    <tr>\n",
       "      <th>22</th>\n",
       "      <td>21</td>\n",
       "      <td>13</td>\n",
       "      <td>21_true_size_to_returned</td>\n",
       "    </tr>\n",
       "    <tr>\n",
       "      <th>23</th>\n",
       "      <td>22</td>\n",
       "      <td>12</td>\n",
       "      <td>22_used_purchasing_them_try</td>\n",
       "    </tr>\n",
       "    <tr>\n",
       "      <th>24</th>\n",
       "      <td>23</td>\n",
       "      <td>12</td>\n",
       "      <td>23_love_shoes_these_awesome</td>\n",
       "    </tr>\n",
       "    <tr>\n",
       "      <th>25</th>\n",
       "      <td>24</td>\n",
       "      <td>11</td>\n",
       "      <td>24_arch_support_high_decent</td>\n",
       "    </tr>\n",
       "    <tr>\n",
       "      <th>26</th>\n",
       "      <td>25</td>\n",
       "      <td>10</td>\n",
       "      <td>25_recommend_highly_choice_tranasaction</td>\n",
       "    </tr>\n",
       "    <tr>\n",
       "      <th>27</th>\n",
       "      <td>26</td>\n",
       "      <td>10</td>\n",
       "      <td>26_side_grommets_pink_on</td>\n",
       "    </tr>\n",
       "    <tr>\n",
       "      <th>28</th>\n",
       "      <td>27</td>\n",
       "      <td>10</td>\n",
       "      <td>27_absolute_these_favorite_love</td>\n",
       "    </tr>\n",
       "    <tr>\n",
       "      <th>29</th>\n",
       "      <td>28</td>\n",
       "      <td>9</td>\n",
       "      <td>28_lol_oops_update_do</td>\n",
       "    </tr>\n",
       "    <tr>\n",
       "      <th>30</th>\n",
       "      <td>29</td>\n",
       "      <td>9</td>\n",
       "      <td>29_return_returning_credit_cant</td>\n",
       "    </tr>\n",
       "    <tr>\n",
       "      <th>31</th>\n",
       "      <td>30</td>\n",
       "      <td>8</td>\n",
       "      <td>30_half_size_glad_reviews</td>\n",
       "    </tr>\n",
       "    <tr>\n",
       "      <th>32</th>\n",
       "      <td>31</td>\n",
       "      <td>8</td>\n",
       "      <td>31_cute_comfy_super_flezable</td>\n",
       "    </tr>\n",
       "    <tr>\n",
       "      <th>33</th>\n",
       "      <td>32</td>\n",
       "      <td>8</td>\n",
       "      <td>32_attention_disappointed_pay_happens</td>\n",
       "    </tr>\n",
       "    <tr>\n",
       "      <th>34</th>\n",
       "      <td>33</td>\n",
       "      <td>7</td>\n",
       "      <td>33_shoes_100_kswiss_40</td>\n",
       "    </tr>\n",
       "  </tbody>\n",
       "</table>\n",
       "</div>"
      ],
      "text/plain": [
       "    Topic  Count                                     Name\n",
       "0      -1    294                    -1_the_to_these_shoes\n",
       "1       0     46             0_are_they_comfortable_light\n",
       "2       1     44                1_shoe_very_sneakers_nice\n",
       "3       2     41                 2_training_for_gym_cross\n",
       "4       3     37   3_light_lightweight_comfortable_weight\n",
       "5       4     32               4_nike_nikes_flex_favorite\n",
       "6       5     30               5_daughter_loves_them_love\n",
       "7       6     24                6_fit_perfect_expected_as\n",
       "8       7     24                   7_pair_second_this_two\n",
       "9       8     23           8_comfortable_looks_very_super\n",
       "10      9     22                       9_shoe_this_has_it\n",
       "11     10     21       10_satisfied_purchase_product_with\n",
       "12     11     21                       11_feet_my_hurt_or\n",
       "13     12     21                    12_ordered_an_85_wear\n",
       "14     13     20                  13_work_for_workout_use\n",
       "15     14     19                14_fit_color_love_perfect\n",
       "16     15     17                   15_day_wore_first_them\n",
       "17     16     16                 16_wide_narrow_feet_find\n",
       "18     17     16                17_shoes_love_these_loved\n",
       "19     18     15           18_excellent_perfect_none_nice\n",
       "20     19     14                      19_love_them_luv_em\n",
       "21     20     14                 20_size_half_always_nike\n",
       "22     21     13                 21_true_size_to_returned\n",
       "23     22     12              22_used_purchasing_them_try\n",
       "24     23     12              23_love_shoes_these_awesome\n",
       "25     24     11              24_arch_support_high_decent\n",
       "26     25     10  25_recommend_highly_choice_tranasaction\n",
       "27     26     10                 26_side_grommets_pink_on\n",
       "28     27     10          27_absolute_these_favorite_love\n",
       "29     28      9                    28_lol_oops_update_do\n",
       "30     29      9          29_return_returning_credit_cant\n",
       "31     30      8                30_half_size_glad_reviews\n",
       "32     31      8             31_cute_comfy_super_flezable\n",
       "33     32      8    32_attention_disappointed_pay_happens\n",
       "34     33      7                   33_shoes_100_kswiss_40"
      ]
     },
     "execution_count": 28,
     "metadata": {},
     "output_type": "execute_result"
    }
   ],
   "source": [
    "model.get_topic_info()"
   ]
  },
  {
   "cell_type": "code",
   "execution_count": 124,
   "metadata": {},
   "outputs": [
    {
     "data": {
      "text/plain": [
       "[('true', 3.068052935133617),\n",
       " ('', 1e-05),\n",
       " ('', 1e-05),\n",
       " ('', 1e-05),\n",
       " ('', 1e-05),\n",
       " ('', 1e-05),\n",
       " ('', 1e-05),\n",
       " ('', 1e-05),\n",
       " ('', 1e-05),\n",
       " ('', 1e-05)]"
      ]
     },
     "execution_count": 124,
     "metadata": {},
     "output_type": "execute_result"
    }
   ],
   "source": [
    "model.get_topic(3)"
   ]
  },
  {
   "cell_type": "code",
   "execution_count": 30,
   "metadata": {},
   "outputs": [
    {
     "name": "stderr",
     "output_type": "stream",
     "text": [
      "100%|██████████| 33/33 [00:00<00:00, 445.27it/s]\n"
     ]
    },
    {
     "data": {
      "application/vnd.plotly.v1+json": {
       "config": {
        "plotlyServerURL": "https://plot.ly"
       },
       "data": [
        {
         "hoverinfo": "text",
         "marker": {
          "color": "rgb(61,153,112)"
         },
         "mode": "lines",
         "text": [
          "daughter_loves_them_love_wife",
          "",
          "",
          "love_them_luv_em_it"
         ],
         "type": "scatter",
         "x": [
          0,
          0.9042445101374256,
          0.9042445101374256,
          0
         ],
         "xaxis": "x",
         "y": [
          -5,
          -5,
          -15,
          -15
         ],
         "yaxis": "y"
        },
        {
         "hoverinfo": "text",
         "marker": {
          "color": "rgb(255,65,54)"
         },
         "mode": "lines",
         "text": [
          "shoes_love_these_loved_green",
          "",
          "",
          "love_shoes_these_awesome_absolutly"
         ],
         "type": "scatter",
         "x": [
          0,
          0.6827086565661514,
          0.6827086565661514,
          0
         ],
         "xaxis": "x",
         "y": [
          -25,
          -25,
          -35,
          -35
         ],
         "yaxis": "y"
        },
        {
         "hoverinfo": "text",
         "marker": {
          "color": "rgb(0,116,217)"
         },
         "mode": "lines",
         "text": [
          "absolute_these_favorite_love_wonderful",
          "",
          "",
          "shoes_100_kswiss_40_certainly"
         ],
         "type": "scatter",
         "x": [
          0,
          1.1387036757802163,
          1.1387036757802163,
          0
         ],
         "xaxis": "x",
         "y": [
          -45,
          -45,
          -55,
          -55
         ],
         "yaxis": "y"
        },
        {
         "hoverinfo": "text",
         "marker": {
          "color": "rgb(0,116,217)"
         },
         "mode": "lines",
         "text": [
          "shoes_love_these_loved_awesome",
          "",
          "",
          "these_absolute_favorite_shoes_are"
         ],
         "type": "scatter",
         "x": [
          0.6827086565661514,
          1.2647018148312064,
          1.2647018148312064,
          1.1387036757802163
         ],
         "xaxis": "x",
         "y": [
          -30,
          -30,
          -50,
          -50
         ],
         "yaxis": "y"
        },
        {
         "hoverinfo": "text",
         "marker": {
          "color": "rgb(0,116,217)"
         },
         "mode": "lines",
         "text": [
          "love_them_daughter_loves_wife",
          "",
          "",
          "these_shoes_love_are_loved"
         ],
         "type": "scatter",
         "x": [
          0.9042445101374256,
          1.5187983052773335,
          1.5187983052773335,
          1.2647018148312064
         ],
         "xaxis": "x",
         "y": [
          -10,
          -10,
          -40,
          -40
         ],
         "yaxis": "y"
        },
        {
         "hoverinfo": "text",
         "marker": {
          "color": "rgb(0,116,217)"
         },
         "mode": "lines",
         "text": [
          "fit_perfect_expected_as_slightly",
          "",
          "",
          "fit_color_love_perfect_fits"
         ],
         "type": "scatter",
         "x": [
          0,
          1.4115879662749324,
          1.4115879662749324,
          0
         ],
         "xaxis": "x",
         "y": [
          -75,
          -75,
          -85,
          -85
         ],
         "yaxis": "y"
        },
        {
         "hoverinfo": "text",
         "marker": {
          "color": "rgb(0,116,217)"
         },
         "mode": "lines",
         "text": [
          "excellent_perfect_none_nice_awesome",
          "",
          "",
          "fit_perfect_color_fits_is"
         ],
         "type": "scatter",
         "x": [
          0,
          1.4583059184370133,
          1.4583059184370133,
          1.4115879662749324
         ],
         "xaxis": "x",
         "y": [
          -65,
          -65,
          -80,
          -80
         ],
         "yaxis": "y"
        },
        {
         "hoverinfo": "text",
         "marker": {
          "color": "rgb(0,116,217)"
         },
         "mode": "lines",
         "text": [
          "are_they_comfortable_light_them",
          "",
          "",
          "light_lightweight_comfortable_weight_and"
         ],
         "type": "scatter",
         "x": [
          0,
          1.3258801716570168,
          1.3258801716570168,
          0
         ],
         "xaxis": "x",
         "y": [
          -95,
          -95,
          -105,
          -105
         ],
         "yaxis": "y"
        },
        {
         "hoverinfo": "text",
         "marker": {
          "color": "rgb(0,116,217)"
         },
         "mode": "lines",
         "text": [
          "comfortable_looks_very_super_great",
          "",
          "",
          "shoe_very_sneakers_nice_looking"
         ],
         "type": "scatter",
         "x": [
          0,
          1.1739352087065604,
          1.1739352087065604,
          0
         ],
         "xaxis": "x",
         "y": [
          -115,
          -115,
          -125,
          -125
         ],
         "yaxis": "y"
        },
        {
         "hoverinfo": "text",
         "marker": {
          "color": "rgb(0,116,217)"
         },
         "mode": "lines",
         "text": [
          "light_comfortable_are_they_lightweight",
          "",
          "",
          "comfortable_very_shoe_nice_sneakers"
         ],
         "type": "scatter",
         "x": [
          1.3258801716570168,
          1.4754846703476805,
          1.4754846703476805,
          1.1739352087065604
         ],
         "xaxis": "x",
         "y": [
          -100,
          -100,
          -120,
          -120
         ],
         "yaxis": "y"
        },
        {
         "hoverinfo": "text",
         "marker": {
          "color": "rgb(0,116,217)"
         },
         "mode": "lines",
         "text": [
          "comfortable_very_light_and_are",
          "",
          "",
          "cute_comfy_super_flezable_very"
         ],
         "type": "scatter",
         "x": [
          1.4583059184370133,
          1.5974930669780862,
          1.5974930669780862,
          1.4754846703476805
         ],
         "xaxis": "x",
         "y": [
          -72.5,
          -72.5,
          -110,
          -110
         ],
         "yaxis": "y"
        },
        {
         "hoverinfo": "text",
         "marker": {
          "color": "rgb(35,205,205)"
         },
         "mode": "lines",
         "text": [
          "fit_perfect_color_great_fits",
          "",
          "",
          "comfortable_very_light_and_cute"
         ],
         "type": "scatter",
         "x": [
          0,
          0.9600882194639795,
          0.9600882194639795,
          0
         ],
         "xaxis": "x",
         "y": [
          -135,
          -135,
          -145,
          -145
         ],
         "yaxis": "y"
        },
        {
         "hoverinfo": "text",
         "marker": {
          "color": "rgb(0,116,217)"
         },
         "mode": "lines",
         "text": [
          "true_size_to_returned_fit",
          "",
          "",
          "ordered_an_85_wear_size"
         ],
         "type": "scatter",
         "x": [
          0.9600882194639795,
          1.2391629993029885,
          1.2391629993029885,
          0
         ],
         "xaxis": "x",
         "y": [
          -140,
          -140,
          -155,
          -155
         ],
         "yaxis": "y"
        },
        {
         "hoverinfo": "text",
         "marker": {
          "color": "rgb(0,116,217)"
         },
         "mode": "lines",
         "text": [
          "size_half_always_nike_ordered",
          "",
          "",
          "half_size_glad_reviews_up"
         ],
         "type": "scatter",
         "x": [
          1.5974930669780862,
          1.995951420106391,
          1.995951420106391,
          1.2391629993029885
         ],
         "xaxis": "x",
         "y": [
          -91.25,
          -91.25,
          -147.5,
          -147.5
         ],
         "yaxis": "y"
        },
        {
         "hoverinfo": "text",
         "marker": {
          "color": "rgb(0,116,217)"
         },
         "mode": "lines",
         "text": [
          "size_true_ordered_an_85",
          "",
          "",
          "size_half_up_always_nike"
         ],
         "type": "scatter",
         "x": [
          0,
          1.2181986458330982,
          1.2181986458330982,
          0
         ],
         "xaxis": "x",
         "y": [
          -175,
          -175,
          -185,
          -185
         ],
         "yaxis": "y"
        },
        {
         "hoverinfo": "text",
         "marker": {
          "color": "rgb(0,116,217)"
         },
         "mode": "lines",
         "text": [
          "wide_narrow_feet_find_hard",
          "",
          "",
          "feet_my_hurt_or_when"
         ],
         "type": "scatter",
         "x": [
          0,
          1.0772769114826206,
          1.0772769114826206,
          0
         ],
         "xaxis": "x",
         "y": [
          -195,
          -195,
          -205,
          -205
         ],
         "yaxis": "y"
        },
        {
         "hoverinfo": "text",
         "marker": {
          "color": "rgb(0,116,217)"
         },
         "mode": "lines",
         "text": [
          "feet_narrow_wide_my_hard",
          "",
          "",
          "day_wore_first_them_on"
         ],
         "type": "scatter",
         "x": [
          1.0772769114826206,
          1.1418878662995524,
          1.1418878662995524,
          0
         ],
         "xaxis": "x",
         "y": [
          -200,
          -200,
          -215,
          -215
         ],
         "yaxis": "y"
        },
        {
         "hoverinfo": "text",
         "marker": {
          "color": "rgb(0,116,217)"
         },
         "mode": "lines",
         "text": [
          "feet_my_narrow_wide_wore",
          "",
          "",
          "nike_nikes_flex_favorite_womens"
         ],
         "type": "scatter",
         "x": [
          1.2181986458330982,
          1.2405044122990458,
          1.2405044122990458,
          1.1418878662995524
         ],
         "xaxis": "x",
         "y": [
          -180,
          -180,
          -207.5,
          -207.5
         ],
         "yaxis": "y"
        },
        {
         "hoverinfo": "text",
         "marker": {
          "color": "rgb(0,116,217)"
         },
         "mode": "lines",
         "text": [
          "training_for_gym_cross_shoes",
          "",
          "",
          "work_for_workout_use_class"
         ],
         "type": "scatter",
         "x": [
          0,
          1.15468045263991,
          1.15468045263991,
          0
         ],
         "xaxis": "x",
         "y": [
          -225,
          -225,
          -235,
          -235
         ],
         "yaxis": "y"
        },
        {
         "hoverinfo": "text",
         "marker": {
          "color": "rgb(0,116,217)"
         },
         "mode": "lines",
         "text": [
          "for_training_gym_workout_work",
          "",
          "",
          "used_purchasing_them_try_definitely"
         ],
         "type": "scatter",
         "x": [
          1.2405044122990458,
          1.3416992217249086,
          1.3416992217249086,
          1.15468045263991
         ],
         "xaxis": "x",
         "y": [
          -193.75,
          -193.75,
          -230,
          -230
         ],
         "yaxis": "y"
        },
        {
         "hoverinfo": "text",
         "marker": {
          "color": "rgb(0,116,217)"
         },
         "mode": "lines",
         "text": [
          "nike_feet_my_narrow_wide",
          "",
          "",
          "for_training_gym_workout_work"
         ],
         "type": "scatter",
         "x": [
          0,
          1.3889246989735982,
          1.3889246989735982,
          1.3416992217249086
         ],
         "xaxis": "x",
         "y": [
          -165,
          -165,
          -211.875,
          -211.875
         ],
         "yaxis": "y"
        },
        {
         "hoverinfo": "text",
         "marker": {
          "color": "rgb(0,116,217)"
         },
         "mode": "lines",
         "text": [
          "arch_support_high_decent_foot",
          "",
          "",
          "for_my_feet_and_nike"
         ],
         "type": "scatter",
         "x": [
          0,
          1.0547649408775943,
          1.0547649408775943,
          0
         ],
         "xaxis": "x",
         "y": [
          -245,
          -245,
          -255,
          -255
         ],
         "yaxis": "y"
        },
        {
         "hoverinfo": "text",
         "marker": {
          "color": "rgb(133,20,75)"
         },
         "mode": "lines",
         "text": [
          "side_grommets_pink_on_two",
          "",
          "",
          "shoe_this_has_it_its"
         ],
         "type": "scatter",
         "x": [
          0,
          0.8944557765719338,
          0.8944557765719338,
          0
         ],
         "xaxis": "x",
         "y": [
          -265,
          -265,
          -275,
          -275
         ],
         "yaxis": "y"
        },
        {
         "hoverinfo": "text",
         "marker": {
          "color": "rgb(0,116,217)"
         },
         "mode": "lines",
         "text": [
          "shoe_has_the_this_on",
          "",
          "",
          "pair_second_this_two_style"
         ],
         "type": "scatter",
         "x": [
          1.0547649408775943,
          1.172081732922775,
          1.172081732922775,
          0.8944557765719338
         ],
         "xaxis": "x",
         "y": [
          -250,
          -250,
          -270,
          -270
         ],
         "yaxis": "y"
        },
        {
         "hoverinfo": "text",
         "marker": {
          "color": "rgb(0,116,217)"
         },
         "mode": "lines",
         "text": [
          "for_my_and_feet_nike",
          "",
          "",
          "pair_this_shoe_second_two"
         ],
         "type": "scatter",
         "x": [
          1.3889246989735982,
          1.6700745612026289,
          1.6700745612026289,
          1.172081732922775
         ],
         "xaxis": "x",
         "y": [
          -188.4375,
          -188.4375,
          -260,
          -260
         ],
         "yaxis": "y"
        },
        {
         "hoverinfo": "text",
         "marker": {
          "color": "rgb(255,220,0)"
         },
         "mode": "lines",
         "text": [
          "recommend_highly_choice_tranasaction_reccomend",
          "",
          "",
          "satisfied_purchase_product_with_happy"
         ],
         "type": "scatter",
         "x": [
          0,
          0.9958342908011955,
          0.9958342908011955,
          0
         ],
         "xaxis": "x",
         "y": [
          -285,
          -285,
          -295,
          -295
         ],
         "yaxis": "y"
        },
        {
         "hoverinfo": "text",
         "marker": {
          "color": "rgb(0,116,217)"
         },
         "mode": "lines",
         "text": [
          "return_returning_credit_cant_paperwork",
          "",
          "",
          "attention_disappointed_pay_happens_hate"
         ],
         "type": "scatter",
         "x": [
          1.6700745612026289,
          1.7558365596273684,
          1.7558365596273684,
          0.9958342908011955
         ],
         "xaxis": "x",
         "y": [
          -224.21875,
          -224.21875,
          -290,
          -290
         ],
         "yaxis": "y"
        },
        {
         "hoverinfo": "text",
         "marker": {
          "color": "rgb(40,35,35)"
         },
         "mode": "lines",
         "text": [
          "return_returning_because_credit_cant",
          "",
          "",
          "lol_oops_update_do_just"
         ],
         "type": "scatter",
         "x": [
          0,
          0.9310807186320388,
          0.9310807186320388,
          0
         ],
         "xaxis": "x",
         "y": [
          -315,
          -315,
          -325,
          -325
         ],
         "yaxis": "y"
        },
        {
         "hoverinfo": "text",
         "marker": {
          "color": "rgb(0,116,217)"
         },
         "mode": "lines",
         "text": [
          "recommend_highly_satisfied_purchase_product",
          "",
          "",
          "return_returning_because_lol_credit"
         ],
         "type": "scatter",
         "x": [
          0.9310807186320388,
          1.0844005644442205,
          1.0844005644442205,
          0
         ],
         "xaxis": "x",
         "y": [
          -320,
          -320,
          -335,
          -335
         ],
         "yaxis": "y"
        },
        {
         "hoverinfo": "text",
         "marker": {
          "color": "rgb(0,116,217)"
         },
         "mode": "lines",
         "text": [
          "for_the_my_and_of",
          "",
          "",
          "recommend_highly_return_returning_satisfied"
         ],
         "type": "scatter",
         "x": [
          0,
          1.2113583575640894,
          1.2113583575640894,
          1.0844005644442205
         ],
         "xaxis": "x",
         "y": [
          -305,
          -305,
          -327.5,
          -327.5
         ],
         "yaxis": "y"
        },
        {
         "hoverinfo": "text",
         "marker": {
          "color": "rgb(0,116,217)"
         },
         "mode": "lines",
         "text": [
          "size_ordered_half_true_an",
          "",
          "",
          "for_the_my_and_this"
         ],
         "type": "scatter",
         "x": [
          1.7558365596273684,
          2.0953361607885057,
          2.0953361607885057,
          1.2113583575640894
         ],
         "xaxis": "x",
         "y": [
          -257.109375,
          -257.109375,
          -316.25,
          -316.25
         ],
         "yaxis": "y"
        },
        {
         "hoverinfo": "text",
         "marker": {
          "color": "rgb(0,116,217)"
         },
         "mode": "lines",
         "text": [
          "comfortable_very_light_fit_and",
          "",
          "",
          "and_the_my_for_size"
         ],
         "type": "scatter",
         "x": [
          1.995951420106391,
          2.317891420738829,
          2.317891420738829,
          2.0953361607885057
         ],
         "xaxis": "x",
         "y": [
          -119.375,
          -119.375,
          -286.6796875,
          -286.6796875
         ],
         "yaxis": "y"
        },
        {
         "hoverinfo": "text",
         "marker": {
          "color": "rgb(0,116,217)"
         },
         "mode": "lines",
         "text": [
          "love_these_shoes_them_daughter",
          "",
          "",
          "and_comfortable_the_for_are"
         ],
         "type": "scatter",
         "x": [
          1.5187983052773335,
          2.8266027608371953,
          2.8266027608371953,
          2.317891420738829
         ],
         "xaxis": "x",
         "y": [
          -25,
          -25,
          -203.02734375,
          -203.02734375
         ],
         "yaxis": "y"
        },
        {
         "hoverinfo": "text",
         "hovertext": [
          "shoes_love_these_loved_awesome",
          "love_them_daughter_loves_wife",
          "light_comfortable_are_they_lightweight",
          "comfortable_very_light_and_are",
          "true_size_to_returned_fit",
          "size_half_always_nike_ordered",
          "feet_narrow_wide_my_hard",
          "feet_my_narrow_wide_wore",
          "for_training_gym_workout_work",
          "shoe_has_the_this_on",
          "for_my_and_feet_nike",
          "return_returning_credit_cant_paperwork",
          "recommend_highly_satisfied_purchase_product",
          "size_ordered_half_true_an",
          "comfortable_very_light_fit_and",
          "love_these_shoes_them_daughter"
         ],
         "marker": {
          "color": "black"
         },
         "mode": "markers",
         "showlegend": false,
         "type": "scatter",
         "x": [
          0.6827086565661514,
          0.9042445101374256,
          1.3258801716570168,
          1.4583059184370133,
          0.9600882194639795,
          1.5974930669780862,
          1.0772769114826206,
          1.2181986458330982,
          1.2405044122990458,
          1.0547649408775943,
          1.3889246989735982,
          1.6700745612026289,
          0.9310807186320388,
          1.7558365596273684,
          1.995951420106391,
          1.5187983052773335
         ],
         "y": [
          -30,
          -10,
          -100,
          -72.5,
          -140,
          -91.25,
          -200,
          -180,
          -193.75,
          -250,
          -188.4375,
          -224.21875,
          -320,
          -257.109375,
          -119.375,
          -25
         ]
        },
        {
         "hoverinfo": "text",
         "hovertext": [
          "these_absolute_favorite_shoes_are",
          "these_shoes_love_are_loved",
          "fit_perfect_color_fits_is",
          "comfortable_very_shoe_nice_sneakers",
          "cute_comfy_super_flezable_very",
          "half_size_glad_reviews_up",
          "nike_nikes_flex_favorite_womens",
          "used_purchasing_them_try_definitely",
          "for_training_gym_workout_work",
          "pair_second_this_two_style",
          "pair_this_shoe_second_two",
          "attention_disappointed_pay_happens_hate",
          "recommend_highly_return_returning_satisfied",
          "for_the_my_and_this",
          "and_the_my_for_size",
          "and_comfortable_the_for_are"
         ],
         "marker": {
          "color": "black"
         },
         "mode": "markers",
         "showlegend": false,
         "type": "scatter",
         "x": [
          1.1387036757802163,
          1.2647018148312064,
          1.4115879662749324,
          1.1739352087065604,
          1.4754846703476805,
          1.2391629993029885,
          1.1418878662995524,
          1.15468045263991,
          1.3416992217249086,
          0.8944557765719338,
          1.172081732922775,
          0.9958342908011955,
          1.0844005644442205,
          1.2113583575640894,
          2.0953361607885057,
          2.317891420738829
         ],
         "y": [
          -50,
          -40,
          -80,
          -120,
          -110,
          -147.5,
          -207.5,
          -230,
          -211.875,
          -270,
          -260,
          -290,
          -327.5,
          -316.25,
          -286.6796875,
          -203.02734375
         ]
        }
       ],
       "layout": {
        "autosize": false,
        "height": 710,
        "hoverlabel": {
         "bgcolor": "white",
         "font": {
          "family": "Rockwell",
          "size": 16
         }
        },
        "hovermode": "closest",
        "plot_bgcolor": "#ECEFF1",
        "showlegend": false,
        "template": {
         "data": {
          "bar": [
           {
            "error_x": {
             "color": "#2a3f5f"
            },
            "error_y": {
             "color": "#2a3f5f"
            },
            "marker": {
             "line": {
              "color": "white",
              "width": 0.5
             },
             "pattern": {
              "fillmode": "overlay",
              "size": 10,
              "solidity": 0.2
             }
            },
            "type": "bar"
           }
          ],
          "barpolar": [
           {
            "marker": {
             "line": {
              "color": "white",
              "width": 0.5
             },
             "pattern": {
              "fillmode": "overlay",
              "size": 10,
              "solidity": 0.2
             }
            },
            "type": "barpolar"
           }
          ],
          "carpet": [
           {
            "aaxis": {
             "endlinecolor": "#2a3f5f",
             "gridcolor": "#C8D4E3",
             "linecolor": "#C8D4E3",
             "minorgridcolor": "#C8D4E3",
             "startlinecolor": "#2a3f5f"
            },
            "baxis": {
             "endlinecolor": "#2a3f5f",
             "gridcolor": "#C8D4E3",
             "linecolor": "#C8D4E3",
             "minorgridcolor": "#C8D4E3",
             "startlinecolor": "#2a3f5f"
            },
            "type": "carpet"
           }
          ],
          "choropleth": [
           {
            "colorbar": {
             "outlinewidth": 0,
             "ticks": ""
            },
            "type": "choropleth"
           }
          ],
          "contour": [
           {
            "colorbar": {
             "outlinewidth": 0,
             "ticks": ""
            },
            "colorscale": [
             [
              0,
              "#0d0887"
             ],
             [
              0.1111111111111111,
              "#46039f"
             ],
             [
              0.2222222222222222,
              "#7201a8"
             ],
             [
              0.3333333333333333,
              "#9c179e"
             ],
             [
              0.4444444444444444,
              "#bd3786"
             ],
             [
              0.5555555555555556,
              "#d8576b"
             ],
             [
              0.6666666666666666,
              "#ed7953"
             ],
             [
              0.7777777777777778,
              "#fb9f3a"
             ],
             [
              0.8888888888888888,
              "#fdca26"
             ],
             [
              1,
              "#f0f921"
             ]
            ],
            "type": "contour"
           }
          ],
          "contourcarpet": [
           {
            "colorbar": {
             "outlinewidth": 0,
             "ticks": ""
            },
            "type": "contourcarpet"
           }
          ],
          "heatmap": [
           {
            "colorbar": {
             "outlinewidth": 0,
             "ticks": ""
            },
            "colorscale": [
             [
              0,
              "#0d0887"
             ],
             [
              0.1111111111111111,
              "#46039f"
             ],
             [
              0.2222222222222222,
              "#7201a8"
             ],
             [
              0.3333333333333333,
              "#9c179e"
             ],
             [
              0.4444444444444444,
              "#bd3786"
             ],
             [
              0.5555555555555556,
              "#d8576b"
             ],
             [
              0.6666666666666666,
              "#ed7953"
             ],
             [
              0.7777777777777778,
              "#fb9f3a"
             ],
             [
              0.8888888888888888,
              "#fdca26"
             ],
             [
              1,
              "#f0f921"
             ]
            ],
            "type": "heatmap"
           }
          ],
          "heatmapgl": [
           {
            "colorbar": {
             "outlinewidth": 0,
             "ticks": ""
            },
            "colorscale": [
             [
              0,
              "#0d0887"
             ],
             [
              0.1111111111111111,
              "#46039f"
             ],
             [
              0.2222222222222222,
              "#7201a8"
             ],
             [
              0.3333333333333333,
              "#9c179e"
             ],
             [
              0.4444444444444444,
              "#bd3786"
             ],
             [
              0.5555555555555556,
              "#d8576b"
             ],
             [
              0.6666666666666666,
              "#ed7953"
             ],
             [
              0.7777777777777778,
              "#fb9f3a"
             ],
             [
              0.8888888888888888,
              "#fdca26"
             ],
             [
              1,
              "#f0f921"
             ]
            ],
            "type": "heatmapgl"
           }
          ],
          "histogram": [
           {
            "marker": {
             "pattern": {
              "fillmode": "overlay",
              "size": 10,
              "solidity": 0.2
             }
            },
            "type": "histogram"
           }
          ],
          "histogram2d": [
           {
            "colorbar": {
             "outlinewidth": 0,
             "ticks": ""
            },
            "colorscale": [
             [
              0,
              "#0d0887"
             ],
             [
              0.1111111111111111,
              "#46039f"
             ],
             [
              0.2222222222222222,
              "#7201a8"
             ],
             [
              0.3333333333333333,
              "#9c179e"
             ],
             [
              0.4444444444444444,
              "#bd3786"
             ],
             [
              0.5555555555555556,
              "#d8576b"
             ],
             [
              0.6666666666666666,
              "#ed7953"
             ],
             [
              0.7777777777777778,
              "#fb9f3a"
             ],
             [
              0.8888888888888888,
              "#fdca26"
             ],
             [
              1,
              "#f0f921"
             ]
            ],
            "type": "histogram2d"
           }
          ],
          "histogram2dcontour": [
           {
            "colorbar": {
             "outlinewidth": 0,
             "ticks": ""
            },
            "colorscale": [
             [
              0,
              "#0d0887"
             ],
             [
              0.1111111111111111,
              "#46039f"
             ],
             [
              0.2222222222222222,
              "#7201a8"
             ],
             [
              0.3333333333333333,
              "#9c179e"
             ],
             [
              0.4444444444444444,
              "#bd3786"
             ],
             [
              0.5555555555555556,
              "#d8576b"
             ],
             [
              0.6666666666666666,
              "#ed7953"
             ],
             [
              0.7777777777777778,
              "#fb9f3a"
             ],
             [
              0.8888888888888888,
              "#fdca26"
             ],
             [
              1,
              "#f0f921"
             ]
            ],
            "type": "histogram2dcontour"
           }
          ],
          "mesh3d": [
           {
            "colorbar": {
             "outlinewidth": 0,
             "ticks": ""
            },
            "type": "mesh3d"
           }
          ],
          "parcoords": [
           {
            "line": {
             "colorbar": {
              "outlinewidth": 0,
              "ticks": ""
             }
            },
            "type": "parcoords"
           }
          ],
          "pie": [
           {
            "automargin": true,
            "type": "pie"
           }
          ],
          "scatter": [
           {
            "fillpattern": {
             "fillmode": "overlay",
             "size": 10,
             "solidity": 0.2
            },
            "type": "scatter"
           }
          ],
          "scatter3d": [
           {
            "line": {
             "colorbar": {
              "outlinewidth": 0,
              "ticks": ""
             }
            },
            "marker": {
             "colorbar": {
              "outlinewidth": 0,
              "ticks": ""
             }
            },
            "type": "scatter3d"
           }
          ],
          "scattercarpet": [
           {
            "marker": {
             "colorbar": {
              "outlinewidth": 0,
              "ticks": ""
             }
            },
            "type": "scattercarpet"
           }
          ],
          "scattergeo": [
           {
            "marker": {
             "colorbar": {
              "outlinewidth": 0,
              "ticks": ""
             }
            },
            "type": "scattergeo"
           }
          ],
          "scattergl": [
           {
            "marker": {
             "colorbar": {
              "outlinewidth": 0,
              "ticks": ""
             }
            },
            "type": "scattergl"
           }
          ],
          "scattermapbox": [
           {
            "marker": {
             "colorbar": {
              "outlinewidth": 0,
              "ticks": ""
             }
            },
            "type": "scattermapbox"
           }
          ],
          "scatterpolar": [
           {
            "marker": {
             "colorbar": {
              "outlinewidth": 0,
              "ticks": ""
             }
            },
            "type": "scatterpolar"
           }
          ],
          "scatterpolargl": [
           {
            "marker": {
             "colorbar": {
              "outlinewidth": 0,
              "ticks": ""
             }
            },
            "type": "scatterpolargl"
           }
          ],
          "scatterternary": [
           {
            "marker": {
             "colorbar": {
              "outlinewidth": 0,
              "ticks": ""
             }
            },
            "type": "scatterternary"
           }
          ],
          "surface": [
           {
            "colorbar": {
             "outlinewidth": 0,
             "ticks": ""
            },
            "colorscale": [
             [
              0,
              "#0d0887"
             ],
             [
              0.1111111111111111,
              "#46039f"
             ],
             [
              0.2222222222222222,
              "#7201a8"
             ],
             [
              0.3333333333333333,
              "#9c179e"
             ],
             [
              0.4444444444444444,
              "#bd3786"
             ],
             [
              0.5555555555555556,
              "#d8576b"
             ],
             [
              0.6666666666666666,
              "#ed7953"
             ],
             [
              0.7777777777777778,
              "#fb9f3a"
             ],
             [
              0.8888888888888888,
              "#fdca26"
             ],
             [
              1,
              "#f0f921"
             ]
            ],
            "type": "surface"
           }
          ],
          "table": [
           {
            "cells": {
             "fill": {
              "color": "#EBF0F8"
             },
             "line": {
              "color": "white"
             }
            },
            "header": {
             "fill": {
              "color": "#C8D4E3"
             },
             "line": {
              "color": "white"
             }
            },
            "type": "table"
           }
          ]
         },
         "layout": {
          "annotationdefaults": {
           "arrowcolor": "#2a3f5f",
           "arrowhead": 0,
           "arrowwidth": 1
          },
          "autotypenumbers": "strict",
          "coloraxis": {
           "colorbar": {
            "outlinewidth": 0,
            "ticks": ""
           }
          },
          "colorscale": {
           "diverging": [
            [
             0,
             "#8e0152"
            ],
            [
             0.1,
             "#c51b7d"
            ],
            [
             0.2,
             "#de77ae"
            ],
            [
             0.3,
             "#f1b6da"
            ],
            [
             0.4,
             "#fde0ef"
            ],
            [
             0.5,
             "#f7f7f7"
            ],
            [
             0.6,
             "#e6f5d0"
            ],
            [
             0.7,
             "#b8e186"
            ],
            [
             0.8,
             "#7fbc41"
            ],
            [
             0.9,
             "#4d9221"
            ],
            [
             1,
             "#276419"
            ]
           ],
           "sequential": [
            [
             0,
             "#0d0887"
            ],
            [
             0.1111111111111111,
             "#46039f"
            ],
            [
             0.2222222222222222,
             "#7201a8"
            ],
            [
             0.3333333333333333,
             "#9c179e"
            ],
            [
             0.4444444444444444,
             "#bd3786"
            ],
            [
             0.5555555555555556,
             "#d8576b"
            ],
            [
             0.6666666666666666,
             "#ed7953"
            ],
            [
             0.7777777777777778,
             "#fb9f3a"
            ],
            [
             0.8888888888888888,
             "#fdca26"
            ],
            [
             1,
             "#f0f921"
            ]
           ],
           "sequentialminus": [
            [
             0,
             "#0d0887"
            ],
            [
             0.1111111111111111,
             "#46039f"
            ],
            [
             0.2222222222222222,
             "#7201a8"
            ],
            [
             0.3333333333333333,
             "#9c179e"
            ],
            [
             0.4444444444444444,
             "#bd3786"
            ],
            [
             0.5555555555555556,
             "#d8576b"
            ],
            [
             0.6666666666666666,
             "#ed7953"
            ],
            [
             0.7777777777777778,
             "#fb9f3a"
            ],
            [
             0.8888888888888888,
             "#fdca26"
            ],
            [
             1,
             "#f0f921"
            ]
           ]
          },
          "colorway": [
           "#636efa",
           "#EF553B",
           "#00cc96",
           "#ab63fa",
           "#FFA15A",
           "#19d3f3",
           "#FF6692",
           "#B6E880",
           "#FF97FF",
           "#FECB52"
          ],
          "font": {
           "color": "#2a3f5f"
          },
          "geo": {
           "bgcolor": "white",
           "lakecolor": "white",
           "landcolor": "white",
           "showlakes": true,
           "showland": true,
           "subunitcolor": "#C8D4E3"
          },
          "hoverlabel": {
           "align": "left"
          },
          "hovermode": "closest",
          "mapbox": {
           "style": "light"
          },
          "paper_bgcolor": "white",
          "plot_bgcolor": "white",
          "polar": {
           "angularaxis": {
            "gridcolor": "#EBF0F8",
            "linecolor": "#EBF0F8",
            "ticks": ""
           },
           "bgcolor": "white",
           "radialaxis": {
            "gridcolor": "#EBF0F8",
            "linecolor": "#EBF0F8",
            "ticks": ""
           }
          },
          "scene": {
           "xaxis": {
            "backgroundcolor": "white",
            "gridcolor": "#DFE8F3",
            "gridwidth": 2,
            "linecolor": "#EBF0F8",
            "showbackground": true,
            "ticks": "",
            "zerolinecolor": "#EBF0F8"
           },
           "yaxis": {
            "backgroundcolor": "white",
            "gridcolor": "#DFE8F3",
            "gridwidth": 2,
            "linecolor": "#EBF0F8",
            "showbackground": true,
            "ticks": "",
            "zerolinecolor": "#EBF0F8"
           },
           "zaxis": {
            "backgroundcolor": "white",
            "gridcolor": "#DFE8F3",
            "gridwidth": 2,
            "linecolor": "#EBF0F8",
            "showbackground": true,
            "ticks": "",
            "zerolinecolor": "#EBF0F8"
           }
          },
          "shapedefaults": {
           "line": {
            "color": "#2a3f5f"
           }
          },
          "ternary": {
           "aaxis": {
            "gridcolor": "#DFE8F3",
            "linecolor": "#A2B1C6",
            "ticks": ""
           },
           "baxis": {
            "gridcolor": "#DFE8F3",
            "linecolor": "#A2B1C6",
            "ticks": ""
           },
           "bgcolor": "white",
           "caxis": {
            "gridcolor": "#DFE8F3",
            "linecolor": "#A2B1C6",
            "ticks": ""
           }
          },
          "title": {
           "x": 0.05
          },
          "xaxis": {
           "automargin": true,
           "gridcolor": "#EBF0F8",
           "linecolor": "#EBF0F8",
           "ticks": "",
           "title": {
            "standoff": 15
           },
           "zerolinecolor": "#EBF0F8",
           "zerolinewidth": 2
          },
          "yaxis": {
           "automargin": true,
           "gridcolor": "#EBF0F8",
           "linecolor": "#EBF0F8",
           "ticks": "",
           "title": {
            "standoff": 15
           },
           "zerolinecolor": "#EBF0F8",
           "zerolinewidth": 2
          }
         }
        },
        "title": {
         "font": {
          "color": "Black",
          "size": 22
         },
         "text": "<b>Hierarchical Clustering</b>",
         "x": 0.5,
         "xanchor": "center",
         "yanchor": "top"
        },
        "width": 1000,
        "xaxis": {
         "mirror": "allticks",
         "rangemode": "tozero",
         "showgrid": false,
         "showline": true,
         "showticklabels": true,
         "ticks": "outside",
         "type": "linear",
         "zeroline": false
        },
        "yaxis": {
         "mirror": "allticks",
         "range": [
          -340,
          0
         ],
         "rangemode": "tozero",
         "showgrid": false,
         "showline": true,
         "showticklabels": true,
         "tickmode": "array",
         "ticks": "outside",
         "ticktext": [
          "5_daughter_loves_them",
          "19_love_them_luv",
          "17_shoes_love_these",
          "23_love_shoes_these",
          "27_absolute_these_favorite",
          "33_shoes_100_kswiss",
          "18_excellent_perfect_none",
          "28_lol_oops_update",
          "32_attention_disappointed_pay",
          "29_return_returning_credit",
          "22_used_purchasing_them",
          "25_recommend_highly_choice",
          "10_satisfied_purchase_product",
          "3_light_lightweight_comfort...",
          "8_comfortable_looks_very",
          "31_cute_comfy_super",
          "24_arch_support_high",
          "4_nike_nikes_flex",
          "15_day_wore_first",
          "16_wide_narrow_feet",
          "11_feet_my_hurt",
          "9_shoe_this_has",
          "26_side_grommets_pink",
          "7_pair_second_this",
          "0_are_they_comfortable",
          "1_shoe_very_sneakers",
          "2_training_for_gym",
          "13_work_for_workout",
          "14_fit_color_love",
          "6_fit_perfect_expected",
          "21_true_size_to",
          "12_ordered_an_85",
          "20_size_half_always",
          "30_half_size_glad"
         ],
         "tickvals": [
          -5,
          -15,
          -25,
          -35,
          -45,
          -55,
          -65,
          -75,
          -85,
          -95,
          -105,
          -115,
          -125,
          -135,
          -145,
          -155,
          -165,
          -175,
          -185,
          -195,
          -205,
          -215,
          -225,
          -235,
          -245,
          -255,
          -265,
          -275,
          -285,
          -295,
          -305,
          -315,
          -325,
          -335
         ],
         "type": "linear",
         "zeroline": false
        }
       }
      }
     },
     "metadata": {},
     "output_type": "display_data"
    }
   ],
   "source": [
    "hierarchical_topics = model.hierarchical_topics(df_sent['text'])\n",
    "model.visualize_hierarchy(hierarchical_topics=hierarchical_topics)"
   ]
  },
  {
   "cell_type": "code",
   "execution_count": 106,
   "metadata": {},
   "outputs": [
    {
     "data": {
      "application/vnd.plotly.v1+json": {
       "config": {
        "plotlyServerURL": "https://plot.ly"
       },
       "data": [
        {
         "coloraxis": "coloraxis",
         "hovertemplate": "x: %{x}<br>y: %{y}<br>Similarity Score: %{z}<extra></extra>",
         "name": "0",
         "type": "heatmap",
         "x": [
          "0_shoe_foot_comfortable",
          "1_comfortable_color_size",
          "2_light_comfortable_great",
          "3_daughter_nice_love",
          "4_true__",
          "5_fit fit_fit_perfect fit",
          "6_excellent_perfect excelle..."
         ],
         "xaxis": "x",
         "y": [
          "0_shoe_foot_comfortable",
          "1_comfortable_color_size",
          "2_light_comfortable_great",
          "3_daughter_nice_love",
          "4_true__",
          "5_fit fit_fit_perfect fit",
          "6_excellent_perfect excelle..."
         ],
         "yaxis": "y",
         "z": [
          [
           0.9999999999999993,
           0.812139623923504,
           0.7959707113531604,
           0.6949406882305815,
           0.2958500145808369,
           0.6679077106850779,
           0.4965617056805733
          ],
          [
           0.812139623923504,
           1,
           0.8100688421554605,
           0.6434511108483801,
           0.2427119453413676,
           0.7508772861136306,
           0.5146351353993464
          ],
          [
           0.7959707113531604,
           0.8100688421554605,
           0.9999999999999993,
           0.7008702171589283,
           0.3210083697710361,
           0.5924484209952607,
           0.5559845340222569
          ],
          [
           0.6949406882305815,
           0.6434511108483801,
           0.7008702171589283,
           1.0000000000000002,
           0.3041404539542588,
           0.576298402337635,
           0.5420977335875508
          ],
          [
           0.2958500145808369,
           0.2427119453413676,
           0.3210083697710361,
           0.3041404539542588,
           1,
           0.24909683005958744,
           0.211228898323859
          ],
          [
           0.6679077106850779,
           0.7508772861136306,
           0.5924484209952607,
           0.576298402337635,
           0.24909683005958744,
           0.9999999999999998,
           0.4828451634556806
          ],
          [
           0.4965617056805733,
           0.5146351353993464,
           0.5559845340222569,
           0.5420977335875508,
           0.211228898323859,
           0.4828451634556806,
           1
          ]
         ]
        }
       ],
       "layout": {
        "coloraxis": {
         "colorbar": {
          "title": {
           "text": "Similarity Score"
          }
         },
         "colorscale": [
          [
           0,
           "rgb(247,252,240)"
          ],
          [
           0.125,
           "rgb(224,243,219)"
          ],
          [
           0.25,
           "rgb(204,235,197)"
          ],
          [
           0.375,
           "rgb(168,221,181)"
          ],
          [
           0.5,
           "rgb(123,204,196)"
          ],
          [
           0.625,
           "rgb(78,179,211)"
          ],
          [
           0.75,
           "rgb(43,140,190)"
          ],
          [
           0.875,
           "rgb(8,104,172)"
          ],
          [
           1,
           "rgb(8,64,129)"
          ]
         ]
        },
        "height": 800,
        "hoverlabel": {
         "bgcolor": "white",
         "font": {
          "family": "Rockwell",
          "size": 16
         }
        },
        "legend": {
         "title": {
          "text": "Trend"
         }
        },
        "margin": {
         "t": 60
        },
        "showlegend": true,
        "template": {
         "data": {
          "bar": [
           {
            "error_x": {
             "color": "#2a3f5f"
            },
            "error_y": {
             "color": "#2a3f5f"
            },
            "marker": {
             "line": {
              "color": "#E5ECF6",
              "width": 0.5
             },
             "pattern": {
              "fillmode": "overlay",
              "size": 10,
              "solidity": 0.2
             }
            },
            "type": "bar"
           }
          ],
          "barpolar": [
           {
            "marker": {
             "line": {
              "color": "#E5ECF6",
              "width": 0.5
             },
             "pattern": {
              "fillmode": "overlay",
              "size": 10,
              "solidity": 0.2
             }
            },
            "type": "barpolar"
           }
          ],
          "carpet": [
           {
            "aaxis": {
             "endlinecolor": "#2a3f5f",
             "gridcolor": "white",
             "linecolor": "white",
             "minorgridcolor": "white",
             "startlinecolor": "#2a3f5f"
            },
            "baxis": {
             "endlinecolor": "#2a3f5f",
             "gridcolor": "white",
             "linecolor": "white",
             "minorgridcolor": "white",
             "startlinecolor": "#2a3f5f"
            },
            "type": "carpet"
           }
          ],
          "choropleth": [
           {
            "colorbar": {
             "outlinewidth": 0,
             "ticks": ""
            },
            "type": "choropleth"
           }
          ],
          "contour": [
           {
            "colorbar": {
             "outlinewidth": 0,
             "ticks": ""
            },
            "colorscale": [
             [
              0,
              "#0d0887"
             ],
             [
              0.1111111111111111,
              "#46039f"
             ],
             [
              0.2222222222222222,
              "#7201a8"
             ],
             [
              0.3333333333333333,
              "#9c179e"
             ],
             [
              0.4444444444444444,
              "#bd3786"
             ],
             [
              0.5555555555555556,
              "#d8576b"
             ],
             [
              0.6666666666666666,
              "#ed7953"
             ],
             [
              0.7777777777777778,
              "#fb9f3a"
             ],
             [
              0.8888888888888888,
              "#fdca26"
             ],
             [
              1,
              "#f0f921"
             ]
            ],
            "type": "contour"
           }
          ],
          "contourcarpet": [
           {
            "colorbar": {
             "outlinewidth": 0,
             "ticks": ""
            },
            "type": "contourcarpet"
           }
          ],
          "heatmap": [
           {
            "colorbar": {
             "outlinewidth": 0,
             "ticks": ""
            },
            "colorscale": [
             [
              0,
              "#0d0887"
             ],
             [
              0.1111111111111111,
              "#46039f"
             ],
             [
              0.2222222222222222,
              "#7201a8"
             ],
             [
              0.3333333333333333,
              "#9c179e"
             ],
             [
              0.4444444444444444,
              "#bd3786"
             ],
             [
              0.5555555555555556,
              "#d8576b"
             ],
             [
              0.6666666666666666,
              "#ed7953"
             ],
             [
              0.7777777777777778,
              "#fb9f3a"
             ],
             [
              0.8888888888888888,
              "#fdca26"
             ],
             [
              1,
              "#f0f921"
             ]
            ],
            "type": "heatmap"
           }
          ],
          "heatmapgl": [
           {
            "colorbar": {
             "outlinewidth": 0,
             "ticks": ""
            },
            "colorscale": [
             [
              0,
              "#0d0887"
             ],
             [
              0.1111111111111111,
              "#46039f"
             ],
             [
              0.2222222222222222,
              "#7201a8"
             ],
             [
              0.3333333333333333,
              "#9c179e"
             ],
             [
              0.4444444444444444,
              "#bd3786"
             ],
             [
              0.5555555555555556,
              "#d8576b"
             ],
             [
              0.6666666666666666,
              "#ed7953"
             ],
             [
              0.7777777777777778,
              "#fb9f3a"
             ],
             [
              0.8888888888888888,
              "#fdca26"
             ],
             [
              1,
              "#f0f921"
             ]
            ],
            "type": "heatmapgl"
           }
          ],
          "histogram": [
           {
            "marker": {
             "pattern": {
              "fillmode": "overlay",
              "size": 10,
              "solidity": 0.2
             }
            },
            "type": "histogram"
           }
          ],
          "histogram2d": [
           {
            "colorbar": {
             "outlinewidth": 0,
             "ticks": ""
            },
            "colorscale": [
             [
              0,
              "#0d0887"
             ],
             [
              0.1111111111111111,
              "#46039f"
             ],
             [
              0.2222222222222222,
              "#7201a8"
             ],
             [
              0.3333333333333333,
              "#9c179e"
             ],
             [
              0.4444444444444444,
              "#bd3786"
             ],
             [
              0.5555555555555556,
              "#d8576b"
             ],
             [
              0.6666666666666666,
              "#ed7953"
             ],
             [
              0.7777777777777778,
              "#fb9f3a"
             ],
             [
              0.8888888888888888,
              "#fdca26"
             ],
             [
              1,
              "#f0f921"
             ]
            ],
            "type": "histogram2d"
           }
          ],
          "histogram2dcontour": [
           {
            "colorbar": {
             "outlinewidth": 0,
             "ticks": ""
            },
            "colorscale": [
             [
              0,
              "#0d0887"
             ],
             [
              0.1111111111111111,
              "#46039f"
             ],
             [
              0.2222222222222222,
              "#7201a8"
             ],
             [
              0.3333333333333333,
              "#9c179e"
             ],
             [
              0.4444444444444444,
              "#bd3786"
             ],
             [
              0.5555555555555556,
              "#d8576b"
             ],
             [
              0.6666666666666666,
              "#ed7953"
             ],
             [
              0.7777777777777778,
              "#fb9f3a"
             ],
             [
              0.8888888888888888,
              "#fdca26"
             ],
             [
              1,
              "#f0f921"
             ]
            ],
            "type": "histogram2dcontour"
           }
          ],
          "mesh3d": [
           {
            "colorbar": {
             "outlinewidth": 0,
             "ticks": ""
            },
            "type": "mesh3d"
           }
          ],
          "parcoords": [
           {
            "line": {
             "colorbar": {
              "outlinewidth": 0,
              "ticks": ""
             }
            },
            "type": "parcoords"
           }
          ],
          "pie": [
           {
            "automargin": true,
            "type": "pie"
           }
          ],
          "scatter": [
           {
            "fillpattern": {
             "fillmode": "overlay",
             "size": 10,
             "solidity": 0.2
            },
            "type": "scatter"
           }
          ],
          "scatter3d": [
           {
            "line": {
             "colorbar": {
              "outlinewidth": 0,
              "ticks": ""
             }
            },
            "marker": {
             "colorbar": {
              "outlinewidth": 0,
              "ticks": ""
             }
            },
            "type": "scatter3d"
           }
          ],
          "scattercarpet": [
           {
            "marker": {
             "colorbar": {
              "outlinewidth": 0,
              "ticks": ""
             }
            },
            "type": "scattercarpet"
           }
          ],
          "scattergeo": [
           {
            "marker": {
             "colorbar": {
              "outlinewidth": 0,
              "ticks": ""
             }
            },
            "type": "scattergeo"
           }
          ],
          "scattergl": [
           {
            "marker": {
             "colorbar": {
              "outlinewidth": 0,
              "ticks": ""
             }
            },
            "type": "scattergl"
           }
          ],
          "scattermapbox": [
           {
            "marker": {
             "colorbar": {
              "outlinewidth": 0,
              "ticks": ""
             }
            },
            "type": "scattermapbox"
           }
          ],
          "scatterpolar": [
           {
            "marker": {
             "colorbar": {
              "outlinewidth": 0,
              "ticks": ""
             }
            },
            "type": "scatterpolar"
           }
          ],
          "scatterpolargl": [
           {
            "marker": {
             "colorbar": {
              "outlinewidth": 0,
              "ticks": ""
             }
            },
            "type": "scatterpolargl"
           }
          ],
          "scatterternary": [
           {
            "marker": {
             "colorbar": {
              "outlinewidth": 0,
              "ticks": ""
             }
            },
            "type": "scatterternary"
           }
          ],
          "surface": [
           {
            "colorbar": {
             "outlinewidth": 0,
             "ticks": ""
            },
            "colorscale": [
             [
              0,
              "#0d0887"
             ],
             [
              0.1111111111111111,
              "#46039f"
             ],
             [
              0.2222222222222222,
              "#7201a8"
             ],
             [
              0.3333333333333333,
              "#9c179e"
             ],
             [
              0.4444444444444444,
              "#bd3786"
             ],
             [
              0.5555555555555556,
              "#d8576b"
             ],
             [
              0.6666666666666666,
              "#ed7953"
             ],
             [
              0.7777777777777778,
              "#fb9f3a"
             ],
             [
              0.8888888888888888,
              "#fdca26"
             ],
             [
              1,
              "#f0f921"
             ]
            ],
            "type": "surface"
           }
          ],
          "table": [
           {
            "cells": {
             "fill": {
              "color": "#EBF0F8"
             },
             "line": {
              "color": "white"
             }
            },
            "header": {
             "fill": {
              "color": "#C8D4E3"
             },
             "line": {
              "color": "white"
             }
            },
            "type": "table"
           }
          ]
         },
         "layout": {
          "annotationdefaults": {
           "arrowcolor": "#2a3f5f",
           "arrowhead": 0,
           "arrowwidth": 1
          },
          "autotypenumbers": "strict",
          "coloraxis": {
           "colorbar": {
            "outlinewidth": 0,
            "ticks": ""
           }
          },
          "colorscale": {
           "diverging": [
            [
             0,
             "#8e0152"
            ],
            [
             0.1,
             "#c51b7d"
            ],
            [
             0.2,
             "#de77ae"
            ],
            [
             0.3,
             "#f1b6da"
            ],
            [
             0.4,
             "#fde0ef"
            ],
            [
             0.5,
             "#f7f7f7"
            ],
            [
             0.6,
             "#e6f5d0"
            ],
            [
             0.7,
             "#b8e186"
            ],
            [
             0.8,
             "#7fbc41"
            ],
            [
             0.9,
             "#4d9221"
            ],
            [
             1,
             "#276419"
            ]
           ],
           "sequential": [
            [
             0,
             "#0d0887"
            ],
            [
             0.1111111111111111,
             "#46039f"
            ],
            [
             0.2222222222222222,
             "#7201a8"
            ],
            [
             0.3333333333333333,
             "#9c179e"
            ],
            [
             0.4444444444444444,
             "#bd3786"
            ],
            [
             0.5555555555555556,
             "#d8576b"
            ],
            [
             0.6666666666666666,
             "#ed7953"
            ],
            [
             0.7777777777777778,
             "#fb9f3a"
            ],
            [
             0.8888888888888888,
             "#fdca26"
            ],
            [
             1,
             "#f0f921"
            ]
           ],
           "sequentialminus": [
            [
             0,
             "#0d0887"
            ],
            [
             0.1111111111111111,
             "#46039f"
            ],
            [
             0.2222222222222222,
             "#7201a8"
            ],
            [
             0.3333333333333333,
             "#9c179e"
            ],
            [
             0.4444444444444444,
             "#bd3786"
            ],
            [
             0.5555555555555556,
             "#d8576b"
            ],
            [
             0.6666666666666666,
             "#ed7953"
            ],
            [
             0.7777777777777778,
             "#fb9f3a"
            ],
            [
             0.8888888888888888,
             "#fdca26"
            ],
            [
             1,
             "#f0f921"
            ]
           ]
          },
          "colorway": [
           "#636efa",
           "#EF553B",
           "#00cc96",
           "#ab63fa",
           "#FFA15A",
           "#19d3f3",
           "#FF6692",
           "#B6E880",
           "#FF97FF",
           "#FECB52"
          ],
          "font": {
           "color": "#2a3f5f"
          },
          "geo": {
           "bgcolor": "white",
           "lakecolor": "white",
           "landcolor": "#E5ECF6",
           "showlakes": true,
           "showland": true,
           "subunitcolor": "white"
          },
          "hoverlabel": {
           "align": "left"
          },
          "hovermode": "closest",
          "mapbox": {
           "style": "light"
          },
          "paper_bgcolor": "white",
          "plot_bgcolor": "#E5ECF6",
          "polar": {
           "angularaxis": {
            "gridcolor": "white",
            "linecolor": "white",
            "ticks": ""
           },
           "bgcolor": "#E5ECF6",
           "radialaxis": {
            "gridcolor": "white",
            "linecolor": "white",
            "ticks": ""
           }
          },
          "scene": {
           "xaxis": {
            "backgroundcolor": "#E5ECF6",
            "gridcolor": "white",
            "gridwidth": 2,
            "linecolor": "white",
            "showbackground": true,
            "ticks": "",
            "zerolinecolor": "white"
           },
           "yaxis": {
            "backgroundcolor": "#E5ECF6",
            "gridcolor": "white",
            "gridwidth": 2,
            "linecolor": "white",
            "showbackground": true,
            "ticks": "",
            "zerolinecolor": "white"
           },
           "zaxis": {
            "backgroundcolor": "#E5ECF6",
            "gridcolor": "white",
            "gridwidth": 2,
            "linecolor": "white",
            "showbackground": true,
            "ticks": "",
            "zerolinecolor": "white"
           }
          },
          "shapedefaults": {
           "line": {
            "color": "#2a3f5f"
           }
          },
          "ternary": {
           "aaxis": {
            "gridcolor": "white",
            "linecolor": "white",
            "ticks": ""
           },
           "baxis": {
            "gridcolor": "white",
            "linecolor": "white",
            "ticks": ""
           },
           "bgcolor": "#E5ECF6",
           "caxis": {
            "gridcolor": "white",
            "linecolor": "white",
            "ticks": ""
           }
          },
          "title": {
           "x": 0.05
          },
          "xaxis": {
           "automargin": true,
           "gridcolor": "white",
           "linecolor": "white",
           "ticks": "",
           "title": {
            "standoff": 15
           },
           "zerolinecolor": "white",
           "zerolinewidth": 2
          },
          "yaxis": {
           "automargin": true,
           "gridcolor": "white",
           "linecolor": "white",
           "ticks": "",
           "title": {
            "standoff": 15
           },
           "zerolinecolor": "white",
           "zerolinewidth": 2
          }
         }
        },
        "title": {
         "font": {
          "color": "Black",
          "size": 22
         },
         "text": "<b>Similarity Matrix</b>",
         "x": 0.55,
         "xanchor": "center",
         "y": 0.95,
         "yanchor": "top"
        },
        "width": 800,
        "xaxis": {
         "anchor": "y",
         "constrain": "domain",
         "domain": [
          0,
          1
         ],
         "scaleanchor": "y"
        },
        "yaxis": {
         "anchor": "x",
         "autorange": "reversed",
         "constrain": "domain",
         "domain": [
          0,
          1
         ]
        }
       }
      }
     },
     "metadata": {},
     "output_type": "display_data"
    }
   ],
   "source": [
    "model.visualize_heatmap()"
   ]
  },
  {
   "cell_type": "code",
   "execution_count": 64,
   "metadata": {},
   "outputs": [
    {
     "name": "stderr",
     "output_type": "stream",
     "text": [
      "2023-04-14 16:12:27,136 - BERTopic - Transformed documents to Embeddings\n",
      "2023-04-14 16:12:29,007 - BERTopic - Reduced dimensionality\n",
      "2023-04-14 16:12:29,020 - BERTopic - Clustered reduced embeddings\n"
     ]
    },
    {
     "data": {
      "text/html": [
       "<div>\n",
       "<style scoped>\n",
       "    .dataframe tbody tr th:only-of-type {\n",
       "        vertical-align: middle;\n",
       "    }\n",
       "\n",
       "    .dataframe tbody tr th {\n",
       "        vertical-align: top;\n",
       "    }\n",
       "\n",
       "    .dataframe thead th {\n",
       "        text-align: right;\n",
       "    }\n",
       "</style>\n",
       "<table border=\"1\" class=\"dataframe\">\n",
       "  <thead>\n",
       "    <tr style=\"text-align: right;\">\n",
       "      <th></th>\n",
       "      <th>Topic</th>\n",
       "      <th>Count</th>\n",
       "      <th>Name</th>\n",
       "    </tr>\n",
       "  </thead>\n",
       "  <tbody>\n",
       "    <tr>\n",
       "      <th>0</th>\n",
       "      <td>0</td>\n",
       "      <td>345</td>\n",
       "      <td>0_shoe_fit_comfortable_love</td>\n",
       "    </tr>\n",
       "    <tr>\n",
       "      <th>1</th>\n",
       "      <td>1</td>\n",
       "      <td>26</td>\n",
       "      <td>1_color_excellent_nice_excelente</td>\n",
       "    </tr>\n",
       "  </tbody>\n",
       "</table>\n",
       "</div>"
      ],
      "text/plain": [
       "   Topic  Count                              Name\n",
       "0      0    345       0_shoe_fit_comfortable_love\n",
       "1      1     26  1_color_excellent_nice_excelente"
      ]
     },
     "execution_count": 64,
     "metadata": {},
     "output_type": "execute_result"
    }
   ],
   "source": [
    "# guided model with seed topic list\n",
    "seed_topic_list = [['color', 'black', 'pink'], \n",
    "                   ['size', 'width', 'fit', 'confortable'], \n",
    "                   ['brand', 'nike', 'supreme'], \n",
    "                   ['expect', 'recommand']]\n",
    "\n",
    "guided_model = BERTopic(seed_topic_list=seed_topic_list)\n",
    "\n",
    "topics, probs = guided_model.fit_transform(df['tokens'])\n",
    "\n",
    "guided_model.get_topic_info()"
   ]
  },
  {
   "cell_type": "code",
   "execution_count": 114,
   "metadata": {},
   "outputs": [
    {
     "name": "stderr",
     "output_type": "stream",
     "text": [
      "100%|██████████| 1/1 [00:00<00:00, 28.58it/s]\n"
     ]
    },
    {
     "data": {
      "application/vnd.plotly.v1+json": {
       "config": {
        "plotlyServerURL": "https://plot.ly"
       },
       "data": [
        {
         "marker": {
          "color": "#C8D2D7",
          "line": {
           "color": "#6E8484",
           "width": 1
          }
         },
         "orientation": "h",
         "type": "bar",
         "x": [
          0.12879839766342097,
          0.06436217830052204,
          0.806839424036057
         ],
         "y": [
          "<b>Topic 0</b>: shoe_foot_comfortable_pa...",
          "<b>Topic 1</b>: comfortable_color_size_f...",
          "<b>Topic 2</b>: light_comfortable_great_..."
         ]
        }
       ],
       "layout": {
        "height": 600,
        "hoverlabel": {
         "bgcolor": "white",
         "font": {
          "family": "Rockwell",
          "size": 16
         }
        },
        "template": {
         "data": {
          "bar": [
           {
            "error_x": {
             "color": "rgb(36,36,36)"
            },
            "error_y": {
             "color": "rgb(36,36,36)"
            },
            "marker": {
             "line": {
              "color": "white",
              "width": 0.5
             },
             "pattern": {
              "fillmode": "overlay",
              "size": 10,
              "solidity": 0.2
             }
            },
            "type": "bar"
           }
          ],
          "barpolar": [
           {
            "marker": {
             "line": {
              "color": "white",
              "width": 0.5
             },
             "pattern": {
              "fillmode": "overlay",
              "size": 10,
              "solidity": 0.2
             }
            },
            "type": "barpolar"
           }
          ],
          "carpet": [
           {
            "aaxis": {
             "endlinecolor": "rgb(36,36,36)",
             "gridcolor": "white",
             "linecolor": "white",
             "minorgridcolor": "white",
             "startlinecolor": "rgb(36,36,36)"
            },
            "baxis": {
             "endlinecolor": "rgb(36,36,36)",
             "gridcolor": "white",
             "linecolor": "white",
             "minorgridcolor": "white",
             "startlinecolor": "rgb(36,36,36)"
            },
            "type": "carpet"
           }
          ],
          "choropleth": [
           {
            "colorbar": {
             "outlinewidth": 1,
             "tickcolor": "rgb(36,36,36)",
             "ticks": "outside"
            },
            "type": "choropleth"
           }
          ],
          "contour": [
           {
            "colorbar": {
             "outlinewidth": 1,
             "tickcolor": "rgb(36,36,36)",
             "ticks": "outside"
            },
            "colorscale": [
             [
              0,
              "#440154"
             ],
             [
              0.1111111111111111,
              "#482878"
             ],
             [
              0.2222222222222222,
              "#3e4989"
             ],
             [
              0.3333333333333333,
              "#31688e"
             ],
             [
              0.4444444444444444,
              "#26828e"
             ],
             [
              0.5555555555555556,
              "#1f9e89"
             ],
             [
              0.6666666666666666,
              "#35b779"
             ],
             [
              0.7777777777777778,
              "#6ece58"
             ],
             [
              0.8888888888888888,
              "#b5de2b"
             ],
             [
              1,
              "#fde725"
             ]
            ],
            "type": "contour"
           }
          ],
          "contourcarpet": [
           {
            "colorbar": {
             "outlinewidth": 1,
             "tickcolor": "rgb(36,36,36)",
             "ticks": "outside"
            },
            "type": "contourcarpet"
           }
          ],
          "heatmap": [
           {
            "colorbar": {
             "outlinewidth": 1,
             "tickcolor": "rgb(36,36,36)",
             "ticks": "outside"
            },
            "colorscale": [
             [
              0,
              "#440154"
             ],
             [
              0.1111111111111111,
              "#482878"
             ],
             [
              0.2222222222222222,
              "#3e4989"
             ],
             [
              0.3333333333333333,
              "#31688e"
             ],
             [
              0.4444444444444444,
              "#26828e"
             ],
             [
              0.5555555555555556,
              "#1f9e89"
             ],
             [
              0.6666666666666666,
              "#35b779"
             ],
             [
              0.7777777777777778,
              "#6ece58"
             ],
             [
              0.8888888888888888,
              "#b5de2b"
             ],
             [
              1,
              "#fde725"
             ]
            ],
            "type": "heatmap"
           }
          ],
          "heatmapgl": [
           {
            "colorbar": {
             "outlinewidth": 1,
             "tickcolor": "rgb(36,36,36)",
             "ticks": "outside"
            },
            "colorscale": [
             [
              0,
              "#440154"
             ],
             [
              0.1111111111111111,
              "#482878"
             ],
             [
              0.2222222222222222,
              "#3e4989"
             ],
             [
              0.3333333333333333,
              "#31688e"
             ],
             [
              0.4444444444444444,
              "#26828e"
             ],
             [
              0.5555555555555556,
              "#1f9e89"
             ],
             [
              0.6666666666666666,
              "#35b779"
             ],
             [
              0.7777777777777778,
              "#6ece58"
             ],
             [
              0.8888888888888888,
              "#b5de2b"
             ],
             [
              1,
              "#fde725"
             ]
            ],
            "type": "heatmapgl"
           }
          ],
          "histogram": [
           {
            "marker": {
             "line": {
              "color": "white",
              "width": 0.6
             }
            },
            "type": "histogram"
           }
          ],
          "histogram2d": [
           {
            "colorbar": {
             "outlinewidth": 1,
             "tickcolor": "rgb(36,36,36)",
             "ticks": "outside"
            },
            "colorscale": [
             [
              0,
              "#440154"
             ],
             [
              0.1111111111111111,
              "#482878"
             ],
             [
              0.2222222222222222,
              "#3e4989"
             ],
             [
              0.3333333333333333,
              "#31688e"
             ],
             [
              0.4444444444444444,
              "#26828e"
             ],
             [
              0.5555555555555556,
              "#1f9e89"
             ],
             [
              0.6666666666666666,
              "#35b779"
             ],
             [
              0.7777777777777778,
              "#6ece58"
             ],
             [
              0.8888888888888888,
              "#b5de2b"
             ],
             [
              1,
              "#fde725"
             ]
            ],
            "type": "histogram2d"
           }
          ],
          "histogram2dcontour": [
           {
            "colorbar": {
             "outlinewidth": 1,
             "tickcolor": "rgb(36,36,36)",
             "ticks": "outside"
            },
            "colorscale": [
             [
              0,
              "#440154"
             ],
             [
              0.1111111111111111,
              "#482878"
             ],
             [
              0.2222222222222222,
              "#3e4989"
             ],
             [
              0.3333333333333333,
              "#31688e"
             ],
             [
              0.4444444444444444,
              "#26828e"
             ],
             [
              0.5555555555555556,
              "#1f9e89"
             ],
             [
              0.6666666666666666,
              "#35b779"
             ],
             [
              0.7777777777777778,
              "#6ece58"
             ],
             [
              0.8888888888888888,
              "#b5de2b"
             ],
             [
              1,
              "#fde725"
             ]
            ],
            "type": "histogram2dcontour"
           }
          ],
          "mesh3d": [
           {
            "colorbar": {
             "outlinewidth": 1,
             "tickcolor": "rgb(36,36,36)",
             "ticks": "outside"
            },
            "type": "mesh3d"
           }
          ],
          "parcoords": [
           {
            "line": {
             "colorbar": {
              "outlinewidth": 1,
              "tickcolor": "rgb(36,36,36)",
              "ticks": "outside"
             }
            },
            "type": "parcoords"
           }
          ],
          "pie": [
           {
            "automargin": true,
            "type": "pie"
           }
          ],
          "scatter": [
           {
            "fillpattern": {
             "fillmode": "overlay",
             "size": 10,
             "solidity": 0.2
            },
            "type": "scatter"
           }
          ],
          "scatter3d": [
           {
            "line": {
             "colorbar": {
              "outlinewidth": 1,
              "tickcolor": "rgb(36,36,36)",
              "ticks": "outside"
             }
            },
            "marker": {
             "colorbar": {
              "outlinewidth": 1,
              "tickcolor": "rgb(36,36,36)",
              "ticks": "outside"
             }
            },
            "type": "scatter3d"
           }
          ],
          "scattercarpet": [
           {
            "marker": {
             "colorbar": {
              "outlinewidth": 1,
              "tickcolor": "rgb(36,36,36)",
              "ticks": "outside"
             }
            },
            "type": "scattercarpet"
           }
          ],
          "scattergeo": [
           {
            "marker": {
             "colorbar": {
              "outlinewidth": 1,
              "tickcolor": "rgb(36,36,36)",
              "ticks": "outside"
             }
            },
            "type": "scattergeo"
           }
          ],
          "scattergl": [
           {
            "marker": {
             "colorbar": {
              "outlinewidth": 1,
              "tickcolor": "rgb(36,36,36)",
              "ticks": "outside"
             }
            },
            "type": "scattergl"
           }
          ],
          "scattermapbox": [
           {
            "marker": {
             "colorbar": {
              "outlinewidth": 1,
              "tickcolor": "rgb(36,36,36)",
              "ticks": "outside"
             }
            },
            "type": "scattermapbox"
           }
          ],
          "scatterpolar": [
           {
            "marker": {
             "colorbar": {
              "outlinewidth": 1,
              "tickcolor": "rgb(36,36,36)",
              "ticks": "outside"
             }
            },
            "type": "scatterpolar"
           }
          ],
          "scatterpolargl": [
           {
            "marker": {
             "colorbar": {
              "outlinewidth": 1,
              "tickcolor": "rgb(36,36,36)",
              "ticks": "outside"
             }
            },
            "type": "scatterpolargl"
           }
          ],
          "scatterternary": [
           {
            "marker": {
             "colorbar": {
              "outlinewidth": 1,
              "tickcolor": "rgb(36,36,36)",
              "ticks": "outside"
             }
            },
            "type": "scatterternary"
           }
          ],
          "surface": [
           {
            "colorbar": {
             "outlinewidth": 1,
             "tickcolor": "rgb(36,36,36)",
             "ticks": "outside"
            },
            "colorscale": [
             [
              0,
              "#440154"
             ],
             [
              0.1111111111111111,
              "#482878"
             ],
             [
              0.2222222222222222,
              "#3e4989"
             ],
             [
              0.3333333333333333,
              "#31688e"
             ],
             [
              0.4444444444444444,
              "#26828e"
             ],
             [
              0.5555555555555556,
              "#1f9e89"
             ],
             [
              0.6666666666666666,
              "#35b779"
             ],
             [
              0.7777777777777778,
              "#6ece58"
             ],
             [
              0.8888888888888888,
              "#b5de2b"
             ],
             [
              1,
              "#fde725"
             ]
            ],
            "type": "surface"
           }
          ],
          "table": [
           {
            "cells": {
             "fill": {
              "color": "rgb(237,237,237)"
             },
             "line": {
              "color": "white"
             }
            },
            "header": {
             "fill": {
              "color": "rgb(217,217,217)"
             },
             "line": {
              "color": "white"
             }
            },
            "type": "table"
           }
          ]
         },
         "layout": {
          "annotationdefaults": {
           "arrowhead": 0,
           "arrowwidth": 1
          },
          "autotypenumbers": "strict",
          "coloraxis": {
           "colorbar": {
            "outlinewidth": 1,
            "tickcolor": "rgb(36,36,36)",
            "ticks": "outside"
           }
          },
          "colorscale": {
           "diverging": [
            [
             0,
             "rgb(103,0,31)"
            ],
            [
             0.1,
             "rgb(178,24,43)"
            ],
            [
             0.2,
             "rgb(214,96,77)"
            ],
            [
             0.3,
             "rgb(244,165,130)"
            ],
            [
             0.4,
             "rgb(253,219,199)"
            ],
            [
             0.5,
             "rgb(247,247,247)"
            ],
            [
             0.6,
             "rgb(209,229,240)"
            ],
            [
             0.7,
             "rgb(146,197,222)"
            ],
            [
             0.8,
             "rgb(67,147,195)"
            ],
            [
             0.9,
             "rgb(33,102,172)"
            ],
            [
             1,
             "rgb(5,48,97)"
            ]
           ],
           "sequential": [
            [
             0,
             "#440154"
            ],
            [
             0.1111111111111111,
             "#482878"
            ],
            [
             0.2222222222222222,
             "#3e4989"
            ],
            [
             0.3333333333333333,
             "#31688e"
            ],
            [
             0.4444444444444444,
             "#26828e"
            ],
            [
             0.5555555555555556,
             "#1f9e89"
            ],
            [
             0.6666666666666666,
             "#35b779"
            ],
            [
             0.7777777777777778,
             "#6ece58"
            ],
            [
             0.8888888888888888,
             "#b5de2b"
            ],
            [
             1,
             "#fde725"
            ]
           ],
           "sequentialminus": [
            [
             0,
             "#440154"
            ],
            [
             0.1111111111111111,
             "#482878"
            ],
            [
             0.2222222222222222,
             "#3e4989"
            ],
            [
             0.3333333333333333,
             "#31688e"
            ],
            [
             0.4444444444444444,
             "#26828e"
            ],
            [
             0.5555555555555556,
             "#1f9e89"
            ],
            [
             0.6666666666666666,
             "#35b779"
            ],
            [
             0.7777777777777778,
             "#6ece58"
            ],
            [
             0.8888888888888888,
             "#b5de2b"
            ],
            [
             1,
             "#fde725"
            ]
           ]
          },
          "colorway": [
           "#1F77B4",
           "#FF7F0E",
           "#2CA02C",
           "#D62728",
           "#9467BD",
           "#8C564B",
           "#E377C2",
           "#7F7F7F",
           "#BCBD22",
           "#17BECF"
          ],
          "font": {
           "color": "rgb(36,36,36)"
          },
          "geo": {
           "bgcolor": "white",
           "lakecolor": "white",
           "landcolor": "white",
           "showlakes": true,
           "showland": true,
           "subunitcolor": "white"
          },
          "hoverlabel": {
           "align": "left"
          },
          "hovermode": "closest",
          "mapbox": {
           "style": "light"
          },
          "paper_bgcolor": "white",
          "plot_bgcolor": "white",
          "polar": {
           "angularaxis": {
            "gridcolor": "rgb(232,232,232)",
            "linecolor": "rgb(36,36,36)",
            "showgrid": false,
            "showline": true,
            "ticks": "outside"
           },
           "bgcolor": "white",
           "radialaxis": {
            "gridcolor": "rgb(232,232,232)",
            "linecolor": "rgb(36,36,36)",
            "showgrid": false,
            "showline": true,
            "ticks": "outside"
           }
          },
          "scene": {
           "xaxis": {
            "backgroundcolor": "white",
            "gridcolor": "rgb(232,232,232)",
            "gridwidth": 2,
            "linecolor": "rgb(36,36,36)",
            "showbackground": true,
            "showgrid": false,
            "showline": true,
            "ticks": "outside",
            "zeroline": false,
            "zerolinecolor": "rgb(36,36,36)"
           },
           "yaxis": {
            "backgroundcolor": "white",
            "gridcolor": "rgb(232,232,232)",
            "gridwidth": 2,
            "linecolor": "rgb(36,36,36)",
            "showbackground": true,
            "showgrid": false,
            "showline": true,
            "ticks": "outside",
            "zeroline": false,
            "zerolinecolor": "rgb(36,36,36)"
           },
           "zaxis": {
            "backgroundcolor": "white",
            "gridcolor": "rgb(232,232,232)",
            "gridwidth": 2,
            "linecolor": "rgb(36,36,36)",
            "showbackground": true,
            "showgrid": false,
            "showline": true,
            "ticks": "outside",
            "zeroline": false,
            "zerolinecolor": "rgb(36,36,36)"
           }
          },
          "shapedefaults": {
           "fillcolor": "black",
           "line": {
            "width": 0
           },
           "opacity": 0.3
          },
          "ternary": {
           "aaxis": {
            "gridcolor": "rgb(232,232,232)",
            "linecolor": "rgb(36,36,36)",
            "showgrid": false,
            "showline": true,
            "ticks": "outside"
           },
           "baxis": {
            "gridcolor": "rgb(232,232,232)",
            "linecolor": "rgb(36,36,36)",
            "showgrid": false,
            "showline": true,
            "ticks": "outside"
           },
           "bgcolor": "white",
           "caxis": {
            "gridcolor": "rgb(232,232,232)",
            "linecolor": "rgb(36,36,36)",
            "showgrid": false,
            "showline": true,
            "ticks": "outside"
           }
          },
          "title": {
           "x": 0.05
          },
          "xaxis": {
           "automargin": true,
           "gridcolor": "rgb(232,232,232)",
           "linecolor": "rgb(36,36,36)",
           "showgrid": false,
           "showline": true,
           "ticks": "outside",
           "title": {
            "standoff": 15
           },
           "zeroline": false,
           "zerolinecolor": "rgb(36,36,36)"
          },
          "yaxis": {
           "automargin": true,
           "gridcolor": "rgb(232,232,232)",
           "linecolor": "rgb(36,36,36)",
           "showgrid": false,
           "showline": true,
           "ticks": "outside",
           "title": {
            "standoff": 15
           },
           "zeroline": false,
           "zerolinecolor": "rgb(36,36,36)"
          }
         }
        },
        "title": {
         "font": {
          "color": "Black",
          "size": 22
         },
         "text": "<b>Topic Probability Distribution</b>",
         "x": 0.5,
         "xanchor": "center",
         "y": 0.95,
         "yanchor": "top"
        },
        "width": 800,
        "xaxis": {
         "title": {
          "text": "Probability"
         }
        }
       }
      }
     },
     "metadata": {},
     "output_type": "display_data"
    }
   ],
   "source": [
    "# topic distributions\n",
    "i = 4\n",
    "topic_distr, topic_token_distr = model.approximate_distribution(df['tokens'], calculate_tokens=True)\n",
    "model.visualize_distribution(topic_distr[i])"
   ]
  },
  {
   "cell_type": "code",
   "execution_count": 146,
   "metadata": {},
   "outputs": [
    {
     "data": {
      "text/plain": [
       "array([1., 0., 0., 0., 0., 0., 0.])"
      ]
     },
     "execution_count": 146,
     "metadata": {},
     "output_type": "execute_result"
    }
   ],
   "source": [
    "topic_distr[0]"
   ]
  },
  {
   "cell_type": "code",
   "execution_count": 115,
   "metadata": {},
   "outputs": [
    {
     "data": {
      "text/html": [
       "<style type=\"text/css\">\n",
       "#T_f25b2_row0_col0, #T_f25b2_row0_col1, #T_f25b2_row0_col12, #T_f25b2_row0_col13, #T_f25b2_row0_col14, #T_f25b2_row0_col15, #T_f25b2_row0_col16, #T_f25b2_row0_col17, #T_f25b2_row0_col18, #T_f25b2_row0_col19, #T_f25b2_row1_col0, #T_f25b2_row1_col1, #T_f25b2_row1_col2, #T_f25b2_row1_col3, #T_f25b2_row1_col4, #T_f25b2_row1_col5, #T_f25b2_row1_col6, #T_f25b2_row1_col12, #T_f25b2_row1_col13, #T_f25b2_row1_col14, #T_f25b2_row1_col15, #T_f25b2_row1_col16, #T_f25b2_row1_col17, #T_f25b2_row1_col18, #T_f25b2_row1_col19 {\n",
       "  background-color: #f7fbff;\n",
       "  color: #000000;\n",
       "  color: white;\n",
       "  background-color: white;\n",
       "}\n",
       "#T_f25b2_row0_col2, #T_f25b2_row0_col11, #T_f25b2_row2_col19 {\n",
       "  background-color: #dfebf7;\n",
       "  color: #000000;\n",
       "  color: black;\n",
       "}\n",
       "#T_f25b2_row0_col3, #T_f25b2_row0_col4, #T_f25b2_row0_col5 {\n",
       "  background-color: #c9ddf0;\n",
       "  color: #000000;\n",
       "  color: black;\n",
       "}\n",
       "#T_f25b2_row0_col6 {\n",
       "  background-color: #e1edf8;\n",
       "  color: #000000;\n",
       "  color: black;\n",
       "}\n",
       "#T_f25b2_row0_col7 {\n",
       "  background-color: #ddeaf7;\n",
       "  color: #000000;\n",
       "  color: black;\n",
       "}\n",
       "#T_f25b2_row0_col8, #T_f25b2_row0_col9, #T_f25b2_row0_col10, #T_f25b2_row2_col18 {\n",
       "  background-color: #c4daee;\n",
       "  color: #000000;\n",
       "  color: black;\n",
       "}\n",
       "#T_f25b2_row1_col7 {\n",
       "  background-color: #deebf7;\n",
       "  color: #000000;\n",
       "  color: black;\n",
       "}\n",
       "#T_f25b2_row1_col8, #T_f25b2_row1_col9, #T_f25b2_row1_col10 {\n",
       "  background-color: #c7dcef;\n",
       "  color: #000000;\n",
       "  color: black;\n",
       "}\n",
       "#T_f25b2_row1_col11 {\n",
       "  background-color: #dfecf7;\n",
       "  color: #000000;\n",
       "  color: black;\n",
       "}\n",
       "#T_f25b2_row2_col0 {\n",
       "  background-color: #d6e5f4;\n",
       "  color: #000000;\n",
       "  color: black;\n",
       "}\n",
       "#T_f25b2_row2_col1 {\n",
       "  background-color: #94c4df;\n",
       "  color: #000000;\n",
       "  color: black;\n",
       "}\n",
       "#T_f25b2_row2_col2 {\n",
       "  background-color: #4695c8;\n",
       "  color: #f1f1f1;\n",
       "  color: black;\n",
       "}\n",
       "#T_f25b2_row2_col3 {\n",
       "  background-color: #135fa7;\n",
       "  color: #f1f1f1;\n",
       "  color: black;\n",
       "}\n",
       "#T_f25b2_row2_col4 {\n",
       "  background-color: #115ca5;\n",
       "  color: #f1f1f1;\n",
       "  color: black;\n",
       "}\n",
       "#T_f25b2_row2_col5 {\n",
       "  background-color: #1c6ab0;\n",
       "  color: #f1f1f1;\n",
       "  color: black;\n",
       "}\n",
       "#T_f25b2_row2_col6 {\n",
       "  background-color: #1663aa;\n",
       "  color: #f1f1f1;\n",
       "  color: black;\n",
       "}\n",
       "#T_f25b2_row2_col7 {\n",
       "  background-color: #084b93;\n",
       "  color: #f1f1f1;\n",
       "  color: black;\n",
       "}\n",
       "#T_f25b2_row2_col8 {\n",
       "  background-color: #083877;\n",
       "  color: #f1f1f1;\n",
       "  color: black;\n",
       "}\n",
       "#T_f25b2_row2_col9 {\n",
       "  background-color: #08306b;\n",
       "  color: #f1f1f1;\n",
       "  color: black;\n",
       "}\n",
       "#T_f25b2_row2_col10 {\n",
       "  background-color: #084990;\n",
       "  color: #f1f1f1;\n",
       "  color: black;\n",
       "}\n",
       "#T_f25b2_row2_col11 {\n",
       "  background-color: #2777b8;\n",
       "  color: #f1f1f1;\n",
       "  color: black;\n",
       "}\n",
       "#T_f25b2_row2_col12 {\n",
       "  background-color: #4d99ca;\n",
       "  color: #f1f1f1;\n",
       "  color: black;\n",
       "}\n",
       "#T_f25b2_row2_col13 {\n",
       "  background-color: #6aaed6;\n",
       "  color: #f1f1f1;\n",
       "  color: black;\n",
       "}\n",
       "#T_f25b2_row2_col14 {\n",
       "  background-color: #6dafd7;\n",
       "  color: #f1f1f1;\n",
       "  color: black;\n",
       "}\n",
       "#T_f25b2_row2_col15 {\n",
       "  background-color: #69add5;\n",
       "  color: #f1f1f1;\n",
       "  color: black;\n",
       "}\n",
       "#T_f25b2_row2_col16 {\n",
       "  background-color: #68acd5;\n",
       "  color: #f1f1f1;\n",
       "  color: black;\n",
       "}\n",
       "#T_f25b2_row2_col17 {\n",
       "  background-color: #99c7e0;\n",
       "  color: #000000;\n",
       "  color: black;\n",
       "}\n",
       "</style>\n",
       "<table id=\"T_f25b2\">\n",
       "  <thead>\n",
       "    <tr>\n",
       "      <th class=\"blank level0\" >&nbsp;</th>\n",
       "      <th id=\"T_f25b2_level0_col0\" class=\"col_heading level0 col0\" >store</th>\n",
       "      <th id=\"T_f25b2_level0_col1\" class=\"col_heading level0 col1\" >good </th>\n",
       "      <th id=\"T_f25b2_level0_col2\" class=\"col_heading level0 col2\" >durable  </th>\n",
       "      <th id=\"T_f25b2_level0_col3\" class=\"col_heading level0 col3\" >cross   </th>\n",
       "      <th id=\"T_f25b2_level0_col4\" class=\"col_heading level0 col4\" >training    </th>\n",
       "      <th id=\"T_f25b2_level0_col5\" class=\"col_heading level0 col5\" >shoe     </th>\n",
       "      <th id=\"T_f25b2_level0_col6\" class=\"col_heading level0 col6\" >rigorous      </th>\n",
       "      <th id=\"T_f25b2_level0_col7\" class=\"col_heading level0 col7\" >training       </th>\n",
       "      <th id=\"T_f25b2_level0_col8\" class=\"col_heading level0 col8\" >great        </th>\n",
       "      <th id=\"T_f25b2_level0_col9\" class=\"col_heading level0 col9\" >light         </th>\n",
       "      <th id=\"T_f25b2_level0_col10\" class=\"col_heading level0 col10\" >comfortable          </th>\n",
       "      <th id=\"T_f25b2_level0_col11\" class=\"col_heading level0 col11\" >grip           </th>\n",
       "      <th id=\"T_f25b2_level0_col12\" class=\"col_heading level0 col12\" >bottom            </th>\n",
       "      <th id=\"T_f25b2_level0_col13\" class=\"col_heading level0 col13\" >foot             </th>\n",
       "      <th id=\"T_f25b2_level0_col14\" class=\"col_heading level0 col14\" >plank              </th>\n",
       "      <th id=\"T_f25b2_level0_col15\" class=\"col_heading level0 col15\" >push               </th>\n",
       "      <th id=\"T_f25b2_level0_col16\" class=\"col_heading level0 col16\" >up                </th>\n",
       "      <th id=\"T_f25b2_level0_col17\" class=\"col_heading level0 col17\" >etc                 </th>\n",
       "      <th id=\"T_f25b2_level0_col18\" class=\"col_heading level0 col18\" >satisfied                  </th>\n",
       "      <th id=\"T_f25b2_level0_col19\" class=\"col_heading level0 col19\" >purchase                   </th>\n",
       "    </tr>\n",
       "  </thead>\n",
       "  <tbody>\n",
       "    <tr>\n",
       "      <th id=\"T_f25b2_level0_row0\" class=\"row_heading level0 row0\" >0_shoe_foot_comfortable_pair</th>\n",
       "      <td id=\"T_f25b2_row0_col0\" class=\"data row0 col0\" >0.000</td>\n",
       "      <td id=\"T_f25b2_row0_col1\" class=\"data row0 col1\" >0.000</td>\n",
       "      <td id=\"T_f25b2_row0_col2\" class=\"data row0 col2\" >0.113</td>\n",
       "      <td id=\"T_f25b2_row0_col3\" class=\"data row0 col3\" >0.216</td>\n",
       "      <td id=\"T_f25b2_row0_col4\" class=\"data row0 col4\" >0.216</td>\n",
       "      <td id=\"T_f25b2_row0_col5\" class=\"data row0 col5\" >0.216</td>\n",
       "      <td id=\"T_f25b2_row0_col6\" class=\"data row0 col6\" >0.102</td>\n",
       "      <td id=\"T_f25b2_row0_col7\" class=\"data row0 col7\" >0.119</td>\n",
       "      <td id=\"T_f25b2_row0_col8\" class=\"data row0 col8\" >0.233</td>\n",
       "      <td id=\"T_f25b2_row0_col9\" class=\"data row0 col9\" >0.233</td>\n",
       "      <td id=\"T_f25b2_row0_col10\" class=\"data row0 col10\" >0.233</td>\n",
       "      <td id=\"T_f25b2_row0_col11\" class=\"data row0 col11\" >0.114</td>\n",
       "      <td id=\"T_f25b2_row0_col12\" class=\"data row0 col12\" >0.000</td>\n",
       "      <td id=\"T_f25b2_row0_col13\" class=\"data row0 col13\" >0.000</td>\n",
       "      <td id=\"T_f25b2_row0_col14\" class=\"data row0 col14\" >0.000</td>\n",
       "      <td id=\"T_f25b2_row0_col15\" class=\"data row0 col15\" >0.000</td>\n",
       "      <td id=\"T_f25b2_row0_col16\" class=\"data row0 col16\" >0.000</td>\n",
       "      <td id=\"T_f25b2_row0_col17\" class=\"data row0 col17\" >0.000</td>\n",
       "      <td id=\"T_f25b2_row0_col18\" class=\"data row0 col18\" >0.000</td>\n",
       "      <td id=\"T_f25b2_row0_col19\" class=\"data row0 col19\" >0.000</td>\n",
       "    </tr>\n",
       "    <tr>\n",
       "      <th id=\"T_f25b2_level0_row1\" class=\"row_heading level0 row1\" >1_comfortable_color_size_fit</th>\n",
       "      <td id=\"T_f25b2_row1_col0\" class=\"data row1 col0\" >0.000</td>\n",
       "      <td id=\"T_f25b2_row1_col1\" class=\"data row1 col1\" >0.000</td>\n",
       "      <td id=\"T_f25b2_row1_col2\" class=\"data row1 col2\" >0.000</td>\n",
       "      <td id=\"T_f25b2_row1_col3\" class=\"data row1 col3\" >0.000</td>\n",
       "      <td id=\"T_f25b2_row1_col4\" class=\"data row1 col4\" >0.000</td>\n",
       "      <td id=\"T_f25b2_row1_col5\" class=\"data row1 col5\" >0.000</td>\n",
       "      <td id=\"T_f25b2_row1_col6\" class=\"data row1 col6\" >0.000</td>\n",
       "      <td id=\"T_f25b2_row1_col7\" class=\"data row1 col7\" >0.116</td>\n",
       "      <td id=\"T_f25b2_row1_col8\" class=\"data row1 col8\" >0.224</td>\n",
       "      <td id=\"T_f25b2_row1_col9\" class=\"data row1 col9\" >0.224</td>\n",
       "      <td id=\"T_f25b2_row1_col10\" class=\"data row1 col10\" >0.224</td>\n",
       "      <td id=\"T_f25b2_row1_col11\" class=\"data row1 col11\" >0.108</td>\n",
       "      <td id=\"T_f25b2_row1_col12\" class=\"data row1 col12\" >0.000</td>\n",
       "      <td id=\"T_f25b2_row1_col13\" class=\"data row1 col13\" >0.000</td>\n",
       "      <td id=\"T_f25b2_row1_col14\" class=\"data row1 col14\" >0.000</td>\n",
       "      <td id=\"T_f25b2_row1_col15\" class=\"data row1 col15\" >0.000</td>\n",
       "      <td id=\"T_f25b2_row1_col16\" class=\"data row1 col16\" >0.000</td>\n",
       "      <td id=\"T_f25b2_row1_col17\" class=\"data row1 col17\" >0.000</td>\n",
       "      <td id=\"T_f25b2_row1_col18\" class=\"data row1 col18\" >0.000</td>\n",
       "      <td id=\"T_f25b2_row1_col19\" class=\"data row1 col19\" >0.000</td>\n",
       "    </tr>\n",
       "    <tr>\n",
       "      <th id=\"T_f25b2_level0_row2\" class=\"row_heading level0 row2\" >2_light_comfortable_great_training</th>\n",
       "      <td id=\"T_f25b2_row2_col0\" class=\"data row2 col0\" >0.154</td>\n",
       "      <td id=\"T_f25b2_row2_col1\" class=\"data row2 col1\" >0.369</td>\n",
       "      <td id=\"T_f25b2_row2_col2\" class=\"data row2 col2\" >0.560</td>\n",
       "      <td id=\"T_f25b2_row2_col3\" class=\"data row2 col3\" >0.750</td>\n",
       "      <td id=\"T_f25b2_row2_col4\" class=\"data row2 col4\" >0.760</td>\n",
       "      <td id=\"T_f25b2_row2_col5\" class=\"data row2 col5\" >0.712</td>\n",
       "      <td id=\"T_f25b2_row2_col6\" class=\"data row2 col6\" >0.736</td>\n",
       "      <td id=\"T_f25b2_row2_col7\" class=\"data row2 col7\" >0.821</td>\n",
       "      <td id=\"T_f25b2_row2_col8\" class=\"data row2 col8\" >0.887</td>\n",
       "      <td id=\"T_f25b2_row2_col9\" class=\"data row2 col9\" >0.917</td>\n",
       "      <td id=\"T_f25b2_row2_col10\" class=\"data row2 col10\" >0.830</td>\n",
       "      <td id=\"T_f25b2_row2_col11\" class=\"data row2 col11\" >0.663</td>\n",
       "      <td id=\"T_f25b2_row2_col12\" class=\"data row2 col12\" >0.543</td>\n",
       "      <td id=\"T_f25b2_row2_col13\" class=\"data row2 col13\" >0.459</td>\n",
       "      <td id=\"T_f25b2_row2_col14\" class=\"data row2 col14\" >0.452</td>\n",
       "      <td id=\"T_f25b2_row2_col15\" class=\"data row2 col15\" >0.463</td>\n",
       "      <td id=\"T_f25b2_row2_col16\" class=\"data row2 col16\" >0.467</td>\n",
       "      <td id=\"T_f25b2_row2_col17\" class=\"data row2 col17\" >0.356</td>\n",
       "      <td id=\"T_f25b2_row2_col18\" class=\"data row2 col18\" >0.234</td>\n",
       "      <td id=\"T_f25b2_row2_col19\" class=\"data row2 col19\" >0.114</td>\n",
       "    </tr>\n",
       "  </tbody>\n",
       "</table>\n"
      ],
      "text/plain": [
       "<pandas.io.formats.style.Styler at 0x1a7c9a72dd0>"
      ]
     },
     "execution_count": 115,
     "metadata": {},
     "output_type": "execute_result"
    }
   ],
   "source": [
    "model.visualize_approximate_distribution(df['tokens'][i], topic_token_distr[i])"
   ]
  }
 ],
 "metadata": {
  "kernelspec": {
   "display_name": "venv",
   "language": "python",
   "name": "python3"
  },
  "language_info": {
   "codemirror_mode": {
    "name": "ipython",
    "version": 3
   },
   "file_extension": ".py",
   "mimetype": "text/x-python",
   "name": "python",
   "nbconvert_exporter": "python",
   "pygments_lexer": "ipython3",
   "version": "3.9.12"
  },
  "orig_nbformat": 4
 },
 "nbformat": 4,
 "nbformat_minor": 2
}
