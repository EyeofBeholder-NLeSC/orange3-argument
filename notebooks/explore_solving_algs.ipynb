{
 "cells": [
  {
   "cell_type": "markdown",
   "metadata": {},
   "source": [
    "This notebook is to try to implement the Quadratic Energy algorithm that is mentioned in this paper: https://www.ifaamas.org/Proceedings/aamas2019/pdfs/p1722.pdf. For the other solving algorithms of the acceptibility semantics, since they follows a similar pipeline, it's easy to development them by starting from what we will have below. \n",
    "\n",
    "To validate the algorithm correctness, we use the stock example mentioned in this notebook: https://github.com/nicopotyka/Uncertainpy/blob/master/examples/gradual/gradual_argumentation_examples.ipynb."
   ]
  },
  {
   "cell_type": "code",
   "execution_count": 61,
   "metadata": {},
   "outputs": [],
   "source": [
    "import numpy as np\n",
    "\n",
    "# sample graph: a -> b <- c\n",
    "vs = np.array([[0, 0, 0], [-1, 0, -1], [0, 0, 0]])\n",
    "weights = np.array([0.5, 0.8, 0.2])"
   ]
  },
  {
   "cell_type": "code",
   "execution_count": 50,
   "metadata": {},
   "outputs": [],
   "source": [
    "def aggreg_sum(v_parent: np.ndarray, v_strengh: np.ndarray):\n",
    "    if v_parent.size != v_strengh.size:\n",
    "        raise ValueError(f\"Size of input vectors should be the same, but now {v_parent.size} and {v_strengh.size}\")\n",
    "    return v_parent @ v_strengh\n",
    "\n",
    "def infl_pmax(aggreg_strengh: float, weight: float, p: int=2, k: float=1):\n",
    "    h = lambda x: max(0, x) ** p / (1 + max(0, x) ** p)\n",
    "    return weight * (1 - h(-aggreg_strengh / k) + h(aggreg_strengh / k))\n",
    "    \n",
    "def update(vs_parent: np.ndarray, v_strengh: np.ndarray, v_weight: np.ndarray):\n",
    "    result = []\n",
    "    for i in range(vs_parent.shape[0]):\n",
    "        aggreg_s = aggreg_sum(v_parent=vs_parent[i], v_strengh=v_strengh) \n",
    "        updated_strength = infl_pmax(aggreg_strengh=aggreg_s, weight=v_weight[i]) \n",
    "        result.append(updated_strength)\n",
    "    return np.array(result)"
   ]
  },
  {
   "cell_type": "code",
   "execution_count": 62,
   "metadata": {},
   "outputs": [
    {
     "data": {
      "text/plain": [
       "array([0.5       , 0.53691275, 0.2       ])"
      ]
     },
     "execution_count": 62,
     "metadata": {},
     "output_type": "execute_result"
    }
   ],
   "source": [
    "update(vs_parent=vs, v_strengh=weights, v_weight=weights)"
   ]
  }
 ],
 "metadata": {
  "kernelspec": {
   "display_name": "venv",
   "language": "python",
   "name": "python3"
  },
  "language_info": {
   "codemirror_mode": {
    "name": "ipython",
    "version": 3
   },
   "file_extension": ".py",
   "mimetype": "text/x-python",
   "name": "python",
   "nbconvert_exporter": "python",
   "pygments_lexer": "ipython3",
   "version": "3.10.12"
  }
 },
 "nbformat": 4,
 "nbformat_minor": 2
}
