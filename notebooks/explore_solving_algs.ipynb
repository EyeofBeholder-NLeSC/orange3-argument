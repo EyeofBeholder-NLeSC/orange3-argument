{
 "cells": [
  {
   "cell_type": "markdown",
   "metadata": {},
   "source": [
    "This notebook is to try to implement the Quadratic Energy algorithm that is mentioned in this paper: https://www.ifaamas.org/Proceedings/aamas2019/pdfs/p1722.pdf. For the other solving algorithms of the acceptibility semantics, since they follows a similar pipeline, it's easy to development them by starting from what we will have below. \n",
    "\n",
    "To validate the algorithm correctness, we use the stock example mentioned in this notebook: https://github.com/nicopotyka/Uncertainpy/blob/master/examples/gradual/gradual_argumentation_examples.ipynb."
   ]
  },
  {
   "cell_type": "code",
   "execution_count": 1,
   "metadata": {},
   "outputs": [],
   "source": [
    "import numpy as np\n",
    "\n",
    "# A simple example: BAG containing three arguments {a, b, c} \n",
    "# links: attack(a, b), attack(c, b), support(c, a)\n",
    "vs = np.array([[0, 0, 1], [-1, 0, -1], [0, 0, 0]])\n",
    "weights = np.array([0.5, 0.8, 0.2])\n",
    "step_size = 10e-2\n",
    "epsilon = 10e-4\n",
    "max_iter = 1000000"
   ]
  },
  {
   "cell_type": "code",
   "execution_count": 2,
   "metadata": {},
   "outputs": [],
   "source": [
    "# implementation of the aggretation and influence algorithms\n",
    "# as well as the corresponding update process of single step\n",
    "\n",
    "def aggreg_sum(v_parent: np.ndarray, v_strength: np.ndarray):\n",
    "    if v_parent.size != v_strength.size:\n",
    "        raise ValueError(f\"Size of input vectors should be the same, but now {v_parent.size} and {v_strength.size}\")\n",
    "    return v_parent @ v_strength\n",
    "\n",
    "def infl_pmax(aggreg_strength: float, weight: float, p: int=2, k: float=1):\n",
    "    h = lambda x: max(0, x) ** p / (1 + max(0, x) ** p)\n",
    "    return weight * (1 - h(-aggreg_strength / k) + h(aggreg_strength / k))\n",
    "    \n",
    "def compute_delta(vs_parent: np.ndarray, v_strength: np.ndarray, v_weight: np.ndarray):\n",
    "    result = []\n",
    "    for i in range(vs_parent.shape[0]):\n",
    "        aggreg_s = aggreg_sum(v_parent=vs_parent[i], v_strength=v_strength) \n",
    "        updated_strength = infl_pmax(aggreg_strength=aggreg_s, weight=v_weight[i]) \n",
    "        result.append(updated_strength)\n",
    "    return np.array(result) - v_strength"
   ]
  },
  {
   "cell_type": "code",
   "execution_count": 4,
   "metadata": {},
   "outputs": [],
   "source": [
    "# RK4 approximator implementation\n",
    "def rk4(v_strength: np.ndarray, weights: np.ndarray, step_size: float, max_iter: int):\n",
    "    for step in range(max_iter):\n",
    "        k1 = compute_delta(vs_parent=vs, v_strength=v_strength, v_weight=weights)\n",
    "        k2 = compute_delta(vs_parent=vs, v_strength=v_strength + 0.5 * step_size * k1, v_weight=weights)\n",
    "        k3 = compute_delta(vs_parent=vs, v_strength=v_strength + 0.5 * step_size * k2, v_weight=weights)\n",
    "        k4 = compute_delta(vs_parent=vs, v_strength=v_strength + step_size * k3, v_weight=weights)\n",
    "        delta = step_size * (k1 + 2 * k2 + 2 * k3 + k4) / 6 \n",
    "        v_strength += delta\n",
    "        step += 1\n",
    "        if abs(delta).max() < epsilon:\n",
    "            break \n",
    "    return step, v_strength"
   ]
  },
  {
   "cell_type": "code",
   "execution_count": 5,
   "metadata": {},
   "outputs": [
    {
     "name": "stdout",
     "output_type": "stream",
     "text": [
      "initial stength: [0.5 0.8 0.2]\n",
      "Convergence reached at step 35, final strenght: [0.51865005 0.53650836 0.2       ]\n"
     ]
    }
   ],
   "source": [
    "# Result is as expected,\n",
    "# s1 increase slightly, as the weight of argument 3 is relatively small, \n",
    "# s2 decreased significantly, as both 1 and 3 attack it.\n",
    "# s3 doesn't change, as no support or attack is targeting on 3.\n",
    "\n",
    "import copy\n",
    "\n",
    "v_strength = copy.deepcopy(weights) # weight as initial strength\n",
    "print(f\"initial stength: {v_strength}\")\n",
    "\n",
    "step, v_strength = rk4(v_strength=v_strength, weights=weights, step_size=step_size, max_iter=max_iter)\n",
    "\n",
    "print(f\"Convergence reached at step {step}, final strenght: {v_strength}\")"
   ]
  }
 ],
 "metadata": {
  "kernelspec": {
   "display_name": "venv",
   "language": "python",
   "name": "python3"
  },
  "language_info": {
   "codemirror_mode": {
    "name": "ipython",
    "version": 3
   },
   "file_extension": ".py",
   "mimetype": "text/x-python",
   "name": "python",
   "nbconvert_exporter": "python",
   "pygments_lexer": "ipython3",
   "version": "3.9.6"
  }
 },
 "nbformat": 4,
 "nbformat_minor": 2
}
